{
 "cells": [
  {
   "cell_type": "markdown",
   "id": "28fb544e",
   "metadata": {},
   "source": [
    "### Import Libraries"
   ]
  },
  {
   "cell_type": "code",
   "execution_count": 1,
   "id": "8c1ff526",
   "metadata": {},
   "outputs": [],
   "source": [
    "#Import Required Python Libraries\n",
    "import pandas as pd\n",
    "import numpy as np\n",
    "import matplotlib.pyplot as plt\n",
    "%matplotlib inline\n",
    "import seaborn as sns\n",
    "import warnings\n",
    "warnings.filterwarnings(\"ignore\")\n",
    "from sklearn.model_selection import train_test_split,GridSearchCV,cross_val_score,KFold\n",
    "from sklearn.feature_extraction.text import CountVectorizer,TfidfVectorizer\n",
    "from sklearn.linear_model import LogisticRegression\n",
    "from sklearn.metrics import accuracy_score,classification_report,plot_confusion_matrix,confusion_matrix,f1_score,roc_curve\n",
    "from sklearn.tree import DecisionTreeClassifier\n",
    "from sklearn.neighbors import KNeighborsClassifier\n",
    "from sklearn.ensemble import RandomForestClassifier,AdaBoostClassifier,GradientBoostingClassifier\n",
    "from sklearn.ensemble import StackingClassifier,VotingClassifier\n",
    "from sklearn.svm import SVC\n",
    "from sklearn.naive_bayes import MultinomialNB\n",
    "from tensorflow.keras.models import Sequential\n",
    "from tensorflow.keras.layers import Dense\n",
    "from tensorflow.keras.activations import relu,softmax\n",
    "from tensorflow.keras.optimizers import Adam\n",
    "from tensorflow.keras.losses import BinaryCrossentropy\n",
    "from scikeras.wrappers import KerasClassifier\n",
    "from sklearn.preprocessing import OneHotEncoder\n",
    "from tensorflow.keras.backend import clear_session\n",
    "from xgboost import XGBClassifier\n",
    "from lightgbm import LGBMClassifier\n",
    "from sklearn.preprocessing import LabelEncoder"
   ]
  },
  {
   "cell_type": "markdown",
   "id": "27f8f82e",
   "metadata": {},
   "source": [
    "### Import Data"
   ]
  },
  {
   "cell_type": "code",
   "execution_count": 2,
   "id": "6141a337",
   "metadata": {},
   "outputs": [
    {
     "data": {
      "text/html": [
       "<div>\n",
       "<style scoped>\n",
       "    .dataframe tbody tr th:only-of-type {\n",
       "        vertical-align: middle;\n",
       "    }\n",
       "\n",
       "    .dataframe tbody tr th {\n",
       "        vertical-align: top;\n",
       "    }\n",
       "\n",
       "    .dataframe thead th {\n",
       "        text-align: right;\n",
       "    }\n",
       "</style>\n",
       "<table border=\"1\" class=\"dataframe\">\n",
       "  <thead>\n",
       "    <tr style=\"text-align: right;\">\n",
       "      <th></th>\n",
       "      <th>Unnamed: 0</th>\n",
       "      <th>Review</th>\n",
       "      <th>Rating</th>\n",
       "      <th>Rating_Analysis</th>\n",
       "      <th>Cleaned_Review</th>\n",
       "      <th>Lemmatized_Review</th>\n",
       "      <th>subjectivity</th>\n",
       "      <th>polarity</th>\n",
       "      <th>sentiment_polarity</th>\n",
       "      <th>neg_senti_score</th>\n",
       "      <th>neu_senti_score</th>\n",
       "      <th>pos_senti_score</th>\n",
       "      <th>compound</th>\n",
       "      <th>Sentiment_Vader_Compound</th>\n",
       "      <th>sentiment_spacy_score</th>\n",
       "      <th>sentiment_spacy</th>\n",
       "      <th>no_chars</th>\n",
       "      <th>no_words</th>\n",
       "      <th>pos_tags_words</th>\n",
       "    </tr>\n",
       "  </thead>\n",
       "  <tbody>\n",
       "    <tr>\n",
       "      <th>0</th>\n",
       "      <td>0</td>\n",
       "      <td>nice hotel expensive parking got good deal sta...</td>\n",
       "      <td>4</td>\n",
       "      <td>Positive</td>\n",
       "      <td>nice hotel expensive parking good deal stay ho...</td>\n",
       "      <td>nice hotel expensive parking good deal stay ho...</td>\n",
       "      <td>0.723158</td>\n",
       "      <td>0.229599</td>\n",
       "      <td>Positive</td>\n",
       "      <td>0.064</td>\n",
       "      <td>0.608</td>\n",
       "      <td>0.329</td>\n",
       "      <td>0.9769</td>\n",
       "      <td>Positive</td>\n",
       "      <td>5</td>\n",
       "      <td>Positive</td>\n",
       "      <td>484</td>\n",
       "      <td>73</td>\n",
       "      <td>nice expensive good stay anniversary arrive la...</td>\n",
       "    </tr>\n",
       "    <tr>\n",
       "      <th>1</th>\n",
       "      <td>1</td>\n",
       "      <td>ok nothing special charge diamond member hilto...</td>\n",
       "      <td>2</td>\n",
       "      <td>Negative</td>\n",
       "      <td>special charge diamond member hilton decided c...</td>\n",
       "      <td>special charge diamond member hilton decide ch...</td>\n",
       "      <td>0.534312</td>\n",
       "      <td>0.222302</td>\n",
       "      <td>Positive</td>\n",
       "      <td>0.049</td>\n",
       "      <td>0.735</td>\n",
       "      <td>0.216</td>\n",
       "      <td>0.9904</td>\n",
       "      <td>Positive</td>\n",
       "      <td>12</td>\n",
       "      <td>Positive</td>\n",
       "      <td>1410</td>\n",
       "      <td>205</td>\n",
       "      <td>special shot anniversary seattle suite extra w...</td>\n",
       "    </tr>\n",
       "    <tr>\n",
       "      <th>2</th>\n",
       "      <td>2</td>\n",
       "      <td>nice rooms not 4* experience hotel monaco seat...</td>\n",
       "      <td>3</td>\n",
       "      <td>Neutral</td>\n",
       "      <td>nice rooms experience hotel monaco seattle goo...</td>\n",
       "      <td>nice room experience hotel monaco seattle good...</td>\n",
       "      <td>0.598765</td>\n",
       "      <td>0.341534</td>\n",
       "      <td>Positive</td>\n",
       "      <td>0.048</td>\n",
       "      <td>0.677</td>\n",
       "      <td>0.275</td>\n",
       "      <td>0.9937</td>\n",
       "      <td>Positive</td>\n",
       "      <td>10</td>\n",
       "      <td>Positive</td>\n",
       "      <td>1197</td>\n",
       "      <td>174</td>\n",
       "      <td>nice seattle good large comfortable pillowsatt...</td>\n",
       "    </tr>\n",
       "    <tr>\n",
       "      <th>3</th>\n",
       "      <td>3</td>\n",
       "      <td>unique, great stay, wonderful time hotel monac...</td>\n",
       "      <td>5</td>\n",
       "      <td>Positive</td>\n",
       "      <td>unique great stay wonderful time hotel monaco ...</td>\n",
       "      <td>unique great stay wonderful time hotel monaco ...</td>\n",
       "      <td>0.691228</td>\n",
       "      <td>0.504825</td>\n",
       "      <td>Positive</td>\n",
       "      <td>0.000</td>\n",
       "      <td>0.564</td>\n",
       "      <td>0.436</td>\n",
       "      <td>0.9940</td>\n",
       "      <td>Positive</td>\n",
       "      <td>14</td>\n",
       "      <td>Positive</td>\n",
       "      <td>523</td>\n",
       "      <td>80</td>\n",
       "      <td>unique great wonderful excellent short main fr...</td>\n",
       "    </tr>\n",
       "    <tr>\n",
       "      <th>4</th>\n",
       "      <td>4</td>\n",
       "      <td>great stay great stay, went seahawk game aweso...</td>\n",
       "      <td>5</td>\n",
       "      <td>Positive</td>\n",
       "      <td>great stay great stay seahawk game awesome dow...</td>\n",
       "      <td>great stay great stay seahawk game awesome dow...</td>\n",
       "      <td>0.696753</td>\n",
       "      <td>0.475649</td>\n",
       "      <td>Positive</td>\n",
       "      <td>0.078</td>\n",
       "      <td>0.623</td>\n",
       "      <td>0.299</td>\n",
       "      <td>0.9929</td>\n",
       "      <td>Positive</td>\n",
       "      <td>5</td>\n",
       "      <td>Positive</td>\n",
       "      <td>1007</td>\n",
       "      <td>155</td>\n",
       "      <td>great great seahawk awesome build huge helpful...</td>\n",
       "    </tr>\n",
       "  </tbody>\n",
       "</table>\n",
       "</div>"
      ],
      "text/plain": [
       "   Unnamed: 0                                             Review  Rating  \\\n",
       "0           0  nice hotel expensive parking got good deal sta...       4   \n",
       "1           1  ok nothing special charge diamond member hilto...       2   \n",
       "2           2  nice rooms not 4* experience hotel monaco seat...       3   \n",
       "3           3  unique, great stay, wonderful time hotel monac...       5   \n",
       "4           4  great stay great stay, went seahawk game aweso...       5   \n",
       "\n",
       "  Rating_Analysis                                     Cleaned_Review  \\\n",
       "0        Positive  nice hotel expensive parking good deal stay ho...   \n",
       "1        Negative  special charge diamond member hilton decided c...   \n",
       "2         Neutral  nice rooms experience hotel monaco seattle goo...   \n",
       "3        Positive  unique great stay wonderful time hotel monaco ...   \n",
       "4        Positive  great stay great stay seahawk game awesome dow...   \n",
       "\n",
       "                                   Lemmatized_Review  subjectivity  polarity  \\\n",
       "0  nice hotel expensive parking good deal stay ho...      0.723158  0.229599   \n",
       "1  special charge diamond member hilton decide ch...      0.534312  0.222302   \n",
       "2  nice room experience hotel monaco seattle good...      0.598765  0.341534   \n",
       "3  unique great stay wonderful time hotel monaco ...      0.691228  0.504825   \n",
       "4  great stay great stay seahawk game awesome dow...      0.696753  0.475649   \n",
       "\n",
       "  sentiment_polarity  neg_senti_score  neu_senti_score  pos_senti_score  \\\n",
       "0           Positive            0.064            0.608            0.329   \n",
       "1           Positive            0.049            0.735            0.216   \n",
       "2           Positive            0.048            0.677            0.275   \n",
       "3           Positive            0.000            0.564            0.436   \n",
       "4           Positive            0.078            0.623            0.299   \n",
       "\n",
       "   compound Sentiment_Vader_Compound  sentiment_spacy_score sentiment_spacy  \\\n",
       "0    0.9769                 Positive                      5        Positive   \n",
       "1    0.9904                 Positive                     12        Positive   \n",
       "2    0.9937                 Positive                     10        Positive   \n",
       "3    0.9940                 Positive                     14        Positive   \n",
       "4    0.9929                 Positive                      5        Positive   \n",
       "\n",
       "   no_chars  no_words                                     pos_tags_words  \n",
       "0       484        73  nice expensive good stay anniversary arrive la...  \n",
       "1      1410       205  special shot anniversary seattle suite extra w...  \n",
       "2      1197       174  nice seattle good large comfortable pillowsatt...  \n",
       "3       523        80  unique great wonderful excellent short main fr...  \n",
       "4      1007       155  great great seahawk awesome build huge helpful...  "
      ]
     },
     "execution_count": 2,
     "metadata": {},
     "output_type": "execute_result"
    }
   ],
   "source": [
    "df = pd.read_excel('Processed_data.xlsx')\n",
    "df.head()"
   ]
  },
  {
   "cell_type": "markdown",
   "id": "75a0689e",
   "metadata": {},
   "source": [
    "### Data Preparation"
   ]
  },
  {
   "cell_type": "code",
   "execution_count": 3,
   "id": "65a47021",
   "metadata": {},
   "outputs": [],
   "source": [
    "X=df['Lemmatized_Review']\n",
    "y=df['Rating']"
   ]
  },
  {
   "cell_type": "code",
   "execution_count": 4,
   "id": "fc22c41e",
   "metadata": {},
   "outputs": [
    {
     "data": {
      "text/plain": [
       "((20491,), (20491,))"
      ]
     },
     "execution_count": 4,
     "metadata": {},
     "output_type": "execute_result"
    }
   ],
   "source": [
    "X.shape,y.shape"
   ]
  },
  {
   "cell_type": "code",
   "execution_count": 5,
   "id": "b5b3fd7b",
   "metadata": {},
   "outputs": [],
   "source": [
    "X_train,X_test,y_train,y_test=train_test_split(X,y,test_size=0.2,random_state=42,stratify=y)"
   ]
  },
  {
   "cell_type": "code",
   "execution_count": 6,
   "id": "baef8a99",
   "metadata": {},
   "outputs": [
    {
     "data": {
      "text/plain": [
       "((16392,), (4099,), (16392,), (4099,))"
      ]
     },
     "execution_count": 6,
     "metadata": {},
     "output_type": "execute_result"
    }
   ],
   "source": [
    "X_train.shape,X_test.shape,y_train.shape,y_test.shape"
   ]
  },
  {
   "cell_type": "markdown",
   "id": "ebcc0928",
   "metadata": {},
   "source": [
    "### TF - IDF Vectorization"
   ]
  },
  {
   "cell_type": "code",
   "execution_count": 7,
   "id": "14ee5827",
   "metadata": {},
   "outputs": [],
   "source": [
    "tf_idf = TfidfVectorizer(ngram_range=(1,2),max_features=10000)"
   ]
  },
  {
   "cell_type": "code",
   "execution_count": 8,
   "id": "6d27c63c",
   "metadata": {},
   "outputs": [
    {
     "data": {
      "text/plain": [
       "array([[0., 0., 0., ..., 0., 0., 0.],\n",
       "       [0., 0., 0., ..., 0., 0., 0.],\n",
       "       [0., 0., 0., ..., 0., 0., 0.],\n",
       "       ...,\n",
       "       [0., 0., 0., ..., 0., 0., 0.],\n",
       "       [0., 0., 0., ..., 0., 0., 0.],\n",
       "       [0., 0., 0., ..., 0., 0., 0.]])"
      ]
     },
     "execution_count": 8,
     "metadata": {},
     "output_type": "execute_result"
    }
   ],
   "source": [
    "x_train_sparse = tf_idf.fit_transform(X_train)\n",
    "x_train_sparse.toarray()"
   ]
  },
  {
   "cell_type": "code",
   "execution_count": 9,
   "id": "c4c97b44",
   "metadata": {},
   "outputs": [
    {
     "data": {
      "text/plain": [
       "array([[0., 0., 0., ..., 0., 0., 0.],\n",
       "       [0., 0., 0., ..., 0., 0., 0.],\n",
       "       [0., 0., 0., ..., 0., 0., 0.],\n",
       "       ...,\n",
       "       [0., 0., 0., ..., 0., 0., 0.],\n",
       "       [0., 0., 0., ..., 0., 0., 0.],\n",
       "       [0., 0., 0., ..., 0., 0., 0.]])"
      ]
     },
     "execution_count": 9,
     "metadata": {},
     "output_type": "execute_result"
    }
   ],
   "source": [
    "x_test_sparse = tf_idf.fit_transform(X_test)\n",
    "x_test_sparse.toarray()"
   ]
  },
  {
   "cell_type": "code",
   "execution_count": 10,
   "id": "f9d303a3",
   "metadata": {},
   "outputs": [
    {
     "data": {
      "text/html": [
       "<div>\n",
       "<style scoped>\n",
       "    .dataframe tbody tr th:only-of-type {\n",
       "        vertical-align: middle;\n",
       "    }\n",
       "\n",
       "    .dataframe tbody tr th {\n",
       "        vertical-align: top;\n",
       "    }\n",
       "\n",
       "    .dataframe thead th {\n",
       "        text-align: right;\n",
       "    }\n",
       "</style>\n",
       "<table border=\"1\" class=\"dataframe\">\n",
       "  <thead>\n",
       "    <tr style=\"text-align: right;\">\n",
       "      <th></th>\n",
       "      <th>aa</th>\n",
       "      <th>aaa</th>\n",
       "      <th>abc</th>\n",
       "      <th>absolute</th>\n",
       "      <th>absolutely</th>\n",
       "      <th>absolutely amazing</th>\n",
       "      <th>absolutely beautiful</th>\n",
       "      <th>absolutely fabulous</th>\n",
       "      <th>absolutely fantastic</th>\n",
       "      <th>absolutely gorgeous</th>\n",
       "      <th>...</th>\n",
       "      <th>youçéêl</th>\n",
       "      <th>youçéö</th>\n",
       "      <th>yr</th>\n",
       "      <th>yuck</th>\n",
       "      <th>yum</th>\n",
       "      <th>yummy</th>\n",
       "      <th>yunque</th>\n",
       "      <th>zandbergen</th>\n",
       "      <th>zone</th>\n",
       "      <th>zoo</th>\n",
       "    </tr>\n",
       "  </thead>\n",
       "  <tbody>\n",
       "    <tr>\n",
       "      <th>0</th>\n",
       "      <td>0.0</td>\n",
       "      <td>0.0</td>\n",
       "      <td>0.0</td>\n",
       "      <td>0.0</td>\n",
       "      <td>0.0</td>\n",
       "      <td>0.0</td>\n",
       "      <td>0.0</td>\n",
       "      <td>0.0</td>\n",
       "      <td>0.0</td>\n",
       "      <td>0.0</td>\n",
       "      <td>...</td>\n",
       "      <td>0.0</td>\n",
       "      <td>0.0</td>\n",
       "      <td>0.0</td>\n",
       "      <td>0.0</td>\n",
       "      <td>0.0</td>\n",
       "      <td>0.0</td>\n",
       "      <td>0.0</td>\n",
       "      <td>0.0</td>\n",
       "      <td>0.0</td>\n",
       "      <td>0.0</td>\n",
       "    </tr>\n",
       "    <tr>\n",
       "      <th>1</th>\n",
       "      <td>0.0</td>\n",
       "      <td>0.0</td>\n",
       "      <td>0.0</td>\n",
       "      <td>0.0</td>\n",
       "      <td>0.0</td>\n",
       "      <td>0.0</td>\n",
       "      <td>0.0</td>\n",
       "      <td>0.0</td>\n",
       "      <td>0.0</td>\n",
       "      <td>0.0</td>\n",
       "      <td>...</td>\n",
       "      <td>0.0</td>\n",
       "      <td>0.0</td>\n",
       "      <td>0.0</td>\n",
       "      <td>0.0</td>\n",
       "      <td>0.0</td>\n",
       "      <td>0.0</td>\n",
       "      <td>0.0</td>\n",
       "      <td>0.0</td>\n",
       "      <td>0.0</td>\n",
       "      <td>0.0</td>\n",
       "    </tr>\n",
       "    <tr>\n",
       "      <th>2</th>\n",
       "      <td>0.0</td>\n",
       "      <td>0.0</td>\n",
       "      <td>0.0</td>\n",
       "      <td>0.0</td>\n",
       "      <td>0.0</td>\n",
       "      <td>0.0</td>\n",
       "      <td>0.0</td>\n",
       "      <td>0.0</td>\n",
       "      <td>0.0</td>\n",
       "      <td>0.0</td>\n",
       "      <td>...</td>\n",
       "      <td>0.0</td>\n",
       "      <td>0.0</td>\n",
       "      <td>0.0</td>\n",
       "      <td>0.0</td>\n",
       "      <td>0.0</td>\n",
       "      <td>0.0</td>\n",
       "      <td>0.0</td>\n",
       "      <td>0.0</td>\n",
       "      <td>0.0</td>\n",
       "      <td>0.0</td>\n",
       "    </tr>\n",
       "    <tr>\n",
       "      <th>3</th>\n",
       "      <td>0.0</td>\n",
       "      <td>0.0</td>\n",
       "      <td>0.0</td>\n",
       "      <td>0.0</td>\n",
       "      <td>0.0</td>\n",
       "      <td>0.0</td>\n",
       "      <td>0.0</td>\n",
       "      <td>0.0</td>\n",
       "      <td>0.0</td>\n",
       "      <td>0.0</td>\n",
       "      <td>...</td>\n",
       "      <td>0.0</td>\n",
       "      <td>0.0</td>\n",
       "      <td>0.0</td>\n",
       "      <td>0.0</td>\n",
       "      <td>0.0</td>\n",
       "      <td>0.0</td>\n",
       "      <td>0.0</td>\n",
       "      <td>0.0</td>\n",
       "      <td>0.0</td>\n",
       "      <td>0.0</td>\n",
       "    </tr>\n",
       "    <tr>\n",
       "      <th>4</th>\n",
       "      <td>0.0</td>\n",
       "      <td>0.0</td>\n",
       "      <td>0.0</td>\n",
       "      <td>0.0</td>\n",
       "      <td>0.0</td>\n",
       "      <td>0.0</td>\n",
       "      <td>0.0</td>\n",
       "      <td>0.0</td>\n",
       "      <td>0.0</td>\n",
       "      <td>0.0</td>\n",
       "      <td>...</td>\n",
       "      <td>0.0</td>\n",
       "      <td>0.0</td>\n",
       "      <td>0.0</td>\n",
       "      <td>0.0</td>\n",
       "      <td>0.0</td>\n",
       "      <td>0.0</td>\n",
       "      <td>0.0</td>\n",
       "      <td>0.0</td>\n",
       "      <td>0.0</td>\n",
       "      <td>0.0</td>\n",
       "    </tr>\n",
       "  </tbody>\n",
       "</table>\n",
       "<p>5 rows × 10000 columns</p>\n",
       "</div>"
      ],
      "text/plain": [
       "    aa  aaa  abc  absolute  absolutely  absolutely amazing  \\\n",
       "0  0.0  0.0  0.0       0.0         0.0                 0.0   \n",
       "1  0.0  0.0  0.0       0.0         0.0                 0.0   \n",
       "2  0.0  0.0  0.0       0.0         0.0                 0.0   \n",
       "3  0.0  0.0  0.0       0.0         0.0                 0.0   \n",
       "4  0.0  0.0  0.0       0.0         0.0                 0.0   \n",
       "\n",
       "   absolutely beautiful  absolutely fabulous  absolutely fantastic  \\\n",
       "0                   0.0                  0.0                   0.0   \n",
       "1                   0.0                  0.0                   0.0   \n",
       "2                   0.0                  0.0                   0.0   \n",
       "3                   0.0                  0.0                   0.0   \n",
       "4                   0.0                  0.0                   0.0   \n",
       "\n",
       "   absolutely gorgeous  ...  youçéêl  youçéö   yr  yuck  yum  yummy  yunque  \\\n",
       "0                  0.0  ...      0.0     0.0  0.0   0.0  0.0    0.0     0.0   \n",
       "1                  0.0  ...      0.0     0.0  0.0   0.0  0.0    0.0     0.0   \n",
       "2                  0.0  ...      0.0     0.0  0.0   0.0  0.0    0.0     0.0   \n",
       "3                  0.0  ...      0.0     0.0  0.0   0.0  0.0    0.0     0.0   \n",
       "4                  0.0  ...      0.0     0.0  0.0   0.0  0.0    0.0     0.0   \n",
       "\n",
       "   zandbergen  zone  zoo  \n",
       "0         0.0   0.0  0.0  \n",
       "1         0.0   0.0  0.0  \n",
       "2         0.0   0.0  0.0  \n",
       "3         0.0   0.0  0.0  \n",
       "4         0.0   0.0  0.0  \n",
       "\n",
       "[5 rows x 10000 columns]"
      ]
     },
     "execution_count": 10,
     "metadata": {},
     "output_type": "execute_result"
    }
   ],
   "source": [
    "x_train_df = pd.DataFrame(x_train_sparse.toarray(), columns=tf_idf.get_feature_names())\n",
    "x_train_df.head()"
   ]
  },
  {
   "cell_type": "code",
   "execution_count": 11,
   "id": "592fb8c2",
   "metadata": {},
   "outputs": [
    {
     "data": {
      "text/plain": [
       "['aa',\n",
       " 'aaa',\n",
       " 'abc',\n",
       " 'absolute',\n",
       " 'absolutely',\n",
       " 'absolutely amazing',\n",
       " 'absolutely beautiful',\n",
       " 'absolutely fabulous',\n",
       " 'absolutely fantastic',\n",
       " 'absolutely gorgeous',\n",
       " 'absolutely love',\n",
       " 'absolutely perfect',\n",
       " 'absolutely recommend',\n",
       " 'absolutely stay',\n",
       " 'absolutely wonderful',\n",
       " 'absolutly',\n",
       " 'abundant',\n",
       " 'ac',\n",
       " 'ac room',\n",
       " 'ac work',\n",
       " 'accept',\n",
       " 'acceptable',\n",
       " 'access',\n",
       " 'access hotel',\n",
       " 'access internet',\n",
       " 'access lobby',\n",
       " 'access room',\n",
       " 'accessible',\n",
       " 'accident',\n",
       " 'accidentally',\n",
       " 'accommodate',\n",
       " 'accommodation',\n",
       " 'accomodate',\n",
       " 'accomodated',\n",
       " 'accomodating',\n",
       " 'accomodation',\n",
       " 'accomodations',\n",
       " 'accompany',\n",
       " 'account',\n",
       " 'accross',\n",
       " 'accurate',\n",
       " 'achieve',\n",
       " 'acknowledge',\n",
       " 'act',\n",
       " 'action',\n",
       " 'active',\n",
       " 'activity',\n",
       " 'activity day',\n",
       " 'activity kid',\n",
       " 'activity staff',\n",
       " 'actual',\n",
       " 'adagio',\n",
       " 'adam',\n",
       " 'add',\n",
       " 'add bonus',\n",
       " 'added',\n",
       " 'addition',\n",
       " 'additional',\n",
       " 'additional charge',\n",
       " 'additionally',\n",
       " 'address',\n",
       " 'adequate',\n",
       " 'adjacent',\n",
       " 'adjoin',\n",
       " 'adjoin room',\n",
       " 'adjust',\n",
       " 'admit',\n",
       " 'admittedly',\n",
       " 'adult',\n",
       " 'adult child',\n",
       " 'adult pool',\n",
       " 'advance',\n",
       " 'advantage',\n",
       " 'adventure',\n",
       " 'adventurous',\n",
       " 'advertise',\n",
       " 'advertised',\n",
       " 'advice',\n",
       " 'advise',\n",
       " 'advisor',\n",
       " 'advisor review',\n",
       " 'aerobics',\n",
       " 'aerobus',\n",
       " 'aesthetically',\n",
       " 'affect',\n",
       " 'affinia',\n",
       " 'affinia dumont',\n",
       " 'afford',\n",
       " 'affordable',\n",
       " 'afraid',\n",
       " 'afterall',\n",
       " 'afternoon',\n",
       " 'afternoon tea',\n",
       " 'againthe',\n",
       " 'age',\n",
       " 'age group',\n",
       " 'agency',\n",
       " 'agent',\n",
       " 'aggressive',\n",
       " 'ago',\n",
       " 'agree',\n",
       " 'agree hotel',\n",
       " 'agree previous',\n",
       " 'agree review',\n",
       " 'agree reviewer',\n",
       " 'agreement',\n",
       " 'ahead',\n",
       " 'ahead time',\n",
       " 'ai',\n",
       " 'air',\n",
       " 'air canada',\n",
       " 'air condition',\n",
       " 'air conditioner',\n",
       " 'air conditioning',\n",
       " 'air france',\n",
       " 'air room',\n",
       " 'air transat',\n",
       " 'aircon',\n",
       " 'airconditioned',\n",
       " 'airconditioning',\n",
       " 'airline',\n",
       " 'airport',\n",
       " 'airport arrive',\n",
       " 'airport bus',\n",
       " 'airport cost',\n",
       " 'airport hotel',\n",
       " 'airport hour',\n",
       " 'airport resort',\n",
       " 'airport room',\n",
       " 'airport shuttle',\n",
       " 'airport taxi',\n",
       " 'airport transfer',\n",
       " 'airy',\n",
       " 'aka',\n",
       " 'al',\n",
       " 'al la',\n",
       " 'al ponte',\n",
       " 'ala',\n",
       " 'ala carte',\n",
       " 'ala moana',\n",
       " 'alarm',\n",
       " 'alarm clock',\n",
       " 'albeit',\n",
       " 'alcatraz',\n",
       " 'alcohol',\n",
       " 'alcoholic',\n",
       " 'alessandra',\n",
       " 'alexis',\n",
       " 'alila',\n",
       " 'alive',\n",
       " 'alley',\n",
       " 'allinclusive',\n",
       " 'allinclusive resort',\n",
       " 'allinclusives',\n",
       " 'allocate',\n",
       " 'allocate room',\n",
       " 'allow',\n",
       " 'allow check',\n",
       " 'allthe',\n",
       " 'aloha',\n",
       " 'alot',\n",
       " 'alot fun',\n",
       " 'alright',\n",
       " 'alternative',\n",
       " 'alternative hotel',\n",
       " 'alway',\n",
       " 'amaze',\n",
       " 'amaze food',\n",
       " 'amaze view',\n",
       " 'amazed',\n",
       " 'amazing',\n",
       " 'amazing hotel',\n",
       " 'amazing place',\n",
       " 'amazing room',\n",
       " 'amazing staff',\n",
       " 'amazing time',\n",
       " 'amazing view',\n",
       " 'amazingly',\n",
       " 'ambiance',\n",
       " 'ambience',\n",
       " 'amenities',\n",
       " 'amenity',\n",
       " 'amenity include',\n",
       " 'america',\n",
       " 'american',\n",
       " 'american grill',\n",
       " 'american hotel',\n",
       " 'american standard',\n",
       " 'americans',\n",
       " 'ammenities',\n",
       " 'amount',\n",
       " 'ample',\n",
       " 'amsterdam',\n",
       " 'amsterdam hotel',\n",
       " 'amsterdam stay',\n",
       " 'amuse',\n",
       " 'andor',\n",
       " 'andra',\n",
       " 'angel',\n",
       " 'angry',\n",
       " 'animal',\n",
       " 'animation',\n",
       " 'animation team',\n",
       " 'ankle',\n",
       " 'anne',\n",
       " 'anne frank',\n",
       " 'anniversary',\n",
       " 'annoy',\n",
       " 'annoyance',\n",
       " 'annoyed',\n",
       " 'annual',\n",
       " 'answer',\n",
       " 'answer question',\n",
       " 'ant',\n",
       " 'antiche',\n",
       " 'antiche figure',\n",
       " 'anticipate',\n",
       " 'antique',\n",
       " 'anxious',\n",
       " 'anymore',\n",
       " 'anytime',\n",
       " 'apartment',\n",
       " 'apologetic',\n",
       " 'apologize',\n",
       " 'apology',\n",
       " 'appal',\n",
       " 'apparent',\n",
       " 'apparently',\n",
       " 'appeal',\n",
       " 'appear',\n",
       " 'appearance',\n",
       " 'appetizer',\n",
       " 'apple',\n",
       " 'apple vacation',\n",
       " 'apply',\n",
       " 'appoint',\n",
       " 'appoint room',\n",
       " 'appointment',\n",
       " 'appreciate',\n",
       " 'appreciated',\n",
       " 'apprehensive',\n",
       " 'approach',\n",
       " 'approachable',\n",
       " 'approx',\n",
       " 'approximately',\n",
       " 'april',\n",
       " 'april april',\n",
       " 'april stay',\n",
       " 'apsis',\n",
       " 'aqua',\n",
       " 'aqua palm',\n",
       " 'aquarium',\n",
       " 'arc',\n",
       " 'arc triomphe',\n",
       " 'arch',\n",
       " 'architecture',\n",
       " 'area',\n",
       " 'area barcelona',\n",
       " 'area bathroom',\n",
       " 'area beach',\n",
       " 'area beautiful',\n",
       " 'area big',\n",
       " 'area breakfast',\n",
       " 'area city',\n",
       " 'area clean',\n",
       " 'area close',\n",
       " 'area good',\n",
       " 'area great',\n",
       " 'area hotel',\n",
       " 'area large',\n",
       " 'area lot',\n",
       " 'area lovely',\n",
       " 'area nice',\n",
       " 'area pool',\n",
       " 'area restaurant',\n",
       " 'area room',\n",
       " 'area safe',\n",
       " 'area san',\n",
       " 'area small',\n",
       " 'area staff',\n",
       " 'area stay',\n",
       " 'area view',\n",
       " 'area walk',\n",
       " 'areathe',\n",
       " 'arena',\n",
       " 'argonaut',\n",
       " 'argue',\n",
       " 'arizona',\n",
       " 'arm',\n",
       " 'arno',\n",
       " 'arno river',\n",
       " 'arrange',\n",
       " 'arrangement',\n",
       " 'array',\n",
       " 'arrival',\n",
       " 'arrival hotel',\n",
       " 'arrival room',\n",
       " 'arrival staff',\n",
       " 'arrive',\n",
       " 'arrive airport',\n",
       " 'arrive check',\n",
       " 'arrive day',\n",
       " 'arrive desk',\n",
       " 'arrive early',\n",
       " 'arrive home',\n",
       " 'arrive hotel',\n",
       " 'arrive late',\n",
       " 'arrive morning',\n",
       " 'arrive pm',\n",
       " 'arrive reception',\n",
       " 'arrive resort',\n",
       " 'arrive room',\n",
       " 'arrive time',\n",
       " 'arrive told',\n",
       " 'arrived',\n",
       " 'arrived hotel',\n",
       " 'arrogant',\n",
       " 'art',\n",
       " 'art museum',\n",
       " 'artist',\n",
       " 'artwork',\n",
       " 'aruba',\n",
       " 'asap',\n",
       " 'ashford',\n",
       " 'asia',\n",
       " 'asian',\n",
       " 'ask',\n",
       " 'ask desk',\n",
       " 'ask extra',\n",
       " 'ask hotel',\n",
       " 'ask quiet',\n",
       " 'ask room',\n",
       " 'ask staff',\n",
       " 'ask upgrade',\n",
       " 'asked',\n",
       " 'asleep',\n",
       " 'aspect',\n",
       " 'aspect hotel',\n",
       " 'aspect stay',\n",
       " 'assign',\n",
       " 'assign room',\n",
       " 'assist',\n",
       " 'assistance',\n",
       " 'assistant',\n",
       " 'assortment',\n",
       " 'assume',\n",
       " 'assure',\n",
       " 'astonish',\n",
       " 'astound',\n",
       " 'aswell',\n",
       " 'ate',\n",
       " 'ate breakfast',\n",
       " 'ate buffet',\n",
       " 'ate dinner',\n",
       " 'ate hotel',\n",
       " 'ate lunch',\n",
       " 'ate night',\n",
       " 'ate restaurant',\n",
       " 'atlantic',\n",
       " 'atlantic ocean',\n",
       " 'atm',\n",
       " 'atmosphere',\n",
       " 'atmosphere staff',\n",
       " 'atmospheric',\n",
       " 'atrium',\n",
       " 'attach',\n",
       " 'attempt',\n",
       " 'attempt speak',\n",
       " 'attend',\n",
       " 'attendant',\n",
       " 'attention',\n",
       " 'attentive',\n",
       " 'attentive friendly',\n",
       " 'attentive service',\n",
       " 'attentive staff',\n",
       " 'attitude',\n",
       " 'attitude staff',\n",
       " 'attract',\n",
       " 'attraction',\n",
       " 'attraction hotel',\n",
       " 'attraction room',\n",
       " 'attractive',\n",
       " 'attractive room',\n",
       " 'atv',\n",
       " 'au',\n",
       " 'auberge',\n",
       " 'aud',\n",
       " 'audience',\n",
       " 'audience participation',\n",
       " 'aug',\n",
       " 'august',\n",
       " 'aunt',\n",
       " 'australia',\n",
       " 'australian',\n",
       " 'authentic',\n",
       " 'automatic',\n",
       " 'automatically',\n",
       " 'availability',\n",
       " 'ave',\n",
       " 'aveda',\n",
       " 'aveda product',\n",
       " 'avenida',\n",
       " 'avenue',\n",
       " 'average',\n",
       " 'average good',\n",
       " 'average hotel',\n",
       " 'average price',\n",
       " 'average room',\n",
       " 'average size',\n",
       " 'avoid',\n",
       " 'avoid hotel',\n",
       " 'await',\n",
       " 'awake',\n",
       " 'awaken',\n",
       " 'award',\n",
       " 'aware',\n",
       " 'awaythe',\n",
       " 'awe',\n",
       " 'awesome',\n",
       " 'awesome hotel',\n",
       " 'awesome staff',\n",
       " 'awesome time',\n",
       " 'awful',\n",
       " 'awhile',\n",
       " 'awkward',\n",
       " 'awsome',\n",
       " 'baby',\n",
       " 'babysitting',\n",
       " 'back',\n",
       " 'background',\n",
       " 'backwards',\n",
       " 'bacon',\n",
       " 'bacon sausage',\n",
       " 'bad',\n",
       " 'bad day',\n",
       " 'bad experience',\n",
       " 'bad good',\n",
       " 'bad hotel',\n",
       " 'bad location',\n",
       " 'bad place',\n",
       " 'bad point',\n",
       " 'bad review',\n",
       " 'bad room',\n",
       " 'bad service',\n",
       " 'bad stay',\n",
       " 'bad thing',\n",
       " 'bad time',\n",
       " 'badly',\n",
       " 'badthe',\n",
       " 'bag',\n",
       " 'bag room',\n",
       " 'bagel',\n",
       " 'baggage',\n",
       " 'baggage claim',\n",
       " 'bags',\n",
       " 'bahia',\n",
       " 'bahia principe',\n",
       " 'bahn',\n",
       " 'bake',\n",
       " 'bakery',\n",
       " 'balance',\n",
       " 'balcony',\n",
       " 'balcony door',\n",
       " 'balcony nice',\n",
       " 'balcony overlook',\n",
       " 'balcony room',\n",
       " 'balcony view',\n",
       " 'bali',\n",
       " 'bali hyatt',\n",
       " 'bali stay',\n",
       " 'balinese',\n",
       " 'ball',\n",
       " 'bamboo',\n",
       " 'bambu',\n",
       " 'banana',\n",
       " 'banana boat',\n",
       " 'band',\n",
       " 'band play',\n",
       " 'bang',\n",
       " 'bang buck',\n",
       " 'bank',\n",
       " 'bar',\n",
       " 'bar area',\n",
       " 'bar bartender',\n",
       " 'bar beach',\n",
       " 'bar bottle',\n",
       " 'bar busy',\n",
       " 'bar close',\n",
       " 'bar day',\n",
       " 'bar downstairs',\n",
       " 'bar drink',\n",
       " 'bar entertainment',\n",
       " 'bar floor',\n",
       " 'bar food',\n",
       " 'bar good',\n",
       " 'bar great',\n",
       " 'bar grill',\n",
       " 'bar hotel',\n",
       " 'bar lobby',\n",
       " 'bar main',\n",
       " 'bar nice',\n",
       " 'bar night',\n",
       " 'bar open',\n",
       " 'bar place',\n",
       " 'bar pool',\n",
       " 'bar price',\n",
       " 'bar restaurant',\n",
       " 'bar restaurants',\n",
       " 'bar room',\n",
       " 'bar serve',\n",
       " 'bar service',\n",
       " 'bar snack',\n",
       " 'bar soap',\n",
       " 'bar staff',\n",
       " 'bar stock',\n",
       " 'bar tender',\n",
       " 'barca',\n",
       " 'barcelo',\n",
       " 'barcelo bavaro',\n",
       " 'barcelona',\n",
       " 'barcelona great',\n",
       " 'barcelona hotel',\n",
       " 'barcelona recommend',\n",
       " 'barcelona stay',\n",
       " 'barceloneta',\n",
       " 'bare',\n",
       " 'barely',\n",
       " 'bargain',\n",
       " 'bargain price',\n",
       " 'bargin',\n",
       " 'bark',\n",
       " 'barong',\n",
       " 'barrier',\n",
       " 'bart',\n",
       " 'bartender',\n",
       " 'barter',\n",
       " 'base',\n",
       " 'base experience',\n",
       " 'base explore',\n",
       " 'base recommendation',\n",
       " 'base review',\n",
       " 'base tripadvisor',\n",
       " 'baseball',\n",
       " 'basement',\n",
       " 'bash',\n",
       " 'basic',\n",
       " 'basic clean',\n",
       " 'basic hotel',\n",
       " 'basic room',\n",
       " 'basically',\n",
       " 'basin',\n",
       " 'basis',\n",
       " 'basket',\n",
       " 'basketball',\n",
       " 'bass',\n",
       " 'bath',\n",
       " 'bath gel',\n",
       " 'bath product',\n",
       " 'bath room',\n",
       " 'bath shower',\n",
       " 'bath suit',\n",
       " 'bath towel',\n",
       " 'bath tub',\n",
       " 'bathrobe',\n",
       " 'bathrobe slipper',\n",
       " 'bathrobes',\n",
       " 'bathroom',\n",
       " 'bathroom bath',\n",
       " 'bathroom bathroom',\n",
       " 'bathroom bed',\n",
       " 'bathroom bedroom',\n",
       " 'bathroom big',\n",
       " 'bathroom bigger',\n",
       " 'bathroom bit',\n",
       " 'bathroom breakfast',\n",
       " 'bathroom clean',\n",
       " 'bathroom closet',\n",
       " 'bathroom comfortable',\n",
       " 'bathroom dirty',\n",
       " 'bathroom door',\n",
       " 'bathroom excellent',\n",
       " 'bathroom fine',\n",
       " 'bathroom floor',\n",
       " 'bathroom good',\n",
       " 'bathroom great',\n",
       " 'bathroom hotel',\n",
       " 'bathroom huge',\n",
       " 'bathroom jacuzzi',\n",
       " 'bathroom large',\n",
       " 'bathroom lovely',\n",
       " 'bathroom modern',\n",
       " 'bathroom nice',\n",
       " 'bathroom pretty',\n",
       " 'bathroom room',\n",
       " 'bathroom separate',\n",
       " 'bathroom shower',\n",
       " 'bathroom sink',\n",
       " 'bathroom small',\n",
       " 'bathroom spacious',\n",
       " 'bathroom spotless',\n",
       " 'bathroom tiny',\n",
       " 'bathroom tub',\n",
       " 'bathrooms',\n",
       " 'bathtub',\n",
       " 'battery',\n",
       " 'battery park',\n",
       " 'bavaro',\n",
       " 'bavaro beach',\n",
       " 'bavaro princess',\n",
       " 'bavarro',\n",
       " 'bay',\n",
       " 'bb',\n",
       " 'bbc',\n",
       " 'bbq',\n",
       " 'bc',\n",
       " 'bcn',\n",
       " 'bday',\n",
       " 'beach',\n",
       " 'beach absolutely',\n",
       " 'beach amaze',\n",
       " 'beach amazing',\n",
       " 'beach area',\n",
       " 'beach awesome',\n",
       " 'beach bar',\n",
       " 'beach beach',\n",
       " 'beach beautiful',\n",
       " 'beach buffet',\n",
       " 'beach chair',\n",
       " 'beach clean',\n",
       " 'beach close',\n",
       " 'beach club',\n",
       " 'beach day',\n",
       " 'beach drink',\n",
       " 'beach end',\n",
       " 'beach everyday',\n",
       " 'beach fantastic',\n",
       " 'beach food',\n",
       " 'beach good',\n",
       " 'beach gorgeous',\n",
       " 'beach great',\n",
       " 'beach hotel',\n",
       " 'beach kid',\n",
       " 'beach leave',\n",
       " 'beach lot',\n",
       " 'beach lovely',\n",
       " 'beach main',\n",
       " 'beach minute',\n",
       " 'beach nice',\n",
       " 'beach night',\n",
       " 'beach ocean',\n",
       " 'beach party',\n",
       " 'beach people',\n",
       " 'beach perfect',\n",
       " 'beach place',\n",
       " 'beach plenty',\n",
       " 'beach pool',\n",
       " 'beach pretty',\n",
       " 'beach relax',\n",
       " 'beach resort',\n",
       " 'beach restaurant',\n",
       " 'beach room',\n",
       " 'beach seaweed',\n",
       " 'beach service',\n",
       " 'beach short',\n",
       " 'beach small',\n",
       " 'beach spectacular',\n",
       " 'beach staff',\n",
       " 'beach stay',\n",
       " 'beach street',\n",
       " 'beach swim',\n",
       " 'beach towel',\n",
       " 'beach vendor',\n",
       " 'beach view',\n",
       " 'beach walk',\n",
       " 'beach water',\n",
       " 'beach wonderful',\n",
       " 'beachfront',\n",
       " 'beachpool',\n",
       " 'beam',\n",
       " 'bean',\n",
       " 'bear',\n",
       " 'beat',\n",
       " 'beat location',\n",
       " 'beaten',\n",
       " 'beatiful',\n",
       " 'beautiful',\n",
       " 'beautiful bathroom',\n",
       " 'beautiful beach',\n",
       " 'beautiful city',\n",
       " 'beautiful clean',\n",
       " 'beautiful food',\n",
       " 'beautiful garden',\n",
       " 'beautiful great',\n",
       " 'beautiful ground',\n",
       " 'beautiful hotel',\n",
       " 'beautiful lobby',\n",
       " 'beautiful location',\n",
       " 'beautiful maintain',\n",
       " 'beautiful night',\n",
       " 'beautiful place',\n",
       " 'beautiful pool',\n",
       " 'beautiful resort',\n",
       " 'beautiful room',\n",
       " 'beautiful sand',\n",
       " 'beautiful service',\n",
       " 'beautiful staff',\n",
       " 'beautiful view',\n",
       " 'beautiful water',\n",
       " 'beautiful white',\n",
       " 'beautifull',\n",
       " 'beautifully',\n",
       " 'beautifully decorate',\n",
       " 'beauty',\n",
       " 'becuase',\n",
       " 'bed',\n",
       " 'bed area',\n",
       " 'bed bathroom',\n",
       " 'bed bed',\n",
       " 'bed breakfast',\n",
       " 'bed bug',\n",
       " 'bed change',\n",
       " 'bed clean',\n",
       " 'bed comfortable',\n",
       " 'bed comfy',\n",
       " 'bed double',\n",
       " 'bed extremely',\n",
       " 'bed fine',\n",
       " 'bed firm',\n",
       " 'bed good',\n",
       " 'bed great',\n",
       " 'bed hard',\n",
       " 'bed hotel',\n",
       " 'bed huge',\n",
       " 'bed king',\n",
       " 'bed large',\n",
       " 'bed linen',\n",
       " 'bed linens',\n",
       " 'bed nice',\n",
       " 'bed night',\n",
       " 'bed pillow',\n",
       " 'bed push',\n",
       " 'bed request',\n",
       " 'bed room',\n",
       " 'bed sheet',\n",
       " 'bed sleep',\n",
       " 'bed staff',\n",
       " 'bed stay',\n",
       " 'bed suite',\n",
       " 'bed super',\n",
       " 'bed turn',\n",
       " 'bed twin',\n",
       " 'bedding',\n",
       " 'bedroom',\n",
       " 'bedroom bathroom',\n",
       " 'bedroom large',\n",
       " 'bedroom suite',\n",
       " 'bedside',\n",
       " 'bedspread',\n",
       " 'beef',\n",
       " 'beer',\n",
       " 'beer good',\n",
       " 'beer presidente',\n",
       " 'beg',\n",
       " 'begin',\n",
       " 'behave',\n",
       " 'behavior',\n",
       " 'beijing',\n",
       " 'beleive',\n",
       " 'belief',\n",
       " 'believe',\n",
       " 'bell',\n",
       " 'bell boy',\n",
       " 'bell hop',\n",
       " 'bell staff',\n",
       " 'bella',\n",
       " 'bella pasta',\n",
       " 'bellboy',\n",
       " 'bellhop',\n",
       " 'bellman',\n",
       " 'belong',\n",
       " 'belonging',\n",
       " 'belt',\n",
       " 'bench',\n",
       " 'beneath',\n",
       " 'benefit',\n",
       " 'benjamin',\n",
       " 'benoa',\n",
       " 'berlin',\n",
       " 'bet',\n",
       " 'beverage',\n",
       " 'beverly',\n",
       " 'beware',\n",
       " 'bicycle',\n",
       " 'bid',\n",
       " 'bidet',\n",
       " 'big',\n",
       " 'big bathroom',\n",
       " 'big breakfast',\n",
       " 'big city',\n",
       " 'big clean',\n",
       " 'big comfy',\n",
       " 'big deal',\n",
       " 'big easy',\n",
       " 'big hotel',\n",
       " 'big problem',\n",
       " 'big room',\n",
       " 'big window',\n",
       " 'bigger',\n",
       " 'bigger hotel',\n",
       " 'bigger room',\n",
       " 'biggest',\n",
       " 'biggest complaint',\n",
       " 'biggie',\n",
       " 'bike',\n",
       " 'bilingual',\n",
       " 'bill',\n",
       " 'bill tip',\n",
       " 'billing',\n",
       " 'biltmore',\n",
       " 'bin',\n",
       " 'bingo',\n",
       " 'bird',\n",
       " 'birthday',\n",
       " 'birthday cake',\n",
       " 'biscuit',\n",
       " 'bistro',\n",
       " 'bit',\n",
       " 'bit dark',\n",
       " 'bit dated',\n",
       " 'bit disappointed',\n",
       " 'bit expensive',\n",
       " 'bit noisy',\n",
       " 'bit pricey',\n",
       " 'bit small',\n",
       " 'bit walk',\n",
       " 'bite',\n",
       " 'black',\n",
       " 'blackjack',\n",
       " 'blackout',\n",
       " 'blah',\n",
       " 'blame',\n",
       " 'bland',\n",
       " 'blanket',\n",
       " 'blast',\n",
       " 'bleach',\n",
       " 'blend',\n",
       " 'blew',\n",
       " 'blind',\n",
       " 'bliss',\n",
       " 'block',\n",
       " 'block central',\n",
       " 'block half',\n",
       " 'block hotel',\n",
       " 'block time',\n",
       " 'block union',\n",
       " 'block walk',\n",
       " 'blow',\n",
       " 'blue',\n",
       " 'blue water',\n",
       " 'board',\n",
       " 'boast',\n",
       " 'boat',\n",
       " 'boat ride',\n",
       " 'boat trip',\n",
       " 'body',\n",
       " 'boil',\n",
       " 'boil egg',\n",
       " 'bond',\n",
       " 'bonus',\n",
       " 'boogie',\n",
       " 'boogie board',\n",
       " 'book',\n",
       " 'book advance',\n",
       " 'book club',\n",
       " 'book day',\n",
       " 'book dinner',\n",
       " 'book direct',\n",
       " 'book directly',\n",
       " 'book early',\n",
       " 'book holiday',\n",
       " 'book hotel',\n",
       " 'book internet',\n",
       " 'book minute',\n",
       " 'book night',\n",
       " 'book online',\n",
       " 'book pay',\n",
       " 'book place',\n",
       " 'book reservation',\n",
       " 'book resort',\n",
       " 'book restaurant',\n",
       " 'book room',\n",
       " 'book standard',\n",
       " 'book stay',\n",
       " 'book suite',\n",
       " 'book superior',\n",
       " 'book tour',\n",
       " 'book trip',\n",
       " 'booked',\n",
       " 'booked hotel',\n",
       " 'booked room',\n",
       " 'booking',\n",
       " 'booking room',\n",
       " 'boot',\n",
       " 'booth',\n",
       " 'booze',\n",
       " 'border',\n",
       " 'bore',\n",
       " 'bored',\n",
       " 'boring',\n",
       " 'borrow',\n",
       " 'boston',\n",
       " 'botel',\n",
       " 'bother',\n",
       " 'bother people',\n",
       " 'bottle',\n",
       " 'bottle champagne',\n",
       " 'bottle rum',\n",
       " 'bottle water',\n",
       " 'bottle wine',\n",
       " 'bottled',\n",
       " 'bottled water',\n",
       " 'bourbon',\n",
       " 'bourbon st',\n",
       " 'bourbon street',\n",
       " 'boutique',\n",
       " 'boutique hotel',\n",
       " 'bowl',\n",
       " 'box',\n",
       " 'boy',\n",
       " 'boyfriend',\n",
       " 'boyfriend stay',\n",
       " 'boys',\n",
       " 'br',\n",
       " 'bracelet',\n",
       " 'brand',\n",
       " 'brand hotel',\n",
       " 'brave',\n",
       " 'bravo',\n",
       " 'brazilian',\n",
       " 'bread',\n",
       " 'bread roll',\n",
       " 'break',\n",
       " 'break hotel',\n",
       " 'breakfast',\n",
       " 'breakfast amazing',\n",
       " 'breakfast area',\n",
       " 'breakfast bar',\n",
       " 'breakfast basic',\n",
       " 'breakfast breakfast',\n",
       " 'breakfast buffet',\n",
       " 'breakfast cafe',\n",
       " 'breakfast coffee',\n",
       " 'breakfast consist',\n",
       " 'breakfast continental',\n",
       " 'breakfast day',\n",
       " 'breakfast dinner',\n",
       " 'breakfast eat',\n",
       " 'breakfast euro',\n",
       " 'breakfast excellent',\n",
       " 'breakfast expensive',\n",
       " 'breakfast fantastic',\n",
       " 'breakfast fine',\n",
       " 'breakfast food',\n",
       " 'breakfast free',\n",
       " 'breakfast fresh',\n",
       " 'breakfast good',\n",
       " 'breakfast great',\n",
       " 'breakfast hotel',\n",
       " 'breakfast include',\n",
       " 'breakfast lobby',\n",
       " 'breakfast lunch',\n",
       " 'breakfast menu',\n",
       " 'breakfast morning',\n",
       " 'breakfast nice',\n",
       " 'breakfast offer',\n",
       " 'breakfast place',\n",
       " 'breakfast plentiful',\n",
       " 'breakfast plenty',\n",
       " 'breakfast pretty',\n",
       " 'breakfast pricey',\n",
       " 'breakfast provide',\n",
       " 'breakfast recommend',\n",
       " 'breakfast restaurant',\n",
       " 'breakfast room',\n",
       " 'breakfast serve',\n",
       " 'breakfast simple',\n",
       " 'breakfast staff',\n",
       " 'breakfast standard',\n",
       " 'breakfast stay',\n",
       " 'breakfast superb',\n",
       " 'breakfast tasty',\n",
       " 'breakfast tax',\n",
       " 'breakfast time',\n",
       " 'breath',\n",
       " 'breathtaking',\n",
       " 'breathtaking view',\n",
       " 'breeze',\n",
       " 'breeze punta',\n",
       " 'brian',\n",
       " 'brick',\n",
       " ...]"
      ]
     },
     "execution_count": 11,
     "metadata": {},
     "output_type": "execute_result"
    }
   ],
   "source": [
    "list(x_train_df.columns)"
   ]
  },
  {
   "cell_type": "code",
   "execution_count": 12,
   "id": "a042faf0",
   "metadata": {},
   "outputs": [
    {
     "data": {
      "text/html": [
       "<div>\n",
       "<style scoped>\n",
       "    .dataframe tbody tr th:only-of-type {\n",
       "        vertical-align: middle;\n",
       "    }\n",
       "\n",
       "    .dataframe tbody tr th {\n",
       "        vertical-align: top;\n",
       "    }\n",
       "\n",
       "    .dataframe thead th {\n",
       "        text-align: right;\n",
       "    }\n",
       "</style>\n",
       "<table border=\"1\" class=\"dataframe\">\n",
       "  <thead>\n",
       "    <tr style=\"text-align: right;\">\n",
       "      <th></th>\n",
       "      <th>aa</th>\n",
       "      <th>aaa</th>\n",
       "      <th>abc</th>\n",
       "      <th>absolute</th>\n",
       "      <th>absolutely</th>\n",
       "      <th>absolutely amazing</th>\n",
       "      <th>absolutely beautiful</th>\n",
       "      <th>absolutely fabulous</th>\n",
       "      <th>absolutely fantastic</th>\n",
       "      <th>absolutely gorgeous</th>\n",
       "      <th>...</th>\n",
       "      <th>youçéêl</th>\n",
       "      <th>youçéö</th>\n",
       "      <th>yr</th>\n",
       "      <th>yuck</th>\n",
       "      <th>yum</th>\n",
       "      <th>yummy</th>\n",
       "      <th>yunque</th>\n",
       "      <th>zandbergen</th>\n",
       "      <th>zone</th>\n",
       "      <th>zoo</th>\n",
       "    </tr>\n",
       "  </thead>\n",
       "  <tbody>\n",
       "    <tr>\n",
       "      <th>0</th>\n",
       "      <td>0.0</td>\n",
       "      <td>0.0</td>\n",
       "      <td>0.0</td>\n",
       "      <td>0.0</td>\n",
       "      <td>0.0</td>\n",
       "      <td>0.0</td>\n",
       "      <td>0.0</td>\n",
       "      <td>0.0</td>\n",
       "      <td>0.0</td>\n",
       "      <td>0.0</td>\n",
       "      <td>...</td>\n",
       "      <td>0.0</td>\n",
       "      <td>0.0</td>\n",
       "      <td>0.0</td>\n",
       "      <td>0.0</td>\n",
       "      <td>0.0</td>\n",
       "      <td>0.0</td>\n",
       "      <td>0.0</td>\n",
       "      <td>0.0</td>\n",
       "      <td>0.0</td>\n",
       "      <td>0.0</td>\n",
       "    </tr>\n",
       "    <tr>\n",
       "      <th>1</th>\n",
       "      <td>0.0</td>\n",
       "      <td>0.0</td>\n",
       "      <td>0.0</td>\n",
       "      <td>0.0</td>\n",
       "      <td>0.0</td>\n",
       "      <td>0.0</td>\n",
       "      <td>0.0</td>\n",
       "      <td>0.0</td>\n",
       "      <td>0.0</td>\n",
       "      <td>0.0</td>\n",
       "      <td>...</td>\n",
       "      <td>0.0</td>\n",
       "      <td>0.0</td>\n",
       "      <td>0.0</td>\n",
       "      <td>0.0</td>\n",
       "      <td>0.0</td>\n",
       "      <td>0.0</td>\n",
       "      <td>0.0</td>\n",
       "      <td>0.0</td>\n",
       "      <td>0.0</td>\n",
       "      <td>0.0</td>\n",
       "    </tr>\n",
       "    <tr>\n",
       "      <th>2</th>\n",
       "      <td>0.0</td>\n",
       "      <td>0.0</td>\n",
       "      <td>0.0</td>\n",
       "      <td>0.0</td>\n",
       "      <td>0.0</td>\n",
       "      <td>0.0</td>\n",
       "      <td>0.0</td>\n",
       "      <td>0.0</td>\n",
       "      <td>0.0</td>\n",
       "      <td>0.0</td>\n",
       "      <td>...</td>\n",
       "      <td>0.0</td>\n",
       "      <td>0.0</td>\n",
       "      <td>0.0</td>\n",
       "      <td>0.0</td>\n",
       "      <td>0.0</td>\n",
       "      <td>0.0</td>\n",
       "      <td>0.0</td>\n",
       "      <td>0.0</td>\n",
       "      <td>0.0</td>\n",
       "      <td>0.0</td>\n",
       "    </tr>\n",
       "    <tr>\n",
       "      <th>3</th>\n",
       "      <td>0.0</td>\n",
       "      <td>0.0</td>\n",
       "      <td>0.0</td>\n",
       "      <td>0.0</td>\n",
       "      <td>0.0</td>\n",
       "      <td>0.0</td>\n",
       "      <td>0.0</td>\n",
       "      <td>0.0</td>\n",
       "      <td>0.0</td>\n",
       "      <td>0.0</td>\n",
       "      <td>...</td>\n",
       "      <td>0.0</td>\n",
       "      <td>0.0</td>\n",
       "      <td>0.0</td>\n",
       "      <td>0.0</td>\n",
       "      <td>0.0</td>\n",
       "      <td>0.0</td>\n",
       "      <td>0.0</td>\n",
       "      <td>0.0</td>\n",
       "      <td>0.0</td>\n",
       "      <td>0.0</td>\n",
       "    </tr>\n",
       "    <tr>\n",
       "      <th>4</th>\n",
       "      <td>0.0</td>\n",
       "      <td>0.0</td>\n",
       "      <td>0.0</td>\n",
       "      <td>0.0</td>\n",
       "      <td>0.0</td>\n",
       "      <td>0.0</td>\n",
       "      <td>0.0</td>\n",
       "      <td>0.0</td>\n",
       "      <td>0.0</td>\n",
       "      <td>0.0</td>\n",
       "      <td>...</td>\n",
       "      <td>0.0</td>\n",
       "      <td>0.0</td>\n",
       "      <td>0.0</td>\n",
       "      <td>0.0</td>\n",
       "      <td>0.0</td>\n",
       "      <td>0.0</td>\n",
       "      <td>0.0</td>\n",
       "      <td>0.0</td>\n",
       "      <td>0.0</td>\n",
       "      <td>0.0</td>\n",
       "    </tr>\n",
       "  </tbody>\n",
       "</table>\n",
       "<p>5 rows × 10000 columns</p>\n",
       "</div>"
      ],
      "text/plain": [
       "    aa  aaa  abc  absolute  absolutely  absolutely amazing  \\\n",
       "0  0.0  0.0  0.0       0.0         0.0                 0.0   \n",
       "1  0.0  0.0  0.0       0.0         0.0                 0.0   \n",
       "2  0.0  0.0  0.0       0.0         0.0                 0.0   \n",
       "3  0.0  0.0  0.0       0.0         0.0                 0.0   \n",
       "4  0.0  0.0  0.0       0.0         0.0                 0.0   \n",
       "\n",
       "   absolutely beautiful  absolutely fabulous  absolutely fantastic  \\\n",
       "0                   0.0                  0.0                   0.0   \n",
       "1                   0.0                  0.0                   0.0   \n",
       "2                   0.0                  0.0                   0.0   \n",
       "3                   0.0                  0.0                   0.0   \n",
       "4                   0.0                  0.0                   0.0   \n",
       "\n",
       "   absolutely gorgeous  ...  youçéêl  youçéö   yr  yuck  yum  yummy  yunque  \\\n",
       "0                  0.0  ...      0.0     0.0  0.0   0.0  0.0    0.0     0.0   \n",
       "1                  0.0  ...      0.0     0.0  0.0   0.0  0.0    0.0     0.0   \n",
       "2                  0.0  ...      0.0     0.0  0.0   0.0  0.0    0.0     0.0   \n",
       "3                  0.0  ...      0.0     0.0  0.0   0.0  0.0    0.0     0.0   \n",
       "4                  0.0  ...      0.0     0.0  0.0   0.0  0.0    0.0     0.0   \n",
       "\n",
       "   zandbergen  zone  zoo  \n",
       "0         0.0   0.0  0.0  \n",
       "1         0.0   0.0  0.0  \n",
       "2         0.0   0.0  0.0  \n",
       "3         0.0   0.0  0.0  \n",
       "4         0.0   0.0  0.0  \n",
       "\n",
       "[5 rows x 10000 columns]"
      ]
     },
     "execution_count": 12,
     "metadata": {},
     "output_type": "execute_result"
    }
   ],
   "source": [
    "x_test_df = pd.DataFrame(x_test_sparse.toarray(), columns=tf_idf.get_feature_names())\n",
    "x_test_df.head()"
   ]
  },
  {
   "cell_type": "code",
   "execution_count": 13,
   "id": "5309af4b",
   "metadata": {},
   "outputs": [
    {
     "data": {
      "text/plain": [
       "((16392, 10000), (4099, 10000))"
      ]
     },
     "execution_count": 13,
     "metadata": {},
     "output_type": "execute_result"
    }
   ],
   "source": [
    "x_train_df.shape,x_test_df.shape"
   ]
  },
  {
   "cell_type": "markdown",
   "id": "3b5f59a4",
   "metadata": {},
   "source": [
    "### Model Building // Model Evaluation // Model Testing"
   ]
  },
  {
   "cell_type": "markdown",
   "id": "f19c7190",
   "metadata": {},
   "source": [
    "### 1. Logistic Regression"
   ]
  },
  {
   "cell_type": "code",
   "execution_count": 109,
   "id": "e4960a67",
   "metadata": {},
   "outputs": [],
   "source": [
    "logistic_model = LogisticRegression()"
   ]
  },
  {
   "cell_type": "code",
   "execution_count": null,
   "id": "7383db8b",
   "metadata": {},
   "outputs": [],
   "source": [
    "%%time\n",
    "logistic_model.fit(x_train_df,y_train)"
   ]
  },
  {
   "cell_type": "code",
   "execution_count": null,
   "id": "cd5b0cea",
   "metadata": {},
   "outputs": [],
   "source": [
    "logistic_pred_train=logistic_model.predict(x_train_df)\n",
    "logistic_pred_test=logistic_model.predict(x_test_df)\n",
    "logistic_train_acc=accuracy_score(logistic_pred_train,y_train)\n",
    "logistic_test_acc=accuracy_score(logistic_pred_test,y_test)"
   ]
  },
  {
   "cell_type": "code",
   "execution_count": null,
   "id": "47e4d7b5",
   "metadata": {},
   "outputs": [],
   "source": [
    "print(logistic_train_acc)\n",
    "print(logistic_test_acc)"
   ]
  },
  {
   "cell_type": "code",
   "execution_count": 17,
   "id": "7cec8623",
   "metadata": {},
   "outputs": [
    {
     "name": "stdout",
     "output_type": "stream",
     "text": [
      "\u001b[1m\n",
      "Logistic Regression - Training Data\n",
      "\n"
     ]
    },
    {
     "data": {
      "text/html": [
       "<div>\n",
       "<style scoped>\n",
       "    .dataframe tbody tr th:only-of-type {\n",
       "        vertical-align: middle;\n",
       "    }\n",
       "\n",
       "    .dataframe tbody tr th {\n",
       "        vertical-align: top;\n",
       "    }\n",
       "\n",
       "    .dataframe thead th {\n",
       "        text-align: right;\n",
       "    }\n",
       "</style>\n",
       "<table border=\"1\" class=\"dataframe\">\n",
       "  <thead>\n",
       "    <tr style=\"text-align: right;\">\n",
       "      <th></th>\n",
       "      <th>1</th>\n",
       "      <th>2</th>\n",
       "      <th>3</th>\n",
       "      <th>4</th>\n",
       "      <th>5</th>\n",
       "      <th>weighted avg</th>\n",
       "    </tr>\n",
       "  </thead>\n",
       "  <tbody>\n",
       "    <tr>\n",
       "      <th>precision</th>\n",
       "      <td>0.84</td>\n",
       "      <td>0.71</td>\n",
       "      <td>0.50</td>\n",
       "      <td>0.74</td>\n",
       "      <td>0.92</td>\n",
       "      <td>0.82</td>\n",
       "    </tr>\n",
       "    <tr>\n",
       "      <th>recall</th>\n",
       "      <td>0.91</td>\n",
       "      <td>0.84</td>\n",
       "      <td>0.84</td>\n",
       "      <td>0.73</td>\n",
       "      <td>0.81</td>\n",
       "      <td>0.80</td>\n",
       "    </tr>\n",
       "    <tr>\n",
       "      <th>f1-score</th>\n",
       "      <td>0.87</td>\n",
       "      <td>0.77</td>\n",
       "      <td>0.63</td>\n",
       "      <td>0.74</td>\n",
       "      <td>0.86</td>\n",
       "      <td>0.80</td>\n",
       "    </tr>\n",
       "    <tr>\n",
       "      <th>support</th>\n",
       "      <td>1046.00</td>\n",
       "      <td>1212.00</td>\n",
       "      <td>1047.00</td>\n",
       "      <td>4880.00</td>\n",
       "      <td>8207.00</td>\n",
       "      <td>16392.00</td>\n",
       "    </tr>\n",
       "  </tbody>\n",
       "</table>\n",
       "</div>"
      ],
      "text/plain": [
       "                 1        2        3        4        5  weighted avg\n",
       "precision     0.84     0.71     0.50     0.74     0.92          0.82\n",
       "recall        0.91     0.84     0.84     0.73     0.81          0.80\n",
       "f1-score      0.87     0.77     0.63     0.74     0.86          0.80\n",
       "support    1046.00  1212.00  1047.00  4880.00  8207.00      16392.00"
      ]
     },
     "execution_count": 17,
     "metadata": {},
     "output_type": "execute_result"
    }
   ],
   "source": [
    "lo_train=pd.DataFrame.from_dict(classification_report(logistic_pred_train,y_train,output_dict=True))[['1','2','3','4','5','weighted avg']]\n",
    "print('\\033[1m'+'\\nLogistic Regression - Training Data\\n')\n",
    "lo_train.round(2)"
   ]
  },
  {
   "cell_type": "code",
   "execution_count": 18,
   "id": "71ac56c6",
   "metadata": {},
   "outputs": [
    {
     "name": "stdout",
     "output_type": "stream",
     "text": [
      "\u001b[1m\n",
      "Logistic Regression - Testing Data\n",
      "\n"
     ]
    },
    {
     "data": {
      "text/html": [
       "<div>\n",
       "<style scoped>\n",
       "    .dataframe tbody tr th:only-of-type {\n",
       "        vertical-align: middle;\n",
       "    }\n",
       "\n",
       "    .dataframe tbody tr th {\n",
       "        vertical-align: top;\n",
       "    }\n",
       "\n",
       "    .dataframe thead th {\n",
       "        text-align: right;\n",
       "    }\n",
       "</style>\n",
       "<table border=\"1\" class=\"dataframe\">\n",
       "  <thead>\n",
       "    <tr style=\"text-align: right;\">\n",
       "      <th></th>\n",
       "      <th>1</th>\n",
       "      <th>2</th>\n",
       "      <th>3</th>\n",
       "      <th>4</th>\n",
       "      <th>5</th>\n",
       "      <th>weighted avg</th>\n",
       "    </tr>\n",
       "  </thead>\n",
       "  <tbody>\n",
       "    <tr>\n",
       "      <th>precision</th>\n",
       "      <td>0.01</td>\n",
       "      <td>0.01</td>\n",
       "      <td>0.01</td>\n",
       "      <td>0.12</td>\n",
       "      <td>0.86</td>\n",
       "      <td>0.75</td>\n",
       "    </tr>\n",
       "    <tr>\n",
       "      <th>recall</th>\n",
       "      <td>0.07</td>\n",
       "      <td>0.13</td>\n",
       "      <td>0.22</td>\n",
       "      <td>0.28</td>\n",
       "      <td>0.44</td>\n",
       "      <td>0.42</td>\n",
       "    </tr>\n",
       "    <tr>\n",
       "      <th>f1-score</th>\n",
       "      <td>0.02</td>\n",
       "      <td>0.02</td>\n",
       "      <td>0.02</td>\n",
       "      <td>0.16</td>\n",
       "      <td>0.59</td>\n",
       "      <td>0.52</td>\n",
       "    </tr>\n",
       "    <tr>\n",
       "      <th>support</th>\n",
       "      <td>44.00</td>\n",
       "      <td>31.00</td>\n",
       "      <td>18.00</td>\n",
       "      <td>491.00</td>\n",
       "      <td>3515.00</td>\n",
       "      <td>4099.00</td>\n",
       "    </tr>\n",
       "  </tbody>\n",
       "</table>\n",
       "</div>"
      ],
      "text/plain": [
       "               1      2      3       4        5  weighted avg\n",
       "precision   0.01   0.01   0.01    0.12     0.86          0.75\n",
       "recall      0.07   0.13   0.22    0.28     0.44          0.42\n",
       "f1-score    0.02   0.02   0.02    0.16     0.59          0.52\n",
       "support    44.00  31.00  18.00  491.00  3515.00       4099.00"
      ]
     },
     "execution_count": 18,
     "metadata": {},
     "output_type": "execute_result"
    }
   ],
   "source": [
    "lo_test=pd.DataFrame.from_dict(classification_report(logistic_pred_test,y_test,output_dict=True))[['1','2','3','4','5','weighted avg']]\n",
    "print('\\033[1m'+'\\nLogistic Regression - Testing Data\\n')\n",
    "lo_test.round(2)"
   ]
  },
  {
   "cell_type": "code",
   "execution_count": null,
   "id": "a7802135",
   "metadata": {},
   "outputs": [],
   "source": [
    "lo_f1_tr=f1_score(logistic_pred_train,y_train,average='weighted').round(2)\n",
    "lo_f1_tr"
   ]
  },
  {
   "cell_type": "code",
   "execution_count": null,
   "id": "f95497f9",
   "metadata": {},
   "outputs": [],
   "source": [
    "lo_f1_t=f1_score(logistic_pred_test,y_test,average='weighted').round(2)\n",
    "lo_f1_t"
   ]
  },
  {
   "cell_type": "code",
   "execution_count": 21,
   "id": "941b69e9",
   "metadata": {},
   "outputs": [
    {
     "data": {
      "image/png": "[encoded data removed]",
      "text/plain": [
       "<Figure size 432x432 with 2 Axes>"
      ]
     },
     "metadata": {
      "needs_background": "light"
     },
     "output_type": "display_data"
    }
   ],
   "source": [
    "# Confusion Matrix for Training Dataset\n",
    "fig,ax = plt.subplots(figsize=(6,6))\n",
    "plot_confusion_matrix(estimator=logistic_model,X=x_train_df,y_true=y_train,ax=ax)\n",
    "plt.title('Logistic Regression - Training Data',size=15)\n",
    "plt.show()"
   ]
  },
  {
   "cell_type": "code",
   "execution_count": 22,
   "id": "cacb98df",
   "metadata": {},
   "outputs": [
    {
     "data": {
      "image/png": "[encoded data removed]",
      "text/plain": [
       "<Figure size 432x432 with 2 Axes>"
      ]
     },
     "metadata": {
      "needs_background": "light"
     },
     "output_type": "display_data"
    }
   ],
   "source": [
    "# Confusion Matrix for Testing Dataset\n",
    "fig,ax = plt.subplots(figsize=(6,6))\n",
    "plot_confusion_matrix(estimator=logistic_model,X=x_test_df,y_true=y_test,ax=ax)\n",
    "plt.title('Logistic Regression - Testing Data',size=15)\n",
    "plt.show()"
   ]
  },
  {
   "cell_type": "markdown",
   "id": "b484c264",
   "metadata": {},
   "source": [
    "### GridSearchCV - Logistic Model"
   ]
  },
  {
   "cell_type": "code",
   "execution_count": 19,
   "id": "456eeb98",
   "metadata": {},
   "outputs": [],
   "source": [
    "# C=[0.1,0.5,1,2,3,5]\n",
    "# penalty=['l1','l2']\n",
    "# params=dict(C=C,penalty=penalty)"
   ]
  },
  {
   "cell_type": "code",
   "execution_count": 20,
   "id": "dec9a163",
   "metadata": {},
   "outputs": [],
   "source": [
    "# %%time\n",
    "# cv=GridSearchCV(estimator=logistic_model,param_grid=params)\n",
    "# cv.fit(x_train_df,y_train)"
   ]
  },
  {
   "cell_type": "code",
   "execution_count": 21,
   "id": "c672cb9d",
   "metadata": {},
   "outputs": [],
   "source": [
    "# cv.best_params_"
   ]
  },
  {
   "cell_type": "markdown",
   "id": "468268ed",
   "metadata": {},
   "source": [
    "### 2. Decision Tree Algorithm"
   ]
  },
  {
   "cell_type": "code",
   "execution_count": 24,
   "id": "561f8ff5",
   "metadata": {},
   "outputs": [],
   "source": [
    "dt_model = DecisionTreeClassifier(criterion='gini',max_depth=9,min_samples_leaf=3)"
   ]
  },
  {
   "cell_type": "code",
   "execution_count": 25,
   "id": "08c8c8ec",
   "metadata": {},
   "outputs": [
    {
     "name": "stdout",
     "output_type": "stream",
     "text": [
      "Wall time: 34.5 s\n"
     ]
    },
    {
     "data": {
      "text/html": [
       "<style>#sk-container-id-2 {color: black;background-color: white;}#sk-container-id-2 pre{padding: 0;}#sk-container-id-2 div.sk-toggleable {background-color: white;}#sk-container-id-2 label.sk-toggleable__label {cursor: pointer;display: block;width: 100%;margin-bottom: 0;padding: 0.3em;box-sizing: border-box;text-align: center;}#sk-container-id-2 label.sk-toggleable__label-arrow:before {content: \"▸\";float: left;margin-right: 0.25em;color: #696969;}#sk-container-id-2 label.sk-toggleable__label-arrow:hover:before {color: black;}#sk-container-id-2 div.sk-estimator:hover label.sk-toggleable__label-arrow:before {color: black;}#sk-container-id-2 div.sk-toggleable__content {max-height: 0;max-width: 0;overflow: hidden;text-align: left;background-color: #f0f8ff;}#sk-container-id-2 div.sk-toggleable__content pre {margin: 0.2em;color: black;border-radius: 0.25em;background-color: #f0f8ff;}#sk-container-id-2 input.sk-toggleable__control:checked~div.sk-toggleable__content {max-height: 200px;max-width: 100%;overflow: auto;}#sk-container-id-2 input.sk-toggleable__control:checked~label.sk-toggleable__label-arrow:before {content: \"▾\";}#sk-container-id-2 div.sk-estimator input.sk-toggleable__control:checked~label.sk-toggleable__label {background-color: #d4ebff;}#sk-container-id-2 div.sk-label input.sk-toggleable__control:checked~label.sk-toggleable__label {background-color: #d4ebff;}#sk-container-id-2 input.sk-hidden--visually {border: 0;clip: rect(1px 1px 1px 1px);clip: rect(1px, 1px, 1px, 1px);height: 1px;margin: -1px;overflow: hidden;padding: 0;position: absolute;width: 1px;}#sk-container-id-2 div.sk-estimator {font-family: monospace;background-color: #f0f8ff;border: 1px dotted black;border-radius: 0.25em;box-sizing: border-box;margin-bottom: 0.5em;}#sk-container-id-2 div.sk-estimator:hover {background-color: #d4ebff;}#sk-container-id-2 div.sk-parallel-item::after {content: \"\";width: 100%;border-bottom: 1px solid gray;flex-grow: 1;}#sk-container-id-2 div.sk-label:hover label.sk-toggleable__label {background-color: #d4ebff;}#sk-container-id-2 div.sk-serial::before {content: \"\";position: absolute;border-left: 1px solid gray;box-sizing: border-box;top: 0;bottom: 0;left: 50%;z-index: 0;}#sk-container-id-2 div.sk-serial {display: flex;flex-direction: column;align-items: center;background-color: white;padding-right: 0.2em;padding-left: 0.2em;position: relative;}#sk-container-id-2 div.sk-item {position: relative;z-index: 1;}#sk-container-id-2 div.sk-parallel {display: flex;align-items: stretch;justify-content: center;background-color: white;position: relative;}#sk-container-id-2 div.sk-item::before, #sk-container-id-2 div.sk-parallel-item::before {content: \"\";position: absolute;border-left: 1px solid gray;box-sizing: border-box;top: 0;bottom: 0;left: 50%;z-index: -1;}#sk-container-id-2 div.sk-parallel-item {display: flex;flex-direction: column;z-index: 1;position: relative;background-color: white;}#sk-container-id-2 div.sk-parallel-item:first-child::after {align-self: flex-end;width: 50%;}#sk-container-id-2 div.sk-parallel-item:last-child::after {align-self: flex-start;width: 50%;}#sk-container-id-2 div.sk-parallel-item:only-child::after {width: 0;}#sk-container-id-2 div.sk-dashed-wrapped {border: 1px dashed gray;margin: 0 0.4em 0.5em 0.4em;box-sizing: border-box;padding-bottom: 0.4em;background-color: white;}#sk-container-id-2 div.sk-label label {font-family: monospace;font-weight: bold;display: inline-block;line-height: 1.2em;}#sk-container-id-2 div.sk-label-container {text-align: center;}#sk-container-id-2 div.sk-container {/* jupyter's `normalize.less` sets `[hidden] { display: none; }` but bootstrap.min.css set `[hidden] { display: none !important; }` so we also need the `!important` here to be able to override the default hidden behavior on the sphinx rendered scikit-learn.org. See: https://github.com/scikit-learn/scikit-learn/issues/21755 */display: inline-block !important;position: relative;}#sk-container-id-2 div.sk-text-repr-fallback {display: none;}</style><div id=\"sk-container-id-2\" class=\"sk-top-container\"><div class=\"sk-text-repr-fallback\"><pre>DecisionTreeClassifier(max_depth=9, min_samples_leaf=3)</pre><b>In a Jupyter environment, please rerun this cell to show the HTML representation or trust the notebook. <br />On GitHub, the HTML representation is unable to render, please try loading this page with nbviewer.org.</b></div><div class=\"sk-container\" hidden><div class=\"sk-item\"><div class=\"sk-estimator sk-toggleable\"><input class=\"sk-toggleable__control sk-hidden--visually\" id=\"sk-estimator-id-2\" type=\"checkbox\" checked><label for=\"sk-estimator-id-2\" class=\"sk-toggleable__label sk-toggleable__label-arrow\">DecisionTreeClassifier</label><div class=\"sk-toggleable__content\"><pre>DecisionTreeClassifier(max_depth=9, min_samples_leaf=3)</pre></div></div></div></div></div>"
      ],
      "text/plain": [
       "DecisionTreeClassifier(max_depth=9, min_samples_leaf=3)"
      ]
     },
     "execution_count": 25,
     "metadata": {},
     "output_type": "execute_result"
    }
   ],
   "source": [
    "%%time\n",
    "dt_model.fit(x_train_df,y_train)"
   ]
  },
  {
   "cell_type": "code",
   "execution_count": 26,
   "id": "b5ca48af",
   "metadata": {},
   "outputs": [],
   "source": [
    "dt_pred_train=dt_model.predict(x_train_df)\n",
    "dt_pred_test=dt_model.predict(x_test_df)\n",
    "dt_train_acc=accuracy_score(dt_pred_train,y_train)\n",
    "dt_test_acc=accuracy_score(dt_pred_test,y_test)"
   ]
  },
  {
   "cell_type": "code",
   "execution_count": 24,
   "id": "25bc7516",
   "metadata": {},
   "outputs": [
    {
     "name": "stdout",
     "output_type": "stream",
     "text": [
      "\u001b[1m\n",
      "Decision Tree - Training Data\n",
      "\n"
     ]
    },
    {
     "data": {
      "text/html": [
       "<div>\n",
       "<style scoped>\n",
       "    .dataframe tbody tr th:only-of-type {\n",
       "        vertical-align: middle;\n",
       "    }\n",
       "\n",
       "    .dataframe tbody tr th {\n",
       "        vertical-align: top;\n",
       "    }\n",
       "\n",
       "    .dataframe thead th {\n",
       "        text-align: right;\n",
       "    }\n",
       "</style>\n",
       "<table border=\"1\" class=\"dataframe\">\n",
       "  <thead>\n",
       "    <tr style=\"text-align: right;\">\n",
       "      <th></th>\n",
       "      <th>1</th>\n",
       "      <th>2</th>\n",
       "      <th>3</th>\n",
       "      <th>4</th>\n",
       "      <th>5</th>\n",
       "      <th>weighted avg</th>\n",
       "    </tr>\n",
       "  </thead>\n",
       "  <tbody>\n",
       "    <tr>\n",
       "      <th>precision</th>\n",
       "      <td>0.25</td>\n",
       "      <td>0.16</td>\n",
       "      <td>0.06</td>\n",
       "      <td>0.55</td>\n",
       "      <td>0.81</td>\n",
       "      <td>0.69</td>\n",
       "    </tr>\n",
       "    <tr>\n",
       "      <th>recall</th>\n",
       "      <td>0.78</td>\n",
       "      <td>0.52</td>\n",
       "      <td>0.68</td>\n",
       "      <td>0.49</td>\n",
       "      <td>0.58</td>\n",
       "      <td>0.56</td>\n",
       "    </tr>\n",
       "    <tr>\n",
       "      <th>f1-score</th>\n",
       "      <td>0.38</td>\n",
       "      <td>0.24</td>\n",
       "      <td>0.10</td>\n",
       "      <td>0.52</td>\n",
       "      <td>0.68</td>\n",
       "      <td>0.60</td>\n",
       "    </tr>\n",
       "    <tr>\n",
       "      <th>support</th>\n",
       "      <td>362.00</td>\n",
       "      <td>431.00</td>\n",
       "      <td>143.00</td>\n",
       "      <td>5365.00</td>\n",
       "      <td>10091.00</td>\n",
       "      <td>16392.00</td>\n",
       "    </tr>\n",
       "  </tbody>\n",
       "</table>\n",
       "</div>"
      ],
      "text/plain": [
       "                1       2       3        4         5  weighted avg\n",
       "precision    0.25    0.16    0.06     0.55      0.81          0.69\n",
       "recall       0.78    0.52    0.68     0.49      0.58          0.56\n",
       "f1-score     0.38    0.24    0.10     0.52      0.68          0.60\n",
       "support    362.00  431.00  143.00  5365.00  10091.00      16392.00"
      ]
     },
     "execution_count": 24,
     "metadata": {},
     "output_type": "execute_result"
    }
   ],
   "source": [
    "dt_train=pd.DataFrame.from_dict(classification_report(dt_pred_train,y_train,output_dict=True))[['1','2','3','4','5','weighted avg']]\n",
    "print('\\033[1m'+'\\nDecision Tree - Training Data\\n')\n",
    "dt_train.round(2)"
   ]
  },
  {
   "cell_type": "code",
   "execution_count": 25,
   "id": "a2f07fb3",
   "metadata": {},
   "outputs": [
    {
     "name": "stdout",
     "output_type": "stream",
     "text": [
      "\u001b[1m\n",
      "Decision Tree - Testing Data\n",
      "\n"
     ]
    },
    {
     "data": {
      "text/html": [
       "<div>\n",
       "<style scoped>\n",
       "    .dataframe tbody tr th:only-of-type {\n",
       "        vertical-align: middle;\n",
       "    }\n",
       "\n",
       "    .dataframe tbody tr th {\n",
       "        vertical-align: top;\n",
       "    }\n",
       "\n",
       "    .dataframe thead th {\n",
       "        text-align: right;\n",
       "    }\n",
       "</style>\n",
       "<table border=\"1\" class=\"dataframe\">\n",
       "  <thead>\n",
       "    <tr style=\"text-align: right;\">\n",
       "      <th></th>\n",
       "      <th>1</th>\n",
       "      <th>2</th>\n",
       "      <th>3</th>\n",
       "      <th>4</th>\n",
       "      <th>5</th>\n",
       "      <th>weighted avg</th>\n",
       "    </tr>\n",
       "  </thead>\n",
       "  <tbody>\n",
       "    <tr>\n",
       "      <th>precision</th>\n",
       "      <td>0.03</td>\n",
       "      <td>0.0</td>\n",
       "      <td>0.0</td>\n",
       "      <td>0.0</td>\n",
       "      <td>0.94</td>\n",
       "      <td>0.90</td>\n",
       "    </tr>\n",
       "    <tr>\n",
       "      <th>recall</th>\n",
       "      <td>0.04</td>\n",
       "      <td>0.0</td>\n",
       "      <td>0.0</td>\n",
       "      <td>0.2</td>\n",
       "      <td>0.44</td>\n",
       "      <td>0.42</td>\n",
       "    </tr>\n",
       "    <tr>\n",
       "      <th>f1-score</th>\n",
       "      <td>0.03</td>\n",
       "      <td>0.0</td>\n",
       "      <td>0.0</td>\n",
       "      <td>0.0</td>\n",
       "      <td>0.60</td>\n",
       "      <td>0.57</td>\n",
       "    </tr>\n",
       "    <tr>\n",
       "      <th>support</th>\n",
       "      <td>183.00</td>\n",
       "      <td>2.0</td>\n",
       "      <td>0.0</td>\n",
       "      <td>5.0</td>\n",
       "      <td>3909.00</td>\n",
       "      <td>4099.00</td>\n",
       "    </tr>\n",
       "  </tbody>\n",
       "</table>\n",
       "</div>"
      ],
      "text/plain": [
       "                1    2    3    4        5  weighted avg\n",
       "precision    0.03  0.0  0.0  0.0     0.94          0.90\n",
       "recall       0.04  0.0  0.0  0.2     0.44          0.42\n",
       "f1-score     0.03  0.0  0.0  0.0     0.60          0.57\n",
       "support    183.00  2.0  0.0  5.0  3909.00       4099.00"
      ]
     },
     "execution_count": 25,
     "metadata": {},
     "output_type": "execute_result"
    }
   ],
   "source": [
    "dt_test=pd.DataFrame.from_dict(classification_report(dt_pred_test,y_test,output_dict=True))[['1','2','3','4','5','weighted avg']]\n",
    "print('\\033[1m'+'\\nDecision Tree - Testing Data\\n')\n",
    "dt_test.round(2)"
   ]
  },
  {
   "cell_type": "code",
   "execution_count": 27,
   "id": "2f7de62e",
   "metadata": {},
   "outputs": [
    {
     "data": {
      "text/plain": [
       "0.6"
      ]
     },
     "execution_count": 27,
     "metadata": {},
     "output_type": "execute_result"
    }
   ],
   "source": [
    "dt_f1_tr=f1_score(dt_pred_train,y_train,average='weighted').round(2)\n",
    "dt_f1_tr"
   ]
  },
  {
   "cell_type": "code",
   "execution_count": 28,
   "id": "58807df6",
   "metadata": {},
   "outputs": [
    {
     "data": {
      "text/plain": [
       "0.57"
      ]
     },
     "execution_count": 28,
     "metadata": {},
     "output_type": "execute_result"
    }
   ],
   "source": [
    "dt_f1_t=f1_score(dt_pred_test,y_test,average='weighted').round(2)\n",
    "dt_f1_t"
   ]
  },
  {
   "cell_type": "code",
   "execution_count": 26,
   "id": "e536f941",
   "metadata": {},
   "outputs": [
    {
     "data": {
      "image/png": "[encoded data removed]",
      "text/plain": [
       "<Figure size 432x432 with 2 Axes>"
      ]
     },
     "metadata": {
      "needs_background": "light"
     },
     "output_type": "display_data"
    }
   ],
   "source": [
    "# Confusion Matrix for Training Dataset\n",
    "fig,ax = plt.subplots(figsize=(6,6))\n",
    "plot_confusion_matrix(estimator=dt_model,X=x_train_df,y_true=y_train,ax=ax)\n",
    "plt.title('Decision Tree - Training Data',size=15)\n",
    "plt.show()"
   ]
  },
  {
   "cell_type": "code",
   "execution_count": 27,
   "id": "f9ca54c9",
   "metadata": {},
   "outputs": [
    {
     "data": {
      "image/png": "[encoded data removed]",
      "text/plain": [
       "<Figure size 432x432 with 2 Axes>"
      ]
     },
     "metadata": {
      "needs_background": "light"
     },
     "output_type": "display_data"
    }
   ],
   "source": [
    "# Confusion Matrix for Testing Dataset\n",
    "fig,ax = plt.subplots(figsize=(6,6))\n",
    "plot_confusion_matrix(estimator=dt_model,X=x_test_df,y_true=y_test,ax=ax)\n",
    "plt.title('Decision Tree - Testing Data',size=15)\n",
    "plt.show()"
   ]
  },
  {
   "cell_type": "markdown",
   "id": "c012afac",
   "metadata": {},
   "source": [
    "### GridSearchCV - DT Classifier Model"
   ]
  },
  {
   "cell_type": "code",
   "execution_count": 28,
   "id": "a5ba6096",
   "metadata": {},
   "outputs": [],
   "source": [
    "# criterion = ['gini','entropy']\n",
    "# max_depth = [3,5,7,9,11]\n",
    "# min_samples_leaf = [1,3,5,7,9]\n",
    "# params=dict(criterion=criterion,max_depth=max_depth,min_samples_leaf=min_samples_leaf)"
   ]
  },
  {
   "cell_type": "code",
   "execution_count": 29,
   "id": "8b5d1428",
   "metadata": {},
   "outputs": [],
   "source": [
    "# %%time\n",
    "# cv=GridSearchCV(estimator=dt_model,param_grid=params)\n",
    "# cv.fit(x_train_df,y_train)"
   ]
  },
  {
   "cell_type": "code",
   "execution_count": 30,
   "id": "e7791e6a",
   "metadata": {},
   "outputs": [],
   "source": [
    "# cv.best_params_"
   ]
  },
  {
   "cell_type": "markdown",
   "id": "265de077",
   "metadata": {},
   "source": [
    "### 3. K- Nearest Neighbors Algorithm (KNN)"
   ]
  },
  {
   "cell_type": "code",
   "execution_count": 29,
   "id": "087e6e3d",
   "metadata": {},
   "outputs": [],
   "source": [
    "knn_model = KNeighborsClassifier(n_neighbors=35)"
   ]
  },
  {
   "cell_type": "code",
   "execution_count": 30,
   "id": "e40d4a85",
   "metadata": {},
   "outputs": [
    {
     "name": "stdout",
     "output_type": "stream",
     "text": [
      "Wall time: 329 ms\n"
     ]
    },
    {
     "data": {
      "text/html": [
       "<style>#sk-container-id-3 {color: black;background-color: white;}#sk-container-id-3 pre{padding: 0;}#sk-container-id-3 div.sk-toggleable {background-color: white;}#sk-container-id-3 label.sk-toggleable__label {cursor: pointer;display: block;width: 100%;margin-bottom: 0;padding: 0.3em;box-sizing: border-box;text-align: center;}#sk-container-id-3 label.sk-toggleable__label-arrow:before {content: \"▸\";float: left;margin-right: 0.25em;color: #696969;}#sk-container-id-3 label.sk-toggleable__label-arrow:hover:before {color: black;}#sk-container-id-3 div.sk-estimator:hover label.sk-toggleable__label-arrow:before {color: black;}#sk-container-id-3 div.sk-toggleable__content {max-height: 0;max-width: 0;overflow: hidden;text-align: left;background-color: #f0f8ff;}#sk-container-id-3 div.sk-toggleable__content pre {margin: 0.2em;color: black;border-radius: 0.25em;background-color: #f0f8ff;}#sk-container-id-3 input.sk-toggleable__control:checked~div.sk-toggleable__content {max-height: 200px;max-width: 100%;overflow: auto;}#sk-container-id-3 input.sk-toggleable__control:checked~label.sk-toggleable__label-arrow:before {content: \"▾\";}#sk-container-id-3 div.sk-estimator input.sk-toggleable__control:checked~label.sk-toggleable__label {background-color: #d4ebff;}#sk-container-id-3 div.sk-label input.sk-toggleable__control:checked~label.sk-toggleable__label {background-color: #d4ebff;}#sk-container-id-3 input.sk-hidden--visually {border: 0;clip: rect(1px 1px 1px 1px);clip: rect(1px, 1px, 1px, 1px);height: 1px;margin: -1px;overflow: hidden;padding: 0;position: absolute;width: 1px;}#sk-container-id-3 div.sk-estimator {font-family: monospace;background-color: #f0f8ff;border: 1px dotted black;border-radius: 0.25em;box-sizing: border-box;margin-bottom: 0.5em;}#sk-container-id-3 div.sk-estimator:hover {background-color: #d4ebff;}#sk-container-id-3 div.sk-parallel-item::after {content: \"\";width: 100%;border-bottom: 1px solid gray;flex-grow: 1;}#sk-container-id-3 div.sk-label:hover label.sk-toggleable__label {background-color: #d4ebff;}#sk-container-id-3 div.sk-serial::before {content: \"\";position: absolute;border-left: 1px solid gray;box-sizing: border-box;top: 0;bottom: 0;left: 50%;z-index: 0;}#sk-container-id-3 div.sk-serial {display: flex;flex-direction: column;align-items: center;background-color: white;padding-right: 0.2em;padding-left: 0.2em;position: relative;}#sk-container-id-3 div.sk-item {position: relative;z-index: 1;}#sk-container-id-3 div.sk-parallel {display: flex;align-items: stretch;justify-content: center;background-color: white;position: relative;}#sk-container-id-3 div.sk-item::before, #sk-container-id-3 div.sk-parallel-item::before {content: \"\";position: absolute;border-left: 1px solid gray;box-sizing: border-box;top: 0;bottom: 0;left: 50%;z-index: -1;}#sk-container-id-3 div.sk-parallel-item {display: flex;flex-direction: column;z-index: 1;position: relative;background-color: white;}#sk-container-id-3 div.sk-parallel-item:first-child::after {align-self: flex-end;width: 50%;}#sk-container-id-3 div.sk-parallel-item:last-child::after {align-self: flex-start;width: 50%;}#sk-container-id-3 div.sk-parallel-item:only-child::after {width: 0;}#sk-container-id-3 div.sk-dashed-wrapped {border: 1px dashed gray;margin: 0 0.4em 0.5em 0.4em;box-sizing: border-box;padding-bottom: 0.4em;background-color: white;}#sk-container-id-3 div.sk-label label {font-family: monospace;font-weight: bold;display: inline-block;line-height: 1.2em;}#sk-container-id-3 div.sk-label-container {text-align: center;}#sk-container-id-3 div.sk-container {/* jupyter's `normalize.less` sets `[hidden] { display: none; }` but bootstrap.min.css set `[hidden] { display: none !important; }` so we also need the `!important` here to be able to override the default hidden behavior on the sphinx rendered scikit-learn.org. See: https://github.com/scikit-learn/scikit-learn/issues/21755 */display: inline-block !important;position: relative;}#sk-container-id-3 div.sk-text-repr-fallback {display: none;}</style><div id=\"sk-container-id-3\" class=\"sk-top-container\"><div class=\"sk-text-repr-fallback\"><pre>KNeighborsClassifier(n_neighbors=35)</pre><b>In a Jupyter environment, please rerun this cell to show the HTML representation or trust the notebook. <br />On GitHub, the HTML representation is unable to render, please try loading this page with nbviewer.org.</b></div><div class=\"sk-container\" hidden><div class=\"sk-item\"><div class=\"sk-estimator sk-toggleable\"><input class=\"sk-toggleable__control sk-hidden--visually\" id=\"sk-estimator-id-3\" type=\"checkbox\" checked><label for=\"sk-estimator-id-3\" class=\"sk-toggleable__label sk-toggleable__label-arrow\">KNeighborsClassifier</label><div class=\"sk-toggleable__content\"><pre>KNeighborsClassifier(n_neighbors=35)</pre></div></div></div></div></div>"
      ],
      "text/plain": [
       "KNeighborsClassifier(n_neighbors=35)"
      ]
     },
     "execution_count": 30,
     "metadata": {},
     "output_type": "execute_result"
    }
   ],
   "source": [
    "%%time\n",
    "knn_model.fit(x_train_df,y_train)"
   ]
  },
  {
   "cell_type": "code",
   "execution_count": 31,
   "id": "ffd3770c",
   "metadata": {},
   "outputs": [],
   "source": [
    "knn_pred_train=knn_model.predict(x_train_df)\n",
    "knn_pred_test=knn_model.predict(x_test_df)\n",
    "knn_train_acc=accuracy_score(knn_pred_train,y_train)\n",
    "knn_test_acc=accuracy_score(knn_pred_test,y_test)"
   ]
  },
  {
   "cell_type": "code",
   "execution_count": 36,
   "id": "2ef39121",
   "metadata": {},
   "outputs": [
    {
     "name": "stdout",
     "output_type": "stream",
     "text": [
      "\u001b[1m\n",
      "KNN - Training Data\n",
      "\n"
     ]
    },
    {
     "data": {
      "text/html": [
       "<div>\n",
       "<style scoped>\n",
       "    .dataframe tbody tr th:only-of-type {\n",
       "        vertical-align: middle;\n",
       "    }\n",
       "\n",
       "    .dataframe tbody tr th {\n",
       "        vertical-align: top;\n",
       "    }\n",
       "\n",
       "    .dataframe thead th {\n",
       "        text-align: right;\n",
       "    }\n",
       "</style>\n",
       "<table border=\"1\" class=\"dataframe\">\n",
       "  <thead>\n",
       "    <tr style=\"text-align: right;\">\n",
       "      <th></th>\n",
       "      <th>1</th>\n",
       "      <th>2</th>\n",
       "      <th>3</th>\n",
       "      <th>4</th>\n",
       "      <th>5</th>\n",
       "      <th>weighted avg</th>\n",
       "    </tr>\n",
       "  </thead>\n",
       "  <tbody>\n",
       "    <tr>\n",
       "      <th>precision</th>\n",
       "      <td>0.46</td>\n",
       "      <td>0.16</td>\n",
       "      <td>0.06</td>\n",
       "      <td>0.44</td>\n",
       "      <td>0.86</td>\n",
       "      <td>0.69</td>\n",
       "    </tr>\n",
       "    <tr>\n",
       "      <th>recall</th>\n",
       "      <td>0.67</td>\n",
       "      <td>0.46</td>\n",
       "      <td>0.46</td>\n",
       "      <td>0.47</td>\n",
       "      <td>0.61</td>\n",
       "      <td>0.56</td>\n",
       "    </tr>\n",
       "    <tr>\n",
       "      <th>f1-score</th>\n",
       "      <td>0.54</td>\n",
       "      <td>0.23</td>\n",
       "      <td>0.10</td>\n",
       "      <td>0.45</td>\n",
       "      <td>0.71</td>\n",
       "      <td>0.61</td>\n",
       "    </tr>\n",
       "    <tr>\n",
       "      <th>support</th>\n",
       "      <td>774.00</td>\n",
       "      <td>486.00</td>\n",
       "      <td>219.00</td>\n",
       "      <td>4591.00</td>\n",
       "      <td>10322.00</td>\n",
       "      <td>16392.00</td>\n",
       "    </tr>\n",
       "  </tbody>\n",
       "</table>\n",
       "</div>"
      ],
      "text/plain": [
       "                1       2       3        4         5  weighted avg\n",
       "precision    0.46    0.16    0.06     0.44      0.86          0.69\n",
       "recall       0.67    0.46    0.46     0.47      0.61          0.56\n",
       "f1-score     0.54    0.23    0.10     0.45      0.71          0.61\n",
       "support    774.00  486.00  219.00  4591.00  10322.00      16392.00"
      ]
     },
     "execution_count": 36,
     "metadata": {},
     "output_type": "execute_result"
    }
   ],
   "source": [
    "knn_train=pd.DataFrame.from_dict(classification_report(knn_pred_train,y_train,output_dict=True))[['1','2','3','4','5','weighted avg']]\n",
    "print('\\033[1m'+'\\nKNN - Training Data\\n')\n",
    "knn_train.round(2)"
   ]
  },
  {
   "cell_type": "code",
   "execution_count": 37,
   "id": "42521d1b",
   "metadata": {},
   "outputs": [
    {
     "name": "stdout",
     "output_type": "stream",
     "text": [
      "\u001b[1m\n",
      "KNN - Testing Data\n",
      "\n"
     ]
    },
    {
     "data": {
      "text/html": [
       "<div>\n",
       "<style scoped>\n",
       "    .dataframe tbody tr th:only-of-type {\n",
       "        vertical-align: middle;\n",
       "    }\n",
       "\n",
       "    .dataframe tbody tr th {\n",
       "        vertical-align: top;\n",
       "    }\n",
       "\n",
       "    .dataframe thead th {\n",
       "        text-align: right;\n",
       "    }\n",
       "</style>\n",
       "<table border=\"1\" class=\"dataframe\">\n",
       "  <thead>\n",
       "    <tr style=\"text-align: right;\">\n",
       "      <th></th>\n",
       "      <th>1</th>\n",
       "      <th>2</th>\n",
       "      <th>3</th>\n",
       "      <th>4</th>\n",
       "      <th>5</th>\n",
       "      <th>weighted avg</th>\n",
       "    </tr>\n",
       "  </thead>\n",
       "  <tbody>\n",
       "    <tr>\n",
       "      <th>precision</th>\n",
       "      <td>0.01</td>\n",
       "      <td>0.01</td>\n",
       "      <td>0.00</td>\n",
       "      <td>0.14</td>\n",
       "      <td>0.85</td>\n",
       "      <td>0.74</td>\n",
       "    </tr>\n",
       "    <tr>\n",
       "      <th>recall</th>\n",
       "      <td>0.09</td>\n",
       "      <td>0.12</td>\n",
       "      <td>0.11</td>\n",
       "      <td>0.31</td>\n",
       "      <td>0.45</td>\n",
       "      <td>0.42</td>\n",
       "    </tr>\n",
       "    <tr>\n",
       "      <th>f1-score</th>\n",
       "      <td>0.02</td>\n",
       "      <td>0.02</td>\n",
       "      <td>0.01</td>\n",
       "      <td>0.19</td>\n",
       "      <td>0.58</td>\n",
       "      <td>0.52</td>\n",
       "    </tr>\n",
       "    <tr>\n",
       "      <th>support</th>\n",
       "      <td>46.00</td>\n",
       "      <td>25.00</td>\n",
       "      <td>18.00</td>\n",
       "      <td>549.00</td>\n",
       "      <td>3461.00</td>\n",
       "      <td>4099.00</td>\n",
       "    </tr>\n",
       "  </tbody>\n",
       "</table>\n",
       "</div>"
      ],
      "text/plain": [
       "               1      2      3       4        5  weighted avg\n",
       "precision   0.01   0.01   0.00    0.14     0.85          0.74\n",
       "recall      0.09   0.12   0.11    0.31     0.45          0.42\n",
       "f1-score    0.02   0.02   0.01    0.19     0.58          0.52\n",
       "support    46.00  25.00  18.00  549.00  3461.00       4099.00"
      ]
     },
     "execution_count": 37,
     "metadata": {},
     "output_type": "execute_result"
    }
   ],
   "source": [
    "knn_test=pd.DataFrame.from_dict(classification_report(knn_pred_test,y_test,output_dict=True))[['1','2','3','4','5','weighted avg']]\n",
    "print('\\033[1m'+'\\nKNN - Testing Data\\n')\n",
    "knn_test.round(2)"
   ]
  },
  {
   "cell_type": "code",
   "execution_count": 32,
   "id": "59240fce",
   "metadata": {},
   "outputs": [
    {
     "data": {
      "text/plain": [
       "0.61"
      ]
     },
     "execution_count": 32,
     "metadata": {},
     "output_type": "execute_result"
    }
   ],
   "source": [
    "knn_f1_tr=f1_score(knn_pred_train,y_train,average='weighted').round(2)\n",
    "knn_f1_tr"
   ]
  },
  {
   "cell_type": "code",
   "execution_count": 33,
   "id": "e542f4d7",
   "metadata": {},
   "outputs": [
    {
     "data": {
      "text/plain": [
       "0.52"
      ]
     },
     "execution_count": 33,
     "metadata": {},
     "output_type": "execute_result"
    }
   ],
   "source": [
    "knn_f1_t=f1_score(knn_pred_test,y_test,average='weighted').round(2)\n",
    "knn_f1_t"
   ]
  },
  {
   "cell_type": "code",
   "execution_count": 38,
   "id": "a4cc5268",
   "metadata": {},
   "outputs": [
    {
     "data": {
      "image/png": "[encoded data removed]",
      "text/plain": [
       "<Figure size 432x432 with 2 Axes>"
      ]
     },
     "metadata": {
      "needs_background": "light"
     },
     "output_type": "display_data"
    }
   ],
   "source": [
    "# Confusion Matrix for Training Dataset\n",
    "fig,ax = plt.subplots(figsize=(6,6))\n",
    "plot_confusion_matrix(estimator=knn_model,X=x_train_df,y_true=y_train,ax=ax)\n",
    "plt.title('KNNdt_f1_tr=f1_score(dt_pred_train,y_train,average='weighted').round(2)\n",
    "plt.show()"
   ]
  },
  {
   "cell_type": "code",
   "execution_count": 39,
   "id": "405d4a54",
   "metadata": {},
   "outputs": [
    {
     "data": {
      "image/png": "[encoded data removed]",
      "text/plain": [
       "<Figure size 432x432 with 2 Axes>"
      ]
     },
     "metadata": {
      "needs_background": "light"
     },
     "output_type": "display_data"
    }
   ],
   "source": [
    "# Confusion Matrix for Testing Dataset\n",
    "fig,ax = plt.subplots(figsize=(6,6))\n",
    "plot_confusion_matrix(estimator=knn_model,X=x_test_df,y_true=y_test,ax=ax)\n",
    "plt.title('KNN - Testing Data',size=15)\n",
    "plt.show()"
   ]
  },
  {
   "cell_type": "markdown",
   "id": "5835987c",
   "metadata": {},
   "source": [
    "### GridSearchCV - KNN Classifier Model"
   ]
  },
  {
   "cell_type": "code",
   "execution_count": 40,
   "id": "759efdca",
   "metadata": {},
   "outputs": [],
   "source": [
    "# test=[]\n",
    "# neighbours = list(range(1,50,2))\n",
    "# for i in neighbours:\n",
    "#     knn=KNeighborsClassifier(n_neighbors=i)\n",
    "#     score=cross_val_score(estimator=knn,X=x_train_df,y=y_train,cv=10)\n",
    "#     mean_score=np.round(np.mean(score),4)\n",
    "#     test.append(mean_score)"
   ]
  },
  {
   "cell_type": "code",
   "execution_count": 41,
   "id": "7e381bbd",
   "metadata": {
    "scrolled": true
   },
   "outputs": [],
   "source": [
    "#Optmum Number of Neighbours\n",
    "# neighbours[test.index(np.max(test))]"
   ]
  },
  {
   "cell_type": "code",
   "execution_count": 42,
   "id": "b7f49620",
   "metadata": {},
   "outputs": [],
   "source": [
    "# plt.plot(neighbours,test)\n",
    "# plt.xticks(np.arange(1, 50, step=2))\n",
    "# plt.show()"
   ]
  },
  {
   "cell_type": "markdown",
   "id": "37ba1ec5",
   "metadata": {},
   "source": [
    "### 4. Random Forest Classifier"
   ]
  },
  {
   "cell_type": "code",
   "execution_count": 34,
   "id": "0393239c",
   "metadata": {},
   "outputs": [],
   "source": [
    "rf_model = RandomForestClassifier(n_estimators=100,criterion='gini',max_depth=9)"
   ]
  },
  {
   "cell_type": "code",
   "execution_count": 35,
   "id": "26469bce",
   "metadata": {},
   "outputs": [
    {
     "name": "stdout",
     "output_type": "stream",
     "text": [
      "Wall time: 26.2 s\n"
     ]
    },
    {
     "data": {
      "text/html": [
       "<style>#sk-container-id-4 {color: black;background-color: white;}#sk-container-id-4 pre{padding: 0;}#sk-container-id-4 div.sk-toggleable {background-color: white;}#sk-container-id-4 label.sk-toggleable__label {cursor: pointer;display: block;width: 100%;margin-bottom: 0;padding: 0.3em;box-sizing: border-box;text-align: center;}#sk-container-id-4 label.sk-toggleable__label-arrow:before {content: \"▸\";float: left;margin-right: 0.25em;color: #696969;}#sk-container-id-4 label.sk-toggleable__label-arrow:hover:before {color: black;}#sk-container-id-4 div.sk-estimator:hover label.sk-toggleable__label-arrow:before {color: black;}#sk-container-id-4 div.sk-toggleable__content {max-height: 0;max-width: 0;overflow: hidden;text-align: left;background-color: #f0f8ff;}#sk-container-id-4 div.sk-toggleable__content pre {margin: 0.2em;color: black;border-radius: 0.25em;background-color: #f0f8ff;}#sk-container-id-4 input.sk-toggleable__control:checked~div.sk-toggleable__content {max-height: 200px;max-width: 100%;overflow: auto;}#sk-container-id-4 input.sk-toggleable__control:checked~label.sk-toggleable__label-arrow:before {content: \"▾\";}#sk-container-id-4 div.sk-estimator input.sk-toggleable__control:checked~label.sk-toggleable__label {background-color: #d4ebff;}#sk-container-id-4 div.sk-label input.sk-toggleable__control:checked~label.sk-toggleable__label {background-color: #d4ebff;}#sk-container-id-4 input.sk-hidden--visually {border: 0;clip: rect(1px 1px 1px 1px);clip: rect(1px, 1px, 1px, 1px);height: 1px;margin: -1px;overflow: hidden;padding: 0;position: absolute;width: 1px;}#sk-container-id-4 div.sk-estimator {font-family: monospace;background-color: #f0f8ff;border: 1px dotted black;border-radius: 0.25em;box-sizing: border-box;margin-bottom: 0.5em;}#sk-container-id-4 div.sk-estimator:hover {background-color: #d4ebff;}#sk-container-id-4 div.sk-parallel-item::after {content: \"\";width: 100%;border-bottom: 1px solid gray;flex-grow: 1;}#sk-container-id-4 div.sk-label:hover label.sk-toggleable__label {background-color: #d4ebff;}#sk-container-id-4 div.sk-serial::before {content: \"\";position: absolute;border-left: 1px solid gray;box-sizing: border-box;top: 0;bottom: 0;left: 50%;z-index: 0;}#sk-container-id-4 div.sk-serial {display: flex;flex-direction: column;align-items: center;background-color: white;padding-right: 0.2em;padding-left: 0.2em;position: relative;}#sk-container-id-4 div.sk-item {position: relative;z-index: 1;}#sk-container-id-4 div.sk-parallel {display: flex;align-items: stretch;justify-content: center;background-color: white;position: relative;}#sk-container-id-4 div.sk-item::before, #sk-container-id-4 div.sk-parallel-item::before {content: \"\";position: absolute;border-left: 1px solid gray;box-sizing: border-box;top: 0;bottom: 0;left: 50%;z-index: -1;}#sk-container-id-4 div.sk-parallel-item {display: flex;flex-direction: column;z-index: 1;position: relative;background-color: white;}#sk-container-id-4 div.sk-parallel-item:first-child::after {align-self: flex-end;width: 50%;}#sk-container-id-4 div.sk-parallel-item:last-child::after {align-self: flex-start;width: 50%;}#sk-container-id-4 div.sk-parallel-item:only-child::after {width: 0;}#sk-container-id-4 div.sk-dashed-wrapped {border: 1px dashed gray;margin: 0 0.4em 0.5em 0.4em;box-sizing: border-box;padding-bottom: 0.4em;background-color: white;}#sk-container-id-4 div.sk-label label {font-family: monospace;font-weight: bold;display: inline-block;line-height: 1.2em;}#sk-container-id-4 div.sk-label-container {text-align: center;}#sk-container-id-4 div.sk-container {/* jupyter's `normalize.less` sets `[hidden] { display: none; }` but bootstrap.min.css set `[hidden] { display: none !important; }` so we also need the `!important` here to be able to override the default hidden behavior on the sphinx rendered scikit-learn.org. See: https://github.com/scikit-learn/scikit-learn/issues/21755 */display: inline-block !important;position: relative;}#sk-container-id-4 div.sk-text-repr-fallback {display: none;}</style><div id=\"sk-container-id-4\" class=\"sk-top-container\"><div class=\"sk-text-repr-fallback\"><pre>RandomForestClassifier(max_depth=9)</pre><b>In a Jupyter environment, please rerun this cell to show the HTML representation or trust the notebook. <br />On GitHub, the HTML representation is unable to render, please try loading this page with nbviewer.org.</b></div><div class=\"sk-container\" hidden><div class=\"sk-item\"><div class=\"sk-estimator sk-toggleable\"><input class=\"sk-toggleable__control sk-hidden--visually\" id=\"sk-estimator-id-4\" type=\"checkbox\" checked><label for=\"sk-estimator-id-4\" class=\"sk-toggleable__label sk-toggleable__label-arrow\">RandomForestClassifier</label><div class=\"sk-toggleable__content\"><pre>RandomForestClassifier(max_depth=9)</pre></div></div></div></div></div>"
      ],
      "text/plain": [
       "RandomForestClassifier(max_depth=9)"
      ]
     },
     "execution_count": 35,
     "metadata": {},
     "output_type": "execute_result"
    }
   ],
   "source": [
    "%%time\n",
    "rf_model.fit(x_train_df,y_train)"
   ]
  },
  {
   "cell_type": "code",
   "execution_count": 36,
   "id": "49a9d455",
   "metadata": {},
   "outputs": [],
   "source": [
    "rf_pred_train=rf_model.predict(x_train_df)\n",
    "rf_pred_test=rf_model.predict(x_test_df)\n",
    "rf_train_acc=accuracy_score(rf_pred_train,y_train)\n",
    "rf_test_acc=accuracy_score(rf_pred_test,y_test)"
   ]
  },
  {
   "cell_type": "code",
   "execution_count": 46,
   "id": "d7eee5b2",
   "metadata": {},
   "outputs": [
    {
     "name": "stdout",
     "output_type": "stream",
     "text": [
      "\u001b[1m\n",
      "Random Forest - Training Data\n",
      "\n"
     ]
    },
    {
     "data": {
      "text/html": [
       "<div>\n",
       "<style scoped>\n",
       "    .dataframe tbody tr th:only-of-type {\n",
       "        vertical-align: middle;\n",
       "    }\n",
       "\n",
       "    .dataframe tbody tr th {\n",
       "        vertical-align: top;\n",
       "    }\n",
       "\n",
       "    .dataframe thead th {\n",
       "        text-align: right;\n",
       "    }\n",
       "</style>\n",
       "<table border=\"1\" class=\"dataframe\">\n",
       "  <thead>\n",
       "    <tr style=\"text-align: right;\">\n",
       "      <th></th>\n",
       "      <th>1</th>\n",
       "      <th>2</th>\n",
       "      <th>3</th>\n",
       "      <th>4</th>\n",
       "      <th>5</th>\n",
       "      <th>weighted avg</th>\n",
       "    </tr>\n",
       "  </thead>\n",
       "  <tbody>\n",
       "    <tr>\n",
       "      <th>precision</th>\n",
       "      <td>0.04</td>\n",
       "      <td>0.0</td>\n",
       "      <td>0.0</td>\n",
       "      <td>0.02</td>\n",
       "      <td>1.00</td>\n",
       "      <td>0.99</td>\n",
       "    </tr>\n",
       "    <tr>\n",
       "      <th>recall</th>\n",
       "      <td>0.98</td>\n",
       "      <td>1.0</td>\n",
       "      <td>0.0</td>\n",
       "      <td>0.84</td>\n",
       "      <td>0.45</td>\n",
       "      <td>0.45</td>\n",
       "    </tr>\n",
       "    <tr>\n",
       "      <th>f1-score</th>\n",
       "      <td>0.07</td>\n",
       "      <td>0.0</td>\n",
       "      <td>0.0</td>\n",
       "      <td>0.03</td>\n",
       "      <td>0.62</td>\n",
       "      <td>0.61</td>\n",
       "    </tr>\n",
       "    <tr>\n",
       "      <th>support</th>\n",
       "      <td>45.00</td>\n",
       "      <td>2.0</td>\n",
       "      <td>0.0</td>\n",
       "      <td>100.00</td>\n",
       "      <td>16245.00</td>\n",
       "      <td>16392.00</td>\n",
       "    </tr>\n",
       "  </tbody>\n",
       "</table>\n",
       "</div>"
      ],
      "text/plain": [
       "               1    2    3       4         5  weighted avg\n",
       "precision   0.04  0.0  0.0    0.02      1.00          0.99\n",
       "recall      0.98  1.0  0.0    0.84      0.45          0.45\n",
       "f1-score    0.07  0.0  0.0    0.03      0.62          0.61\n",
       "support    45.00  2.0  0.0  100.00  16245.00      16392.00"
      ]
     },
     "execution_count": 46,
     "metadata": {},
     "output_type": "execute_result"
    }
   ],
   "source": [
    "rf_train=pd.DataFrame.from_dict(classification_report(rf_pred_train,y_train,output_dict=True))[['1','2','3','4','5','weighted avg']]\n",
    "print('\\033[1m'+'\\nRandom Forest - Training Data\\n')\n",
    "rf_train.round(2)"
   ]
  },
  {
   "cell_type": "code",
   "execution_count": 47,
   "id": "9ae92591",
   "metadata": {},
   "outputs": [
    {
     "name": "stdout",
     "output_type": "stream",
     "text": [
      "\u001b[1m\n",
      "Random Forest - Testing Data\n",
      "\n"
     ]
    },
    {
     "data": {
      "text/html": [
       "<div>\n",
       "<style scoped>\n",
       "    .dataframe tbody tr th:only-of-type {\n",
       "        vertical-align: middle;\n",
       "    }\n",
       "\n",
       "    .dataframe tbody tr th {\n",
       "        vertical-align: top;\n",
       "    }\n",
       "\n",
       "    .dataframe thead th {\n",
       "        text-align: right;\n",
       "    }\n",
       "</style>\n",
       "<table border=\"1\" class=\"dataframe\">\n",
       "  <thead>\n",
       "    <tr style=\"text-align: right;\">\n",
       "      <th></th>\n",
       "      <th>1</th>\n",
       "      <th>2</th>\n",
       "      <th>3</th>\n",
       "      <th>4</th>\n",
       "      <th>5</th>\n",
       "      <th>weighted avg</th>\n",
       "    </tr>\n",
       "  </thead>\n",
       "  <tbody>\n",
       "    <tr>\n",
       "      <th>precision</th>\n",
       "      <td>0.0</td>\n",
       "      <td>0.0</td>\n",
       "      <td>0.0</td>\n",
       "      <td>0.0</td>\n",
       "      <td>1.00</td>\n",
       "      <td>1.00</td>\n",
       "    </tr>\n",
       "    <tr>\n",
       "      <th>recall</th>\n",
       "      <td>0.0</td>\n",
       "      <td>0.0</td>\n",
       "      <td>0.0</td>\n",
       "      <td>0.0</td>\n",
       "      <td>0.44</td>\n",
       "      <td>0.44</td>\n",
       "    </tr>\n",
       "    <tr>\n",
       "      <th>f1-score</th>\n",
       "      <td>0.0</td>\n",
       "      <td>0.0</td>\n",
       "      <td>0.0</td>\n",
       "      <td>0.0</td>\n",
       "      <td>0.61</td>\n",
       "      <td>0.61</td>\n",
       "    </tr>\n",
       "    <tr>\n",
       "      <th>support</th>\n",
       "      <td>0.0</td>\n",
       "      <td>0.0</td>\n",
       "      <td>0.0</td>\n",
       "      <td>0.0</td>\n",
       "      <td>4099.00</td>\n",
       "      <td>4099.00</td>\n",
       "    </tr>\n",
       "  </tbody>\n",
       "</table>\n",
       "</div>"
      ],
      "text/plain": [
       "             1    2    3    4        5  weighted avg\n",
       "precision  0.0  0.0  0.0  0.0     1.00          1.00\n",
       "recall     0.0  0.0  0.0  0.0     0.44          0.44\n",
       "f1-score   0.0  0.0  0.0  0.0     0.61          0.61\n",
       "support    0.0  0.0  0.0  0.0  4099.00       4099.00"
      ]
     },
     "execution_count": 47,
     "metadata": {},
     "output_type": "execute_result"
    }
   ],
   "source": [
    "rf_test=pd.DataFrame.from_dict(classification_report(rf_pred_test,y_test,output_dict=True))[['1','2','3','4','5','weighted avg']]\n",
    "print('\\033[1m'+'\\nRandom Forest - Testing Data\\n')\n",
    "rf_test.round(2)"
   ]
  },
  {
   "cell_type": "code",
   "execution_count": 37,
   "id": "ef635597",
   "metadata": {},
   "outputs": [
    {
     "data": {
      "text/plain": [
       "0.61"
      ]
     },
     "execution_count": 37,
     "metadata": {},
     "output_type": "execute_result"
    }
   ],
   "source": [
    "rf_f1_tr=f1_score(rf_pred_train,y_train,average='weighted').round(2)\n",
    "rf_f1_tr"
   ]
  },
  {
   "cell_type": "code",
   "execution_count": 38,
   "id": "9efe1e51",
   "metadata": {},
   "outputs": [
    {
     "data": {
      "text/plain": [
       "0.61"
      ]
     },
     "execution_count": 38,
     "metadata": {},
     "output_type": "execute_result"
    }
   ],
   "source": [
    "rf_f1_t=f1_score(rf_pred_test,y_test,average='weighted').round(2)\n",
    "rf_f1_t"
   ]
  },
  {
   "cell_type": "code",
   "execution_count": 48,
   "id": "358d8a35",
   "metadata": {},
   "outputs": [
    {
     "data": {
      "image/png": "[encoded data removed]",
      "text/plain": [
       "<Figure size 432x432 with 2 Axes>"
      ]
     },
     "metadata": {
      "needs_background": "light"
     },
     "output_type": "display_data"
    }
   ],
   "source": [
    "# Confusion Matrix for Training Dataset\n",
    "fig,ax = plt.subplots(figsize=(6,6))\n",
    "plot_confusion_matrix(estimator=rf_model,X=x_train_df,y_true=y_train,ax=ax)\n",
    "plt.title('Random Forest - Training Data',size=15)\n",
    "plt.show()"
   ]
  },
  {
   "cell_type": "code",
   "execution_count": 49,
   "id": "242cb180",
   "metadata": {},
   "outputs": [
    {
     "data": {
      "image/png": "[encoded data removed]",
      "text/plain": [
       "<Figure size 432x432 with 2 Axes>"
      ]
     },
     "metadata": {
      "needs_background": "light"
     },
     "output_type": "display_data"
    }
   ],
   "source": [
    "# Confusion Matrix for Testing Dataset\n",
    "fig,ax = plt.subplots(figsize=(6,6))\n",
    "plot_confusion_matrix(estimator=rf_model,X=x_test_df,y_true=y_test,ax=ax)\n",
    "plt.title('Random Forest - Testing Data',size=15)\n",
    "plt.show()"
   ]
  },
  {
   "cell_type": "markdown",
   "id": "a76e5f13",
   "metadata": {},
   "source": [
    "### 5. ADABOOST Classifier"
   ]
  },
  {
   "cell_type": "code",
   "execution_count": 39,
   "id": "4fd03b14",
   "metadata": {},
   "outputs": [],
   "source": [
    "ada_model = AdaBoostClassifier()"
   ]
  },
  {
   "cell_type": "code",
   "execution_count": 40,
   "id": "9c41b450",
   "metadata": {},
   "outputs": [
    {
     "name": "stdout",
     "output_type": "stream",
     "text": [
      "Wall time: 4min 28s\n"
     ]
    },
    {
     "data": {
      "text/html": [
       "<style>#sk-container-id-5 {color: black;background-color: white;}#sk-container-id-5 pre{padding: 0;}#sk-container-id-5 div.sk-toggleable {background-color: white;}#sk-container-id-5 label.sk-toggleable__label {cursor: pointer;display: block;width: 100%;margin-bottom: 0;padding: 0.3em;box-sizing: border-box;text-align: center;}#sk-container-id-5 label.sk-toggleable__label-arrow:before {content: \"▸\";float: left;margin-right: 0.25em;color: #696969;}#sk-container-id-5 label.sk-toggleable__label-arrow:hover:before {color: black;}#sk-container-id-5 div.sk-estimator:hover label.sk-toggleable__label-arrow:before {color: black;}#sk-container-id-5 div.sk-toggleable__content {max-height: 0;max-width: 0;overflow: hidden;text-align: left;background-color: #f0f8ff;}#sk-container-id-5 div.sk-toggleable__content pre {margin: 0.2em;color: black;border-radius: 0.25em;background-color: #f0f8ff;}#sk-container-id-5 input.sk-toggleable__control:checked~div.sk-toggleable__content {max-height: 200px;max-width: 100%;overflow: auto;}#sk-container-id-5 input.sk-toggleable__control:checked~label.sk-toggleable__label-arrow:before {content: \"▾\";}#sk-container-id-5 div.sk-estimator input.sk-toggleable__control:checked~label.sk-toggleable__label {background-color: #d4ebff;}#sk-container-id-5 div.sk-label input.sk-toggleable__control:checked~label.sk-toggleable__label {background-color: #d4ebff;}#sk-container-id-5 input.sk-hidden--visually {border: 0;clip: rect(1px 1px 1px 1px);clip: rect(1px, 1px, 1px, 1px);height: 1px;margin: -1px;overflow: hidden;padding: 0;position: absolute;width: 1px;}#sk-container-id-5 div.sk-estimator {font-family: monospace;background-color: #f0f8ff;border: 1px dotted black;border-radius: 0.25em;box-sizing: border-box;margin-bottom: 0.5em;}#sk-container-id-5 div.sk-estimator:hover {background-color: #d4ebff;}#sk-container-id-5 div.sk-parallel-item::after {content: \"\";width: 100%;border-bottom: 1px solid gray;flex-grow: 1;}#sk-container-id-5 div.sk-label:hover label.sk-toggleable__label {background-color: #d4ebff;}#sk-container-id-5 div.sk-serial::before {content: \"\";position: absolute;border-left: 1px solid gray;box-sizing: border-box;top: 0;bottom: 0;left: 50%;z-index: 0;}#sk-container-id-5 div.sk-serial {display: flex;flex-direction: column;align-items: center;background-color: white;padding-right: 0.2em;padding-left: 0.2em;position: relative;}#sk-container-id-5 div.sk-item {position: relative;z-index: 1;}#sk-container-id-5 div.sk-parallel {display: flex;align-items: stretch;justify-content: center;background-color: white;position: relative;}#sk-container-id-5 div.sk-item::before, #sk-container-id-5 div.sk-parallel-item::before {content: \"\";position: absolute;border-left: 1px solid gray;box-sizing: border-box;top: 0;bottom: 0;left: 50%;z-index: -1;}#sk-container-id-5 div.sk-parallel-item {display: flex;flex-direction: column;z-index: 1;position: relative;background-color: white;}#sk-container-id-5 div.sk-parallel-item:first-child::after {align-self: flex-end;width: 50%;}#sk-container-id-5 div.sk-parallel-item:last-child::after {align-self: flex-start;width: 50%;}#sk-container-id-5 div.sk-parallel-item:only-child::after {width: 0;}#sk-container-id-5 div.sk-dashed-wrapped {border: 1px dashed gray;margin: 0 0.4em 0.5em 0.4em;box-sizing: border-box;padding-bottom: 0.4em;background-color: white;}#sk-container-id-5 div.sk-label label {font-family: monospace;font-weight: bold;display: inline-block;line-height: 1.2em;}#sk-container-id-5 div.sk-label-container {text-align: center;}#sk-container-id-5 div.sk-container {/* jupyter's `normalize.less` sets `[hidden] { display: none; }` but bootstrap.min.css set `[hidden] { display: none !important; }` so we also need the `!important` here to be able to override the default hidden behavior on the sphinx rendered scikit-learn.org. See: https://github.com/scikit-learn/scikit-learn/issues/21755 */display: inline-block !important;position: relative;}#sk-container-id-5 div.sk-text-repr-fallback {display: none;}</style><div id=\"sk-container-id-5\" class=\"sk-top-container\"><div class=\"sk-text-repr-fallback\"><pre>AdaBoostClassifier()</pre><b>In a Jupyter environment, please rerun this cell to show the HTML representation or trust the notebook. <br />On GitHub, the HTML representation is unable to render, please try loading this page with nbviewer.org.</b></div><div class=\"sk-container\" hidden><div class=\"sk-item\"><div class=\"sk-estimator sk-toggleable\"><input class=\"sk-toggleable__control sk-hidden--visually\" id=\"sk-estimator-id-5\" type=\"checkbox\" checked><label for=\"sk-estimator-id-5\" class=\"sk-toggleable__label sk-toggleable__label-arrow\">AdaBoostClassifier</label><div class=\"sk-toggleable__content\"><pre>AdaBoostClassifier()</pre></div></div></div></div></div>"
      ],
      "text/plain": [
       "AdaBoostClassifier()"
      ]
     },
     "execution_count": 40,
     "metadata": {},
     "output_type": "execute_result"
    }
   ],
   "source": [
    "%%time\n",
    "ada_model.fit(x_train_df,y_train)"
   ]
  },
  {
   "cell_type": "code",
   "execution_count": 41,
   "id": "80a14b73",
   "metadata": {},
   "outputs": [],
   "source": [
    "ada_pred_train=ada_model.predict(x_train_df)\n",
    "ada_pred_test=ada_model.predict(x_test_df)\n",
    "ada_train_acc=accuracy_score(ada_pred_train,y_train)\n",
    "ada_test_acc=accuracy_score(ada_pred_test,y_test)"
   ]
  },
  {
   "cell_type": "code",
   "execution_count": 53,
   "id": "615eb7fc",
   "metadata": {},
   "outputs": [
    {
     "name": "stdout",
     "output_type": "stream",
     "text": [
      "\u001b[1m\n",
      "Ada Boost - Training Data\n",
      "\n"
     ]
    },
    {
     "data": {
      "text/html": [
       "<div>\n",
       "<style scoped>\n",
       "    .dataframe tbody tr th:only-of-type {\n",
       "        vertical-align: middle;\n",
       "    }\n",
       "\n",
       "    .dataframe tbody tr th {\n",
       "        vertical-align: top;\n",
       "    }\n",
       "\n",
       "    .dataframe thead th {\n",
       "        text-align: right;\n",
       "    }\n",
       "</style>\n",
       "<table border=\"1\" class=\"dataframe\">\n",
       "  <thead>\n",
       "    <tr style=\"text-align: right;\">\n",
       "      <th></th>\n",
       "      <th>1</th>\n",
       "      <th>2</th>\n",
       "      <th>3</th>\n",
       "      <th>4</th>\n",
       "      <th>5</th>\n",
       "      <th>weighted avg</th>\n",
       "    </tr>\n",
       "  </thead>\n",
       "  <tbody>\n",
       "    <tr>\n",
       "      <th>precision</th>\n",
       "      <td>0.59</td>\n",
       "      <td>0.31</td>\n",
       "      <td>0.12</td>\n",
       "      <td>0.45</td>\n",
       "      <td>0.77</td>\n",
       "      <td>0.60</td>\n",
       "    </tr>\n",
       "    <tr>\n",
       "      <th>recall</th>\n",
       "      <td>0.59</td>\n",
       "      <td>0.36</td>\n",
       "      <td>0.37</td>\n",
       "      <td>0.45</td>\n",
       "      <td>0.64</td>\n",
       "      <td>0.55</td>\n",
       "    </tr>\n",
       "    <tr>\n",
       "      <th>f1-score</th>\n",
       "      <td>0.59</td>\n",
       "      <td>0.33</td>\n",
       "      <td>0.19</td>\n",
       "      <td>0.45</td>\n",
       "      <td>0.70</td>\n",
       "      <td>0.57</td>\n",
       "    </tr>\n",
       "    <tr>\n",
       "      <th>support</th>\n",
       "      <td>1127.00</td>\n",
       "      <td>1221.00</td>\n",
       "      <td>580.00</td>\n",
       "      <td>4734.00</td>\n",
       "      <td>8730.00</td>\n",
       "      <td>16392.00</td>\n",
       "    </tr>\n",
       "  </tbody>\n",
       "</table>\n",
       "</div>"
      ],
      "text/plain": [
       "                 1        2       3        4        5  weighted avg\n",
       "precision     0.59     0.31    0.12     0.45     0.77          0.60\n",
       "recall        0.59     0.36    0.37     0.45     0.64          0.55\n",
       "f1-score      0.59     0.33    0.19     0.45     0.70          0.57\n",
       "support    1127.00  1221.00  580.00  4734.00  8730.00      16392.00"
      ]
     },
     "execution_count": 53,
     "metadata": {},
     "output_type": "execute_result"
    }
   ],
   "source": [
    "ada_train=pd.DataFrame.from_dict(classification_report(ada_pred_train,y_train,output_dict=True))[['1','2','3','4','5','weighted avg']]\n",
    "print('\\033[1m'+'\\nAda Boost - Training Data\\n')\n",
    "ada_train.round(2)"
   ]
  },
  {
   "cell_type": "code",
   "execution_count": 54,
   "id": "fd55775b",
   "metadata": {},
   "outputs": [
    {
     "name": "stdout",
     "output_type": "stream",
     "text": [
      "\u001b[1m\n",
      "Ada Boost - Testing Data\n",
      "\n"
     ]
    },
    {
     "data": {
      "text/html": [
       "<div>\n",
       "<style scoped>\n",
       "    .dataframe tbody tr th:only-of-type {\n",
       "        vertical-align: middle;\n",
       "    }\n",
       "\n",
       "    .dataframe tbody tr th {\n",
       "        vertical-align: top;\n",
       "    }\n",
       "\n",
       "    .dataframe thead th {\n",
       "        text-align: right;\n",
       "    }\n",
       "</style>\n",
       "<table border=\"1\" class=\"dataframe\">\n",
       "  <thead>\n",
       "    <tr style=\"text-align: right;\">\n",
       "      <th></th>\n",
       "      <th>1</th>\n",
       "      <th>2</th>\n",
       "      <th>3</th>\n",
       "      <th>4</th>\n",
       "      <th>5</th>\n",
       "      <th>weighted avg</th>\n",
       "    </tr>\n",
       "  </thead>\n",
       "  <tbody>\n",
       "    <tr>\n",
       "      <th>precision</th>\n",
       "      <td>0.07</td>\n",
       "      <td>0.01</td>\n",
       "      <td>0.00</td>\n",
       "      <td>0.00</td>\n",
       "      <td>0.89</td>\n",
       "      <td>0.80</td>\n",
       "    </tr>\n",
       "    <tr>\n",
       "      <th>recall</th>\n",
       "      <td>0.06</td>\n",
       "      <td>0.03</td>\n",
       "      <td>0.06</td>\n",
       "      <td>0.33</td>\n",
       "      <td>0.44</td>\n",
       "      <td>0.40</td>\n",
       "    </tr>\n",
       "    <tr>\n",
       "      <th>f1-score</th>\n",
       "      <td>0.06</td>\n",
       "      <td>0.01</td>\n",
       "      <td>0.00</td>\n",
       "      <td>0.00</td>\n",
       "      <td>0.59</td>\n",
       "      <td>0.53</td>\n",
       "    </tr>\n",
       "    <tr>\n",
       "      <th>support</th>\n",
       "      <td>342.00</td>\n",
       "      <td>75.00</td>\n",
       "      <td>16.00</td>\n",
       "      <td>6.00</td>\n",
       "      <td>3660.00</td>\n",
       "      <td>4099.00</td>\n",
       "    </tr>\n",
       "  </tbody>\n",
       "</table>\n",
       "</div>"
      ],
      "text/plain": [
       "                1      2      3     4        5  weighted avg\n",
       "precision    0.07   0.01   0.00  0.00     0.89          0.80\n",
       "recall       0.06   0.03   0.06  0.33     0.44          0.40\n",
       "f1-score     0.06   0.01   0.00  0.00     0.59          0.53\n",
       "support    342.00  75.00  16.00  6.00  3660.00       4099.00"
      ]
     },
     "execution_count": 54,
     "metadata": {},
     "output_type": "execute_result"
    }
   ],
   "source": [
    "ada_test=pd.DataFrame.from_dict(classification_report(ada_pred_test,y_test,output_dict=True))[['1','2','3','4','5','weighted avg']]\n",
    "print('\\033[1m'+'\\nAda Boost - Testing Data\\n')\n",
    "ada_test.round(2)"
   ]
  },
  {
   "cell_type": "code",
   "execution_count": 42,
   "id": "cb48dbb5",
   "metadata": {},
   "outputs": [
    {
     "data": {
      "text/plain": [
       "0.57"
      ]
     },
     "execution_count": 42,
     "metadata": {},
     "output_type": "execute_result"
    }
   ],
   "source": [
    "ada_f1_tr=f1_score(ada_pred_train,y_train,average='weighted').round(2)\n",
    "ada_f1_tr"
   ]
  },
  {
   "cell_type": "code",
   "execution_count": 43,
   "id": "14c64938",
   "metadata": {},
   "outputs": [
    {
     "data": {
      "text/plain": [
       "0.53"
      ]
     },
     "execution_count": 43,
     "metadata": {},
     "output_type": "execute_result"
    }
   ],
   "source": [
    "ada_f1_t=f1_score(ada_pred_test,y_test,average='weighted').round(2)\n",
    "ada_f1_t"
   ]
  },
  {
   "cell_type": "code",
   "execution_count": 55,
   "id": "d34be480",
   "metadata": {},
   "outputs": [
    {
     "data": {
      "image/png": "[encoded data removed]",
      "text/plain": [
       "<Figure size 432x432 with 2 Axes>"
      ]
     },
     "metadata": {
      "needs_background": "light"
     },
     "output_type": "display_data"
    }
   ],
   "source": [
    "# Confusion Matrix for Training Dataset\n",
    "fig,ax = plt.subplots(figsize=(6,6))\n",
    "plot_confusion_matrix(estimator=ada_model,X=x_train_df,y_true=y_train,ax=ax)\n",
    "plt.title('Ada Boost - Training Data',size=15)\n",
    "plt.show()"
   ]
  },
  {
   "cell_type": "code",
   "execution_count": 56,
   "id": "3398a129",
   "metadata": {},
   "outputs": [
    {
     "data": {
      "image/png": "[encoded data removed]",
      "text/plain": [
       "<Figure size 432x432 with 2 Axes>"
      ]
     },
     "metadata": {
      "needs_background": "light"
     },
     "output_type": "display_data"
    }
   ],
   "source": [
    "# Confusion Matrix for Testing Dataset\n",
    "fig,ax = plt.subplots(figsize=(6,6))\n",
    "plot_confusion_matrix(estimator=ada_model,X=x_test_df,y_true=y_test,ax=ax)\n",
    "plt.title('Ada Boost - Testing Data',size=15)\n",
    "plt.show()"
   ]
  },
  {
   "cell_type": "markdown",
   "id": "9b8d6b0b",
   "metadata": {},
   "source": [
    "### 6. Support Vector Machines"
   ]
  },
  {
   "cell_type": "code",
   "execution_count": 67,
   "id": "44c81c0b",
   "metadata": {},
   "outputs": [],
   "source": [
    "svm_model = SVC()"
   ]
  },
  {
   "cell_type": "code",
   "execution_count": 68,
   "id": "7cf4669d",
   "metadata": {},
   "outputs": [
    {
     "name": "stdout",
     "output_type": "stream",
     "text": [
      "Wall time: 40min 47s\n"
     ]
    },
    {
     "data": {
      "text/html": [
       "<style>#sk-container-id-10 {color: black;background-color: white;}#sk-container-id-10 pre{padding: 0;}#sk-container-id-10 div.sk-toggleable {background-color: white;}#sk-container-id-10 label.sk-toggleable__label {cursor: pointer;display: block;width: 100%;margin-bottom: 0;padding: 0.3em;box-sizing: border-box;text-align: center;}#sk-container-id-10 label.sk-toggleable__label-arrow:before {content: \"▸\";float: left;margin-right: 0.25em;color: #696969;}#sk-container-id-10 label.sk-toggleable__label-arrow:hover:before {color: black;}#sk-container-id-10 div.sk-estimator:hover label.sk-toggleable__label-arrow:before {color: black;}#sk-container-id-10 div.sk-toggleable__content {max-height: 0;max-width: 0;overflow: hidden;text-align: left;background-color: #f0f8ff;}#sk-container-id-10 div.sk-toggleable__content pre {margin: 0.2em;color: black;border-radius: 0.25em;background-color: #f0f8ff;}#sk-container-id-10 input.sk-toggleable__control:checked~div.sk-toggleable__content {max-height: 200px;max-width: 100%;overflow: auto;}#sk-container-id-10 input.sk-toggleable__control:checked~label.sk-toggleable__label-arrow:before {content: \"▾\";}#sk-container-id-10 div.sk-estimator input.sk-toggleable__control:checked~label.sk-toggleable__label {background-color: #d4ebff;}#sk-container-id-10 div.sk-label input.sk-toggleable__control:checked~label.sk-toggleable__label {background-color: #d4ebff;}#sk-container-id-10 input.sk-hidden--visually {border: 0;clip: rect(1px 1px 1px 1px);clip: rect(1px, 1px, 1px, 1px);height: 1px;margin: -1px;overflow: hidden;padding: 0;position: absolute;width: 1px;}#sk-container-id-10 div.sk-estimator {font-family: monospace;background-color: #f0f8ff;border: 1px dotted black;border-radius: 0.25em;box-sizing: border-box;margin-bottom: 0.5em;}#sk-container-id-10 div.sk-estimator:hover {background-color: #d4ebff;}#sk-container-id-10 div.sk-parallel-item::after {content: \"\";width: 100%;border-bottom: 1px solid gray;flex-grow: 1;}#sk-container-id-10 div.sk-label:hover label.sk-toggleable__label {background-color: #d4ebff;}#sk-container-id-10 div.sk-serial::before {content: \"\";position: absolute;border-left: 1px solid gray;box-sizing: border-box;top: 0;bottom: 0;left: 50%;z-index: 0;}#sk-container-id-10 div.sk-serial {display: flex;flex-direction: column;align-items: center;background-color: white;padding-right: 0.2em;padding-left: 0.2em;position: relative;}#sk-container-id-10 div.sk-item {position: relative;z-index: 1;}#sk-container-id-10 div.sk-parallel {display: flex;align-items: stretch;justify-content: center;background-color: white;position: relative;}#sk-container-id-10 div.sk-item::before, #sk-container-id-10 div.sk-parallel-item::before {content: \"\";position: absolute;border-left: 1px solid gray;box-sizing: border-box;top: 0;bottom: 0;left: 50%;z-index: -1;}#sk-container-id-10 div.sk-parallel-item {display: flex;flex-direction: column;z-index: 1;position: relative;background-color: white;}#sk-container-id-10 div.sk-parallel-item:first-child::after {align-self: flex-end;width: 50%;}#sk-container-id-10 div.sk-parallel-item:last-child::after {align-self: flex-start;width: 50%;}#sk-container-id-10 div.sk-parallel-item:only-child::after {width: 0;}#sk-container-id-10 div.sk-dashed-wrapped {border: 1px dashed gray;margin: 0 0.4em 0.5em 0.4em;box-sizing: border-box;padding-bottom: 0.4em;background-color: white;}#sk-container-id-10 div.sk-label label {font-family: monospace;font-weight: bold;display: inline-block;line-height: 1.2em;}#sk-container-id-10 div.sk-label-container {text-align: center;}#sk-container-id-10 div.sk-container {/* jupyter's `normalize.less` sets `[hidden] { display: none; }` but bootstrap.min.css set `[hidden] { display: none !important; }` so we also need the `!important` here to be able to override the default hidden behavior on the sphinx rendered scikit-learn.org. See: https://github.com/scikit-learn/scikit-learn/issues/21755 */display: inline-block !important;position: relative;}#sk-container-id-10 div.sk-text-repr-fallback {display: none;}</style><div id=\"sk-container-id-10\" class=\"sk-top-container\"><div class=\"sk-text-repr-fallback\"><pre>SVC()</pre><b>In a Jupyter environment, please rerun this cell to show the HTML representation or trust the notebook. <br />On GitHub, the HTML representation is unable to render, please try loading this page with nbviewer.org.</b></div><div class=\"sk-container\" hidden><div class=\"sk-item\"><div class=\"sk-estimator sk-toggleable\"><input class=\"sk-toggleable__control sk-hidden--visually\" id=\"sk-estimator-id-16\" type=\"checkbox\" checked><label for=\"sk-estimator-id-16\" class=\"sk-toggleable__label sk-toggleable__label-arrow\">SVC</label><div class=\"sk-toggleable__content\"><pre>SVC()</pre></div></div></div></div></div>"
      ],
      "text/plain": [
       "SVC()"
      ]
     },
     "execution_count": 68,
     "metadata": {},
     "output_type": "execute_result"
    }
   ],
   "source": [
    "%%time\n",
    "svm_model.fit(x_train_df,y_train)"
   ]
  },
  {
   "cell_type": "code",
   "execution_count": 69,
   "id": "938ec9b9",
   "metadata": {},
   "outputs": [],
   "source": [
    "svm_pred_train=svm_model.predict(x_train_df)\n",
    "svm_pred_test=svm_model.predict(x_test_df)\n",
    "svm_train_acc=accuracy_score(svm_pred_train,y_train)\n",
    "svm_test_acc=accuracy_score(svm_pred_test,y_test)"
   ]
  },
  {
   "cell_type": "code",
   "execution_count": 63,
   "id": "f5dd8773",
   "metadata": {},
   "outputs": [
    {
     "name": "stdout",
     "output_type": "stream",
     "text": [
      "\u001b[1m\n",
      "SVM - Training Data\n",
      "\n"
     ]
    },
    {
     "data": {
      "text/html": [
       "<div>\n",
       "<style scoped>\n",
       "    .dataframe tbody tr th:only-of-type {\n",
       "        vertical-align: middle;\n",
       "    }\n",
       "\n",
       "    .dataframe tbody tr th {\n",
       "        vertical-align: top;\n",
       "    }\n",
       "\n",
       "    .dataframe thead th {\n",
       "        text-align: right;\n",
       "    }\n",
       "</style>\n",
       "<table border=\"1\" class=\"dataframe\">\n",
       "  <thead>\n",
       "    <tr style=\"text-align: right;\">\n",
       "      <th></th>\n",
       "      <th>1</th>\n",
       "      <th>2</th>\n",
       "      <th>3</th>\n",
       "      <th>4</th>\n",
       "      <th>5</th>\n",
       "      <th>weighted avg</th>\n",
       "    </tr>\n",
       "  </thead>\n",
       "  <tbody>\n",
       "    <tr>\n",
       "      <th>precision</th>\n",
       "      <td>0.99</td>\n",
       "      <td>0.96</td>\n",
       "      <td>0.90</td>\n",
       "      <td>0.94</td>\n",
       "      <td>0.99</td>\n",
       "      <td>0.96</td>\n",
       "    </tr>\n",
       "    <tr>\n",
       "      <th>recall</th>\n",
       "      <td>0.99</td>\n",
       "      <td>0.98</td>\n",
       "      <td>0.99</td>\n",
       "      <td>0.95</td>\n",
       "      <td>0.95</td>\n",
       "      <td>0.96</td>\n",
       "    </tr>\n",
       "    <tr>\n",
       "      <th>f1-score</th>\n",
       "      <td>0.99</td>\n",
       "      <td>0.97</td>\n",
       "      <td>0.94</td>\n",
       "      <td>0.94</td>\n",
       "      <td>0.97</td>\n",
       "      <td>0.96</td>\n",
       "    </tr>\n",
       "    <tr>\n",
       "      <th>support</th>\n",
       "      <td>1133.00</td>\n",
       "      <td>1404.00</td>\n",
       "      <td>1579.00</td>\n",
       "      <td>4781.00</td>\n",
       "      <td>7495.00</td>\n",
       "      <td>16392.00</td>\n",
       "    </tr>\n",
       "  </tbody>\n",
       "</table>\n",
       "</div>"
      ],
      "text/plain": [
       "                 1        2        3        4        5  weighted avg\n",
       "precision     0.99     0.96     0.90     0.94     0.99          0.96\n",
       "recall        0.99     0.98     0.99     0.95     0.95          0.96\n",
       "f1-score      0.99     0.97     0.94     0.94     0.97          0.96\n",
       "support    1133.00  1404.00  1579.00  4781.00  7495.00      16392.00"
      ]
     },
     "execution_count": 63,
     "metadata": {},
     "output_type": "execute_result"
    }
   ],
   "source": [
    "svm_train=pd.DataFrame.from_dict(classification_report(svm_pred_train,y_train,output_dict=True))[['1','2','3','4','5','weighted avg']]\n",
    "print('\\033[1m'+'\\nSVM - Training Data\\n')\n",
    "svm_train.round(2)"
   ]
  },
  {
   "cell_type": "code",
   "execution_count": 64,
   "id": "4135ac17",
   "metadata": {},
   "outputs": [
    {
     "name": "stdout",
     "output_type": "stream",
     "text": [
      "\u001b[1m\n",
      "SVM - Testing Data\n",
      "\n"
     ]
    },
    {
     "data": {
      "text/html": [
       "<div>\n",
       "<style scoped>\n",
       "    .dataframe tbody tr th:only-of-type {\n",
       "        vertical-align: middle;\n",
       "    }\n",
       "\n",
       "    .dataframe tbody tr th {\n",
       "        vertical-align: top;\n",
       "    }\n",
       "\n",
       "    .dataframe thead th {\n",
       "        text-align: right;\n",
       "    }\n",
       "</style>\n",
       "<table border=\"1\" class=\"dataframe\">\n",
       "  <thead>\n",
       "    <tr style=\"text-align: right;\">\n",
       "      <th></th>\n",
       "      <th>1</th>\n",
       "      <th>2</th>\n",
       "      <th>3</th>\n",
       "      <th>4</th>\n",
       "      <th>5</th>\n",
       "      <th>weighted avg</th>\n",
       "    </tr>\n",
       "  </thead>\n",
       "  <tbody>\n",
       "    <tr>\n",
       "      <th>precision</th>\n",
       "      <td>0.0</td>\n",
       "      <td>0.01</td>\n",
       "      <td>0.00</td>\n",
       "      <td>0.09</td>\n",
       "      <td>0.92</td>\n",
       "      <td>0.84</td>\n",
       "    </tr>\n",
       "    <tr>\n",
       "      <th>recall</th>\n",
       "      <td>0.0</td>\n",
       "      <td>0.09</td>\n",
       "      <td>0.25</td>\n",
       "      <td>0.32</td>\n",
       "      <td>0.45</td>\n",
       "      <td>0.43</td>\n",
       "    </tr>\n",
       "    <tr>\n",
       "      <th>f1-score</th>\n",
       "      <td>0.0</td>\n",
       "      <td>0.02</td>\n",
       "      <td>0.00</td>\n",
       "      <td>0.14</td>\n",
       "      <td>0.60</td>\n",
       "      <td>0.56</td>\n",
       "    </tr>\n",
       "    <tr>\n",
       "      <th>support</th>\n",
       "      <td>20.0</td>\n",
       "      <td>35.00</td>\n",
       "      <td>4.00</td>\n",
       "      <td>331.00</td>\n",
       "      <td>3709.00</td>\n",
       "      <td>4099.00</td>\n",
       "    </tr>\n",
       "  </tbody>\n",
       "</table>\n",
       "</div>"
      ],
      "text/plain": [
       "              1      2     3       4        5  weighted avg\n",
       "precision   0.0   0.01  0.00    0.09     0.92          0.84\n",
       "recall      0.0   0.09  0.25    0.32     0.45          0.43\n",
       "f1-score    0.0   0.02  0.00    0.14     0.60          0.56\n",
       "support    20.0  35.00  4.00  331.00  3709.00       4099.00"
      ]
     },
     "execution_count": 64,
     "metadata": {},
     "output_type": "execute_result"
    }
   ],
   "source": [
    "svm_test=pd.DataFrame.from_dict(classification_report(svm_pred_test,y_test,output_dict=True))[['1','2','3','4','5','weighted avg']]\n",
    "print('\\033[1m'+'\\nSVM - Testing Data\\n')\n",
    "svm_test.round(2)"
   ]
  },
  {
   "cell_type": "code",
   "execution_count": 70,
   "id": "1e438e36",
   "metadata": {},
   "outputs": [
    {
     "data": {
      "text/plain": [
       "0.96"
      ]
     },
     "execution_count": 70,
     "metadata": {},
     "output_type": "execute_result"
    }
   ],
   "source": [
    "svm_f1_tr=f1_score(svm_pred_train,y_train,average='weighted').round(2)\n",
    "svm_f1_tr"
   ]
  },
  {
   "cell_type": "code",
   "execution_count": 71,
   "id": "bd96c3be",
   "metadata": {},
   "outputs": [
    {
     "data": {
      "text/plain": [
       "0.56"
      ]
     },
     "execution_count": 71,
     "metadata": {},
     "output_type": "execute_result"
    }
   ],
   "source": [
    "svm_f1_t=f1_score(svm_pred_test,y_test,average='weighted').round(2)\n",
    "svm_f1_t"
   ]
  },
  {
   "cell_type": "code",
   "execution_count": 73,
   "id": "d56c3691",
   "metadata": {},
   "outputs": [
    {
     "data": {
      "image/png": "[encoded data removed]",
      "text/plain": [
       "<Figure size 432x432 with 2 Axes>"
      ]
     },
     "metadata": {
      "needs_background": "light"
     },
     "output_type": "display_data"
    }
   ],
   "source": [
    "# Confusion Matrix for Training Dataset\n",
    "fig,ax = plt.subplots(figsize=(6,6))\n",
    "plot_confusion_matrix(estimator=svm_model,X=x_train_df,y_true=y_train,ax=ax)\n",
    "plt.title('SVM - Training Data',size=15)\n",
    "plt.show()"
   ]
  },
  {
   "cell_type": "code",
   "execution_count": 74,
   "id": "2a77d69e",
   "metadata": {},
   "outputs": [
    {
     "data": {
      "image/png": "[encoded data removed]",
      "text/plain": [
       "<Figure size 432x432 with 2 Axes>"
      ]
     },
     "metadata": {
      "needs_background": "light"
     },
     "output_type": "display_data"
    }
   ],
   "source": [
    "# Confusion Matrix for Testing Dataset\n",
    "fig,ax = plt.subplots(figsize=(6,6))\n",
    "plot_confusion_matrix(estimator=svm_model,X=x_test_df,y_true=y_test,ax=ax)\n",
    "plt.title('SVM - Testing Data',size=15)\n",
    "plt.show()"
   ]
  },
  {
   "cell_type": "markdown",
   "id": "45a0c9f6",
   "metadata": {},
   "source": [
    "### 7. Naive Bayes"
   ]
  },
  {
   "cell_type": "code",
   "execution_count": 44,
   "id": "f6ed74b0",
   "metadata": {},
   "outputs": [],
   "source": [
    "nb_model = MultinomialNB()"
   ]
  },
  {
   "cell_type": "code",
   "execution_count": 45,
   "id": "e01c025e",
   "metadata": {},
   "outputs": [
    {
     "name": "stdout",
     "output_type": "stream",
     "text": [
      "Wall time: 611 ms\n"
     ]
    },
    {
     "data": {
      "text/html": [
       "<style>#sk-container-id-6 {color: black;background-color: white;}#sk-container-id-6 pre{padding: 0;}#sk-container-id-6 div.sk-toggleable {background-color: white;}#sk-container-id-6 label.sk-toggleable__label {cursor: pointer;display: block;width: 100%;margin-bottom: 0;padding: 0.3em;box-sizing: border-box;text-align: center;}#sk-container-id-6 label.sk-toggleable__label-arrow:before {content: \"▸\";float: left;margin-right: 0.25em;color: #696969;}#sk-container-id-6 label.sk-toggleable__label-arrow:hover:before {color: black;}#sk-container-id-6 div.sk-estimator:hover label.sk-toggleable__label-arrow:before {color: black;}#sk-container-id-6 div.sk-toggleable__content {max-height: 0;max-width: 0;overflow: hidden;text-align: left;background-color: #f0f8ff;}#sk-container-id-6 div.sk-toggleable__content pre {margin: 0.2em;color: black;border-radius: 0.25em;background-color: #f0f8ff;}#sk-container-id-6 input.sk-toggleable__control:checked~div.sk-toggleable__content {max-height: 200px;max-width: 100%;overflow: auto;}#sk-container-id-6 input.sk-toggleable__control:checked~label.sk-toggleable__label-arrow:before {content: \"▾\";}#sk-container-id-6 div.sk-estimator input.sk-toggleable__control:checked~label.sk-toggleable__label {background-color: #d4ebff;}#sk-container-id-6 div.sk-label input.sk-toggleable__control:checked~label.sk-toggleable__label {background-color: #d4ebff;}#sk-container-id-6 input.sk-hidden--visually {border: 0;clip: rect(1px 1px 1px 1px);clip: rect(1px, 1px, 1px, 1px);height: 1px;margin: -1px;overflow: hidden;padding: 0;position: absolute;width: 1px;}#sk-container-id-6 div.sk-estimator {font-family: monospace;background-color: #f0f8ff;border: 1px dotted black;border-radius: 0.25em;box-sizing: border-box;margin-bottom: 0.5em;}#sk-container-id-6 div.sk-estimator:hover {background-color: #d4ebff;}#sk-container-id-6 div.sk-parallel-item::after {content: \"\";width: 100%;border-bottom: 1px solid gray;flex-grow: 1;}#sk-container-id-6 div.sk-label:hover label.sk-toggleable__label {background-color: #d4ebff;}#sk-container-id-6 div.sk-serial::before {content: \"\";position: absolute;border-left: 1px solid gray;box-sizing: border-box;top: 0;bottom: 0;left: 50%;z-index: 0;}#sk-container-id-6 div.sk-serial {display: flex;flex-direction: column;align-items: center;background-color: white;padding-right: 0.2em;padding-left: 0.2em;position: relative;}#sk-container-id-6 div.sk-item {position: relative;z-index: 1;}#sk-container-id-6 div.sk-parallel {display: flex;align-items: stretch;justify-content: center;background-color: white;position: relative;}#sk-container-id-6 div.sk-item::before, #sk-container-id-6 div.sk-parallel-item::before {content: \"\";position: absolute;border-left: 1px solid gray;box-sizing: border-box;top: 0;bottom: 0;left: 50%;z-index: -1;}#sk-container-id-6 div.sk-parallel-item {display: flex;flex-direction: column;z-index: 1;position: relative;background-color: white;}#sk-container-id-6 div.sk-parallel-item:first-child::after {align-self: flex-end;width: 50%;}#sk-container-id-6 div.sk-parallel-item:last-child::after {align-self: flex-start;width: 50%;}#sk-container-id-6 div.sk-parallel-item:only-child::after {width: 0;}#sk-container-id-6 div.sk-dashed-wrapped {border: 1px dashed gray;margin: 0 0.4em 0.5em 0.4em;box-sizing: border-box;padding-bottom: 0.4em;background-color: white;}#sk-container-id-6 div.sk-label label {font-family: monospace;font-weight: bold;display: inline-block;line-height: 1.2em;}#sk-container-id-6 div.sk-label-container {text-align: center;}#sk-container-id-6 div.sk-container {/* jupyter's `normalize.less` sets `[hidden] { display: none; }` but bootstrap.min.css set `[hidden] { display: none !important; }` so we also need the `!important` here to be able to override the default hidden behavior on the sphinx rendered scikit-learn.org. See: https://github.com/scikit-learn/scikit-learn/issues/21755 */display: inline-block !important;position: relative;}#sk-container-id-6 div.sk-text-repr-fallback {display: none;}</style><div id=\"sk-container-id-6\" class=\"sk-top-container\"><div class=\"sk-text-repr-fallback\"><pre>MultinomialNB()</pre><b>In a Jupyter environment, please rerun this cell to show the HTML representation or trust the notebook. <br />On GitHub, the HTML representation is unable to render, please try loading this page with nbviewer.org.</b></div><div class=\"sk-container\" hidden><div class=\"sk-item\"><div class=\"sk-estimator sk-toggleable\"><input class=\"sk-toggleable__control sk-hidden--visually\" id=\"sk-estimator-id-6\" type=\"checkbox\" checked><label for=\"sk-estimator-id-6\" class=\"sk-toggleable__label sk-toggleable__label-arrow\">MultinomialNB</label><div class=\"sk-toggleable__content\"><pre>MultinomialNB()</pre></div></div></div></div></div>"
      ],
      "text/plain": [
       "MultinomialNB()"
      ]
     },
     "execution_count": 45,
     "metadata": {},
     "output_type": "execute_result"
    }
   ],
   "source": [
    "%%time\n",
    "nb_model.fit(x_train_df,y_train)"
   ]
  },
  {
   "cell_type": "code",
   "execution_count": 46,
   "id": "7e19eb3e",
   "metadata": {},
   "outputs": [],
   "source": [
    "nb_pred_train=nb_model.predict(x_train_df)\n",
    "nb_pred_test=nb_model.predict(x_test_df)\n",
    "nb_train_acc=accuracy_score(nb_pred_train,y_train)\n",
    "nb_test_acc=accuracy_score(nb_pred_test,y_test)"
   ]
  },
  {
   "cell_type": "code",
   "execution_count": 69,
   "id": "f0538171",
   "metadata": {},
   "outputs": [
    {
     "name": "stdout",
     "output_type": "stream",
     "text": [
      "\u001b[1m\n",
      "Naive Bayes - Training Data\n",
      "\n"
     ]
    },
    {
     "data": {
      "text/html": [
       "<div>\n",
       "<style scoped>\n",
       "    .dataframe tbody tr th:only-of-type {\n",
       "        vertical-align: middle;\n",
       "    }\n",
       "\n",
       "    .dataframe tbody tr th {\n",
       "        vertical-align: top;\n",
       "    }\n",
       "\n",
       "    .dataframe thead th {\n",
       "        text-align: right;\n",
       "    }\n",
       "</style>\n",
       "<table border=\"1\" class=\"dataframe\">\n",
       "  <thead>\n",
       "    <tr style=\"text-align: right;\">\n",
       "      <th></th>\n",
       "      <th>1</th>\n",
       "      <th>2</th>\n",
       "      <th>3</th>\n",
       "      <th>4</th>\n",
       "      <th>5</th>\n",
       "      <th>weighted avg</th>\n",
       "    </tr>\n",
       "  </thead>\n",
       "  <tbody>\n",
       "    <tr>\n",
       "      <th>precision</th>\n",
       "      <td>0.55</td>\n",
       "      <td>0.33</td>\n",
       "      <td>0.03</td>\n",
       "      <td>0.54</td>\n",
       "      <td>0.92</td>\n",
       "      <td>0.76</td>\n",
       "    </tr>\n",
       "    <tr>\n",
       "      <th>recall</th>\n",
       "      <td>0.94</td>\n",
       "      <td>0.70</td>\n",
       "      <td>0.82</td>\n",
       "      <td>0.50</td>\n",
       "      <td>0.68</td>\n",
       "      <td>0.63</td>\n",
       "    </tr>\n",
       "    <tr>\n",
       "      <th>f1-score</th>\n",
       "      <td>0.69</td>\n",
       "      <td>0.44</td>\n",
       "      <td>0.06</td>\n",
       "      <td>0.52</td>\n",
       "      <td>0.78</td>\n",
       "      <td>0.68</td>\n",
       "    </tr>\n",
       "    <tr>\n",
       "      <th>support</th>\n",
       "      <td>663.00</td>\n",
       "      <td>670.00</td>\n",
       "      <td>68.00</td>\n",
       "      <td>5187.00</td>\n",
       "      <td>9804.00</td>\n",
       "      <td>16392.00</td>\n",
       "    </tr>\n",
       "  </tbody>\n",
       "</table>\n",
       "</div>"
      ],
      "text/plain": [
       "                1       2      3        4        5  weighted avg\n",
       "precision    0.55    0.33   0.03     0.54     0.92          0.76\n",
       "recall       0.94    0.70   0.82     0.50     0.68          0.63\n",
       "f1-score     0.69    0.44   0.06     0.52     0.78          0.68\n",
       "support    663.00  670.00  68.00  5187.00  9804.00      16392.00"
      ]
     },
     "execution_count": 69,
     "metadata": {},
     "output_type": "execute_result"
    }
   ],
   "source": [
    "nb_train=pd.DataFrame.from_dict(classification_report(nb_pred_train,y_train,output_dict=True))[['1','2','3','4','5','weighted avg']]\n",
    "print('\\033[1m'+'\\nNaive Bayes - Training Data\\n')\n",
    "nb_train.round(2)"
   ]
  },
  {
   "cell_type": "code",
   "execution_count": 70,
   "id": "0acd784e",
   "metadata": {},
   "outputs": [
    {
     "name": "stdout",
     "output_type": "stream",
     "text": [
      "\u001b[1m\n",
      "Naive Bayes - Testing Data\n",
      "\n"
     ]
    },
    {
     "data": {
      "text/html": [
       "<div>\n",
       "<style scoped>\n",
       "    .dataframe tbody tr th:only-of-type {\n",
       "        vertical-align: middle;\n",
       "    }\n",
       "\n",
       "    .dataframe tbody tr th {\n",
       "        vertical-align: top;\n",
       "    }\n",
       "\n",
       "    .dataframe thead th {\n",
       "        text-align: right;\n",
       "    }\n",
       "</style>\n",
       "<table border=\"1\" class=\"dataframe\">\n",
       "  <thead>\n",
       "    <tr style=\"text-align: right;\">\n",
       "      <th></th>\n",
       "      <th>1</th>\n",
       "      <th>2</th>\n",
       "      <th>3</th>\n",
       "      <th>4</th>\n",
       "      <th>5</th>\n",
       "      <th>weighted avg</th>\n",
       "    </tr>\n",
       "  </thead>\n",
       "  <tbody>\n",
       "    <tr>\n",
       "      <th>precision</th>\n",
       "      <td>0.33</td>\n",
       "      <td>0.19</td>\n",
       "      <td>0.23</td>\n",
       "      <td>0.07</td>\n",
       "      <td>0.37</td>\n",
       "      <td>0.28</td>\n",
       "    </tr>\n",
       "    <tr>\n",
       "      <th>recall</th>\n",
       "      <td>0.10</td>\n",
       "      <td>0.09</td>\n",
       "      <td>0.13</td>\n",
       "      <td>0.26</td>\n",
       "      <td>0.55</td>\n",
       "      <td>0.25</td>\n",
       "    </tr>\n",
       "    <tr>\n",
       "      <th>f1-score</th>\n",
       "      <td>0.15</td>\n",
       "      <td>0.12</td>\n",
       "      <td>0.16</td>\n",
       "      <td>0.11</td>\n",
       "      <td>0.44</td>\n",
       "      <td>0.23</td>\n",
       "    </tr>\n",
       "    <tr>\n",
       "      <th>support</th>\n",
       "      <td>985.00</td>\n",
       "      <td>787.00</td>\n",
       "      <td>798.00</td>\n",
       "      <td>302.00</td>\n",
       "      <td>1227.00</td>\n",
       "      <td>4099.00</td>\n",
       "    </tr>\n",
       "  </tbody>\n",
       "</table>\n",
       "</div>"
      ],
      "text/plain": [
       "                1       2       3       4        5  weighted avg\n",
       "precision    0.33    0.19    0.23    0.07     0.37          0.28\n",
       "recall       0.10    0.09    0.13    0.26     0.55          0.25\n",
       "f1-score     0.15    0.12    0.16    0.11     0.44          0.23\n",
       "support    985.00  787.00  798.00  302.00  1227.00       4099.00"
      ]
     },
     "execution_count": 70,
     "metadata": {},
     "output_type": "execute_result"
    }
   ],
   "source": [
    "nb_test=pd.DataFrame.from_dict(classification_report(nb_pred_test,y_test,output_dict=True))[['1','2','3','4','5','weighted avg']]\n",
    "print('\\033[1m'+'\\nNaive Bayes - Testing Data\\n')\n",
    "nb_test.round(2)"
   ]
  },
  {
   "cell_type": "code",
   "execution_count": 47,
   "id": "e4ac5d43",
   "metadata": {},
   "outputs": [
    {
     "data": {
      "text/plain": [
       "0.68"
      ]
     },
     "execution_count": 47,
     "metadata": {},
     "output_type": "execute_result"
    }
   ],
   "source": [
    "nb_f1_tr=f1_score(nb_pred_train,y_train,average='weighted').round(2)\n",
    "nb_f1_tr"
   ]
  },
  {
   "cell_type": "code",
   "execution_count": 48,
   "id": "44c74140",
   "metadata": {},
   "outputs": [
    {
     "data": {
      "text/plain": [
       "0.23"
      ]
     },
     "execution_count": 48,
     "metadata": {},
     "output_type": "execute_result"
    }
   ],
   "source": [
    "nb_f1_t=f1_score(nb_pred_test,y_test,average='weighted').round(2)\n",
    "nb_f1_t"
   ]
  },
  {
   "cell_type": "code",
   "execution_count": 71,
   "id": "a040053a",
   "metadata": {},
   "outputs": [
    {
     "data": {
      "image/png": "[encoded data removed]",
      "text/plain": [
       "<Figure size 432x432 with 2 Axes>"
      ]
     },
     "metadata": {
      "needs_background": "light"
     },
     "output_type": "display_data"
    }
   ],
   "source": [
    "# Confusion Matrix for Training Dataset\n",
    "fig,ax = plt.subplots(figsize=(6,6))\n",
    "plot_confusion_matrix(estimator=nb_model,X=x_train_df,y_true=y_train,ax=ax)\n",
    "plt.title('Naive Bayes - Training Data',size=15)\n",
    "plt.show()"
   ]
  },
  {
   "cell_type": "code",
   "execution_count": 72,
   "id": "e7a57c11",
   "metadata": {},
   "outputs": [
    {
     "data": {
      "image/png": "[encoded data removed]",
      "text/plain": [
       "<Figure size 432x432 with 2 Axes>"
      ]
     },
     "metadata": {
      "needs_background": "light"
     },
     "output_type": "display_data"
    }
   ],
   "source": [
    "# Confusion Matrix for Testing Dataset\n",
    "fig,ax = plt.subplots(figsize=(6,6))\n",
    "plot_confusion_matrix(estimator=nb_model,X=x_test_df,y_true=y_test,ax=ax)\n",
    "plt.title('Naive Bayes - Testing Data',size=15)\n",
    "plt.show()"
   ]
  },
  {
   "cell_type": "markdown",
   "id": "b30e7f1d",
   "metadata": {},
   "source": [
    "### 8. Stacking Model"
   ]
  },
  {
   "cell_type": "code",
   "execution_count": 49,
   "id": "31c8418b",
   "metadata": {},
   "outputs": [],
   "source": [
    "stack_model = StackingClassifier(estimators=[('Decision Tree',dt_model),('KNN',knn_model),('Random Forest',rf_model),\n",
    "                                            ('Ada Boost',ada_model),('Naive Bayes',nb_model)],\n",
    "                                 final_estimator=logistic_model,stack_method='predict_proba')"
   ]
  },
  {
   "cell_type": "code",
   "execution_count": 50,
   "id": "2de25d34",
   "metadata": {},
   "outputs": [
    {
     "name": "stdout",
     "output_type": "stream",
     "text": [
      "Wall time: 29min 46s\n"
     ]
    },
    {
     "data": {
      "text/html": [
       "<style>#sk-container-id-7 {color: black;background-color: white;}#sk-container-id-7 pre{padding: 0;}#sk-container-id-7 div.sk-toggleable {background-color: white;}#sk-container-id-7 label.sk-toggleable__label {cursor: pointer;display: block;width: 100%;margin-bottom: 0;padding: 0.3em;box-sizing: border-box;text-align: center;}#sk-container-id-7 label.sk-toggleable__label-arrow:before {content: \"▸\";float: left;margin-right: 0.25em;color: #696969;}#sk-container-id-7 label.sk-toggleable__label-arrow:hover:before {color: black;}#sk-container-id-7 div.sk-estimator:hover label.sk-toggleable__label-arrow:before {color: black;}#sk-container-id-7 div.sk-toggleable__content {max-height: 0;max-width: 0;overflow: hidden;text-align: left;background-color: #f0f8ff;}#sk-container-id-7 div.sk-toggleable__content pre {margin: 0.2em;color: black;border-radius: 0.25em;background-color: #f0f8ff;}#sk-container-id-7 input.sk-toggleable__control:checked~div.sk-toggleable__content {max-height: 200px;max-width: 100%;overflow: auto;}#sk-container-id-7 input.sk-toggleable__control:checked~label.sk-toggleable__label-arrow:before {content: \"▾\";}#sk-container-id-7 div.sk-estimator input.sk-toggleable__control:checked~label.sk-toggleable__label {background-color: #d4ebff;}#sk-container-id-7 div.sk-label input.sk-toggleable__control:checked~label.sk-toggleable__label {background-color: #d4ebff;}#sk-container-id-7 input.sk-hidden--visually {border: 0;clip: rect(1px 1px 1px 1px);clip: rect(1px, 1px, 1px, 1px);height: 1px;margin: -1px;overflow: hidden;padding: 0;position: absolute;width: 1px;}#sk-container-id-7 div.sk-estimator {font-family: monospace;background-color: #f0f8ff;border: 1px dotted black;border-radius: 0.25em;box-sizing: border-box;margin-bottom: 0.5em;}#sk-container-id-7 div.sk-estimator:hover {background-color: #d4ebff;}#sk-container-id-7 div.sk-parallel-item::after {content: \"\";width: 100%;border-bottom: 1px solid gray;flex-grow: 1;}#sk-container-id-7 div.sk-label:hover label.sk-toggleable__label {background-color: #d4ebff;}#sk-container-id-7 div.sk-serial::before {content: \"\";position: absolute;border-left: 1px solid gray;box-sizing: border-box;top: 0;bottom: 0;left: 50%;z-index: 0;}#sk-container-id-7 div.sk-serial {display: flex;flex-direction: column;align-items: center;background-color: white;padding-right: 0.2em;padding-left: 0.2em;position: relative;}#sk-container-id-7 div.sk-item {position: relative;z-index: 1;}#sk-container-id-7 div.sk-parallel {display: flex;align-items: stretch;justify-content: center;background-color: white;position: relative;}#sk-container-id-7 div.sk-item::before, #sk-container-id-7 div.sk-parallel-item::before {content: \"\";position: absolute;border-left: 1px solid gray;box-sizing: border-box;top: 0;bottom: 0;left: 50%;z-index: -1;}#sk-container-id-7 div.sk-parallel-item {display: flex;flex-direction: column;z-index: 1;position: relative;background-color: white;}#sk-container-id-7 div.sk-parallel-item:first-child::after {align-self: flex-end;width: 50%;}#sk-container-id-7 div.sk-parallel-item:last-child::after {align-self: flex-start;width: 50%;}#sk-container-id-7 div.sk-parallel-item:only-child::after {width: 0;}#sk-container-id-7 div.sk-dashed-wrapped {border: 1px dashed gray;margin: 0 0.4em 0.5em 0.4em;box-sizing: border-box;padding-bottom: 0.4em;background-color: white;}#sk-container-id-7 div.sk-label label {font-family: monospace;font-weight: bold;display: inline-block;line-height: 1.2em;}#sk-container-id-7 div.sk-label-container {text-align: center;}#sk-container-id-7 div.sk-container {/* jupyter's `normalize.less` sets `[hidden] { display: none; }` but bootstrap.min.css set `[hidden] { display: none !important; }` so we also need the `!important` here to be able to override the default hidden behavior on the sphinx rendered scikit-learn.org. See: https://github.com/scikit-learn/scikit-learn/issues/21755 */display: inline-block !important;position: relative;}#sk-container-id-7 div.sk-text-repr-fallback {display: none;}</style><div id=\"sk-container-id-7\" class=\"sk-top-container\"><div class=\"sk-text-repr-fallback\"><pre>StackingClassifier(estimators=[(&#x27;Decision Tree&#x27;,\n",
       "                                DecisionTreeClassifier(max_depth=9,\n",
       "                                                       min_samples_leaf=3)),\n",
       "                               (&#x27;KNN&#x27;, KNeighborsClassifier(n_neighbors=35)),\n",
       "                               (&#x27;Random Forest&#x27;,\n",
       "                                RandomForestClassifier(max_depth=9)),\n",
       "                               (&#x27;Ada Boost&#x27;, AdaBoostClassifier()),\n",
       "                               (&#x27;Naive Bayes&#x27;, MultinomialNB())],\n",
       "                   final_estimator=LogisticRegression(C=1),\n",
       "                   stack_method=&#x27;predict_proba&#x27;)</pre><b>In a Jupyter environment, please rerun this cell to show the HTML representation or trust the notebook. <br />On GitHub, the HTML representation is unable to render, please try loading this page with nbviewer.org.</b></div><div class=\"sk-container\" hidden><div class=\"sk-item sk-dashed-wrapped\"><div class=\"sk-label-container\"><div class=\"sk-label sk-toggleable\"><input class=\"sk-toggleable__control sk-hidden--visually\" id=\"sk-estimator-id-7\" type=\"checkbox\" ><label for=\"sk-estimator-id-7\" class=\"sk-toggleable__label sk-toggleable__label-arrow\">StackingClassifier</label><div class=\"sk-toggleable__content\"><pre>StackingClassifier(estimators=[(&#x27;Decision Tree&#x27;,\n",
       "                                DecisionTreeClassifier(max_depth=9,\n",
       "                                                       min_samples_leaf=3)),\n",
       "                               (&#x27;KNN&#x27;, KNeighborsClassifier(n_neighbors=35)),\n",
       "                               (&#x27;Random Forest&#x27;,\n",
       "                                RandomForestClassifier(max_depth=9)),\n",
       "                               (&#x27;Ada Boost&#x27;, AdaBoostClassifier()),\n",
       "                               (&#x27;Naive Bayes&#x27;, MultinomialNB())],\n",
       "                   final_estimator=LogisticRegression(C=1),\n",
       "                   stack_method=&#x27;predict_proba&#x27;)</pre></div></div></div><div class=\"sk-serial\"><div class=\"sk-item\"><div class=\"sk-parallel\"><div class=\"sk-parallel-item\"><div class=\"sk-item\"><div class=\"sk-label-container\"><div class=\"sk-label sk-toggleable\"><label>Decision Tree</label></div></div><div class=\"sk-serial\"><div class=\"sk-item\"><div class=\"sk-estimator sk-toggleable\"><input class=\"sk-toggleable__control sk-hidden--visually\" id=\"sk-estimator-id-8\" type=\"checkbox\" ><label for=\"sk-estimator-id-8\" class=\"sk-toggleable__label sk-toggleable__label-arrow\">DecisionTreeClassifier</label><div class=\"sk-toggleable__content\"><pre>DecisionTreeClassifier(max_depth=9, min_samples_leaf=3)</pre></div></div></div></div></div></div><div class=\"sk-parallel-item\"><div class=\"sk-item\"><div class=\"sk-label-container\"><div class=\"sk-label sk-toggleable\"><label>KNN</label></div></div><div class=\"sk-serial\"><div class=\"sk-item\"><div class=\"sk-estimator sk-toggleable\"><input class=\"sk-toggleable__control sk-hidden--visually\" id=\"sk-estimator-id-9\" type=\"checkbox\" ><label for=\"sk-estimator-id-9\" class=\"sk-toggleable__label sk-toggleable__label-arrow\">KNeighborsClassifier</label><div class=\"sk-toggleable__content\"><pre>KNeighborsClassifier(n_neighbors=35)</pre></div></div></div></div></div></div><div class=\"sk-parallel-item\"><div class=\"sk-item\"><div class=\"sk-label-container\"><div class=\"sk-label sk-toggleable\"><label>Random Forest</label></div></div><div class=\"sk-serial\"><div class=\"sk-item\"><div class=\"sk-estimator sk-toggleable\"><input class=\"sk-toggleable__control sk-hidden--visually\" id=\"sk-estimator-id-10\" type=\"checkbox\" ><label for=\"sk-estimator-id-10\" class=\"sk-toggleable__label sk-toggleable__label-arrow\">RandomForestClassifier</label><div class=\"sk-toggleable__content\"><pre>RandomForestClassifier(max_depth=9)</pre></div></div></div></div></div></div><div class=\"sk-parallel-item\"><div class=\"sk-item\"><div class=\"sk-label-container\"><div class=\"sk-label sk-toggleable\"><label>Ada Boost</label></div></div><div class=\"sk-serial\"><div class=\"sk-item\"><div class=\"sk-estimator sk-toggleable\"><input class=\"sk-toggleable__control sk-hidden--visually\" id=\"sk-estimator-id-11\" type=\"checkbox\" ><label for=\"sk-estimator-id-11\" class=\"sk-toggleable__label sk-toggleable__label-arrow\">AdaBoostClassifier</label><div class=\"sk-toggleable__content\"><pre>AdaBoostClassifier()</pre></div></div></div></div></div></div><div class=\"sk-parallel-item\"><div class=\"sk-item\"><div class=\"sk-label-container\"><div class=\"sk-label sk-toggleable\"><label>Naive Bayes</label></div></div><div class=\"sk-serial\"><div class=\"sk-item\"><div class=\"sk-estimator sk-toggleable\"><input class=\"sk-toggleable__control sk-hidden--visually\" id=\"sk-estimator-id-12\" type=\"checkbox\" ><label for=\"sk-estimator-id-12\" class=\"sk-toggleable__label sk-toggleable__label-arrow\">MultinomialNB</label><div class=\"sk-toggleable__content\"><pre>MultinomialNB()</pre></div></div></div></div></div></div></div></div><div class=\"sk-item\"><div class=\"sk-parallel\"><div class=\"sk-parallel-item\"><div class=\"sk-item\"><div class=\"sk-label-container\"><div class=\"sk-label sk-toggleable\"><label>final_estimator</label></div></div><div class=\"sk-serial\"><div class=\"sk-item\"><div class=\"sk-estimator sk-toggleable\"><input class=\"sk-toggleable__control sk-hidden--visually\" id=\"sk-estimator-id-13\" type=\"checkbox\" ><label for=\"sk-estimator-id-13\" class=\"sk-toggleable__label sk-toggleable__label-arrow\">LogisticRegression</label><div class=\"sk-toggleable__content\"><pre>LogisticRegression(C=1)</pre></div></div></div></div></div></div></div></div></div></div></div></div>"
      ],
      "text/plain": [
       "StackingClassifier(estimators=[('Decision Tree',\n",
       "                                DecisionTreeClassifier(max_depth=9,\n",
       "                                                       min_samples_leaf=3)),\n",
       "                               ('KNN', KNeighborsClassifier(n_neighbors=35)),\n",
       "                               ('Random Forest',\n",
       "                                RandomForestClassifier(max_depth=9)),\n",
       "                               ('Ada Boost', AdaBoostClassifier()),\n",
       "                               ('Naive Bayes', MultinomialNB())],\n",
       "                   final_estimator=LogisticRegression(C=1),\n",
       "                   stack_method='predict_proba')"
      ]
     },
     "execution_count": 50,
     "metadata": {},
     "output_type": "execute_result"
    }
   ],
   "source": [
    "%%time\n",
    "stack_model.fit(x_train_df,y_train)"
   ]
  },
  {
   "cell_type": "code",
   "execution_count": 51,
   "id": "976b63d7",
   "metadata": {},
   "outputs": [],
   "source": [
    "stack_pred_train=stack_model.predict(x_train_df)\n",
    "stack_pred_test=stack_model.predict(x_test_df)\n",
    "stack_train_acc=accuracy_score(stack_pred_train,y_train)\n",
    "stack_test_acc=accuracy_score(stack_pred_test,y_test)"
   ]
  },
  {
   "cell_type": "code",
   "execution_count": 78,
   "id": "291f5c63",
   "metadata": {},
   "outputs": [
    {
     "name": "stdout",
     "output_type": "stream",
     "text": [
      "\u001b[1m\n",
      "Stacking - Training Data\n",
      "\n"
     ]
    },
    {
     "data": {
      "text/html": [
       "<div>\n",
       "<style scoped>\n",
       "    .dataframe tbody tr th:only-of-type {\n",
       "        vertical-align: middle;\n",
       "    }\n",
       "\n",
       "    .dataframe tbody tr th {\n",
       "        vertical-align: top;\n",
       "    }\n",
       "\n",
       "    .dataframe thead th {\n",
       "        text-align: right;\n",
       "    }\n",
       "</style>\n",
       "<table border=\"1\" class=\"dataframe\">\n",
       "  <thead>\n",
       "    <tr style=\"text-align: right;\">\n",
       "      <th></th>\n",
       "      <th>1</th>\n",
       "      <th>2</th>\n",
       "      <th>3</th>\n",
       "      <th>4</th>\n",
       "      <th>5</th>\n",
       "      <th>weighted avg</th>\n",
       "    </tr>\n",
       "  </thead>\n",
       "  <tbody>\n",
       "    <tr>\n",
       "      <th>precision</th>\n",
       "      <td>0.78</td>\n",
       "      <td>0.53</td>\n",
       "      <td>0.36</td>\n",
       "      <td>0.63</td>\n",
       "      <td>0.86</td>\n",
       "      <td>0.72</td>\n",
       "    </tr>\n",
       "    <tr>\n",
       "      <th>recall</th>\n",
       "      <td>0.74</td>\n",
       "      <td>0.53</td>\n",
       "      <td>0.56</td>\n",
       "      <td>0.64</td>\n",
       "      <td>0.79</td>\n",
       "      <td>0.70</td>\n",
       "    </tr>\n",
       "    <tr>\n",
       "      <th>f1-score</th>\n",
       "      <td>0.76</td>\n",
       "      <td>0.53</td>\n",
       "      <td>0.44</td>\n",
       "      <td>0.63</td>\n",
       "      <td>0.82</td>\n",
       "      <td>0.71</td>\n",
       "    </tr>\n",
       "    <tr>\n",
       "      <th>support</th>\n",
       "      <td>1195.00</td>\n",
       "      <td>1441.00</td>\n",
       "      <td>1123.00</td>\n",
       "      <td>4746.00</td>\n",
       "      <td>7887.00</td>\n",
       "      <td>16392.00</td>\n",
       "    </tr>\n",
       "  </tbody>\n",
       "</table>\n",
       "</div>"
      ],
      "text/plain": [
       "                 1        2        3        4        5  weighted avg\n",
       "precision     0.78     0.53     0.36     0.63     0.86          0.72\n",
       "recall        0.74     0.53     0.56     0.64     0.79          0.70\n",
       "f1-score      0.76     0.53     0.44     0.63     0.82          0.71\n",
       "support    1195.00  1441.00  1123.00  4746.00  7887.00      16392.00"
      ]
     },
     "execution_count": 78,
     "metadata": {},
     "output_type": "execute_result"
    }
   ],
   "source": [
    "stack_train=pd.DataFrame.from_dict(classification_report(stack_pred_train,y_train,output_dict=True))[['1','2','3','4','5','weighted avg']]\n",
    "print('\\033[1m'+'\\nStacking - Training Data\\n')\n",
    "stack_train.round(2)"
   ]
  },
  {
   "cell_type": "code",
   "execution_count": 79,
   "id": "1e16b3fc",
   "metadata": {},
   "outputs": [
    {
     "name": "stdout",
     "output_type": "stream",
     "text": [
      "\u001b[1m\n",
      "Stacking - Testing Data\n",
      "\n"
     ]
    },
    {
     "data": {
      "text/html": [
       "<div>\n",
       "<style scoped>\n",
       "    .dataframe tbody tr th:only-of-type {\n",
       "        vertical-align: middle;\n",
       "    }\n",
       "\n",
       "    .dataframe tbody tr th {\n",
       "        vertical-align: top;\n",
       "    }\n",
       "\n",
       "    .dataframe thead th {\n",
       "        text-align: right;\n",
       "    }\n",
       "</style>\n",
       "<table border=\"1\" class=\"dataframe\">\n",
       "  <thead>\n",
       "    <tr style=\"text-align: right;\">\n",
       "      <th></th>\n",
       "      <th>1</th>\n",
       "      <th>2</th>\n",
       "      <th>3</th>\n",
       "      <th>4</th>\n",
       "      <th>5</th>\n",
       "      <th>weighted avg</th>\n",
       "    </tr>\n",
       "  </thead>\n",
       "  <tbody>\n",
       "    <tr>\n",
       "      <th>precision</th>\n",
       "      <td>0.75</td>\n",
       "      <td>0.28</td>\n",
       "      <td>0.01</td>\n",
       "      <td>0.02</td>\n",
       "      <td>0.05</td>\n",
       "      <td>0.57</td>\n",
       "    </tr>\n",
       "    <tr>\n",
       "      <th>recall</th>\n",
       "      <td>0.08</td>\n",
       "      <td>0.08</td>\n",
       "      <td>0.20</td>\n",
       "      <td>0.40</td>\n",
       "      <td>0.65</td>\n",
       "      <td>0.11</td>\n",
       "    </tr>\n",
       "    <tr>\n",
       "      <th>f1-score</th>\n",
       "      <td>0.14</td>\n",
       "      <td>0.13</td>\n",
       "      <td>0.01</td>\n",
       "      <td>0.04</td>\n",
       "      <td>0.09</td>\n",
       "      <td>0.14</td>\n",
       "    </tr>\n",
       "    <tr>\n",
       "      <th>support</th>\n",
       "      <td>2670.00</td>\n",
       "      <td>1211.00</td>\n",
       "      <td>15.00</td>\n",
       "      <td>63.00</td>\n",
       "      <td>140.00</td>\n",
       "      <td>4099.00</td>\n",
       "    </tr>\n",
       "  </tbody>\n",
       "</table>\n",
       "</div>"
      ],
      "text/plain": [
       "                 1        2      3      4       5  weighted avg\n",
       "precision     0.75     0.28   0.01   0.02    0.05          0.57\n",
       "recall        0.08     0.08   0.20   0.40    0.65          0.11\n",
       "f1-score      0.14     0.13   0.01   0.04    0.09          0.14\n",
       "support    2670.00  1211.00  15.00  63.00  140.00       4099.00"
      ]
     },
     "execution_count": 79,
     "metadata": {},
     "output_type": "execute_result"
    }
   ],
   "source": [
    "stack_test=pd.DataFrame.from_dict(classification_report(stack_pred_test,y_test,output_dict=True))[['1','2','3','4','5','weighted avg']]\n",
    "print('\\033[1m'+'\\nStacking - Testing Data\\n')\n",
    "stack_test.round(2)"
   ]
  },
  {
   "cell_type": "code",
   "execution_count": 52,
   "id": "f2bd8270",
   "metadata": {},
   "outputs": [
    {
     "data": {
      "text/plain": [
       "0.71"
      ]
     },
     "execution_count": 52,
     "metadata": {},
     "output_type": "execute_result"
    }
   ],
   "source": [
    "stack_f1_tr=f1_score(stack_pred_train,y_train,average='weighted').round(2)\n",
    "stack_f1_tr"
   ]
  },
  {
   "cell_type": "code",
   "execution_count": 53,
   "id": "bb12e6a1",
   "metadata": {},
   "outputs": [
    {
     "data": {
      "text/plain": [
       "0.14"
      ]
     },
     "execution_count": 53,
     "metadata": {},
     "output_type": "execute_result"
    }
   ],
   "source": [
    "stack_f1_t=f1_score(stack_pred_test,y_test,average='weighted').round(2)\n",
    "stack_f1_t"
   ]
  },
  {
   "cell_type": "code",
   "execution_count": 80,
   "id": "21dbae24",
   "metadata": {},
   "outputs": [
    {
     "data": {
      "image/png": "[encoded data removed]",
      "text/plain": [
       "<Figure size 432x432 with 2 Axes>"
      ]
     },
     "metadata": {
      "needs_background": "light"
     },
     "output_type": "display_data"
    }
   ],
   "source": [
    "# Confusion Matrix for Training Dataset\n",
    "fig,ax = plt.subplots(figsize=(6,6))\n",
    "plot_confusion_matrix(estimator=stack_model,X=x_train_df,y_true=y_train,ax=ax)\n",
    "plt.title('Stacking - Training Data',size=15)\n",
    "plt.show()"
   ]
  },
  {
   "cell_type": "code",
   "execution_count": 81,
   "id": "742ed1ba",
   "metadata": {},
   "outputs": [
    {
     "data": {
      "image/png": "[encoded data removed]",
      "text/plain": [
       "<Figure size 432x432 with 2 Axes>"
      ]
     },
     "metadata": {
      "needs_background": "light"
     },
     "output_type": "display_data"
    }
   ],
   "source": [
    "# Confusion Matrix for Testing Dataset\n",
    "fig,ax = plt.subplots(figsize=(6,6))\n",
    "plot_confusion_matrix(estimator=stack_model,X=x_test_df,y_true=y_test,ax=ax)\n",
    "plt.title('Stacking - Testing Data',size=15)\n",
    "plt.show()"
   ]
  },
  {
   "cell_type": "markdown",
   "id": "1c91023c",
   "metadata": {},
   "source": [
    "### 9. Convolution Neural Network"
   ]
  },
  {
   "cell_type": "code",
   "execution_count": 72,
   "id": "df3e9e59",
   "metadata": {},
   "outputs": [
    {
     "data": {
      "text/plain": [
       "10000"
      ]
     },
     "execution_count": 72,
     "metadata": {},
     "output_type": "execute_result"
    }
   ],
   "source": [
    "input_dim = x_train_df.shape[1]\n",
    "input_dim"
   ]
  },
  {
   "cell_type": "code",
   "execution_count": 73,
   "id": "ac0934cd",
   "metadata": {},
   "outputs": [],
   "source": [
    "y_train_encoded=pd.get_dummies(y_train).to_numpy()\n",
    "y_test_encoded=pd.get_dummies(y_test).to_numpy()"
   ]
  },
  {
   "cell_type": "code",
   "execution_count": 74,
   "id": "749fe85a",
   "metadata": {},
   "outputs": [
    {
     "data": {
      "text/plain": [
       "array([[0, 0, 0, 0, 1],\n",
       "       [0, 0, 0, 1, 0],\n",
       "       [0, 0, 0, 0, 1],\n",
       "       ...,\n",
       "       [0, 1, 0, 0, 0],\n",
       "       [0, 0, 1, 0, 0],\n",
       "       [0, 0, 0, 1, 0]], dtype=uint8)"
      ]
     },
     "execution_count": 74,
     "metadata": {},
     "output_type": "execute_result"
    }
   ],
   "source": [
    "y_train_encoded"
   ]
  },
  {
   "cell_type": "code",
   "execution_count": 75,
   "id": "efb8b7f0",
   "metadata": {},
   "outputs": [],
   "source": [
    "model1=Sequential()\n",
    "model1.add(Dense(units=64,input_dim=input_dim,activation='relu'))\n",
    "model1.add(Dense(units=32,activation='relu'))\n",
    "model1.add(Dense(units=5,activation='softmax'))\n",
    "adam=Adam(learning_rate=0.01)"
   ]
  },
  {
   "cell_type": "code",
   "execution_count": 76,
   "id": "f1a16eb9",
   "metadata": {},
   "outputs": [
    {
     "name": "stdout",
     "output_type": "stream",
     "text": [
      "Model: \"sequential\"\n",
      "_________________________________________________________________\n",
      " Layer (type)                Output Shape              Param #   \n",
      "=================================================================\n",
      " dense (Dense)               (None, 64)                640064    \n",
      "                                                                 \n",
      " dense_1 (Dense)             (None, 32)                2080      \n",
      "                                                                 \n",
      " dense_2 (Dense)             (None, 5)                 165       \n",
      "                                                                 \n",
      "=================================================================\n",
      "Total params: 642,309\n",
      "Trainable params: 642,309\n",
      "Non-trainable params: 0\n",
      "_________________________________________________________________\n"
     ]
    }
   ],
   "source": [
    "model1.summary()"
   ]
  },
  {
   "cell_type": "code",
   "execution_count": 77,
   "id": "cf189a3d",
   "metadata": {},
   "outputs": [],
   "source": [
    "model1.compile(loss='categorical_crossentropy',metrics=['accuracy'],optimizer=adam)"
   ]
  },
  {
   "cell_type": "code",
   "execution_count": 78,
   "id": "b8e36b12",
   "metadata": {},
   "outputs": [
    {
     "name": "stdout",
     "output_type": "stream",
     "text": [
      "Epoch 1/100\n",
      "153/153 - 2s - loss: 0.9770 - accuracy: 0.5695 - val_loss: 0.8692 - val_accuracy: 0.6149 - 2s/epoch - 15ms/step\n",
      "Epoch 2/100\n",
      "153/153 - 2s - loss: 0.5618 - accuracy: 0.7700 - val_loss: 1.0134 - val_accuracy: 0.5750 - 2s/epoch - 10ms/step\n",
      "Epoch 3/100\n",
      "153/153 - 1s - loss: 0.2230 - accuracy: 0.9162 - val_loss: 1.5852 - val_accuracy: 0.5880 - 1s/epoch - 10ms/step\n",
      "Epoch 4/100\n",
      "153/153 - 2s - loss: 0.0695 - accuracy: 0.9761 - val_loss: 2.0764 - val_accuracy: 0.5712 - 2s/epoch - 12ms/step\n",
      "Epoch 5/100\n",
      "153/153 - 1s - loss: 0.0169 - accuracy: 0.9954 - val_loss: 2.6984 - val_accuracy: 0.5750 - 1s/epoch - 9ms/step\n",
      "Epoch 6/100\n",
      "153/153 - 1s - loss: 0.0058 - accuracy: 0.9987 - val_loss: 2.9945 - val_accuracy: 0.5734 - 1s/epoch - 9ms/step\n",
      "Epoch 7/100\n",
      "153/153 - 2s - loss: 0.0020 - accuracy: 0.9997 - val_loss: 3.2439 - val_accuracy: 0.5695 - 2s/epoch - 10ms/step\n",
      "Epoch 8/100\n",
      "153/153 - 1s - loss: 3.8481e-04 - accuracy: 1.0000 - val_loss: 3.3788 - val_accuracy: 0.5685 - 1s/epoch - 9ms/step\n",
      "Epoch 9/100\n",
      "153/153 - 2s - loss: 1.8175e-04 - accuracy: 1.0000 - val_loss: 3.4949 - val_accuracy: 0.5687 - 2s/epoch - 10ms/step\n",
      "Epoch 10/100\n",
      "153/153 - 2s - loss: 1.2819e-04 - accuracy: 1.0000 - val_loss: 3.5865 - val_accuracy: 0.5689 - 2s/epoch - 10ms/step\n",
      "Epoch 11/100\n",
      "153/153 - 2s - loss: 9.6584e-05 - accuracy: 1.0000 - val_loss: 3.6617 - val_accuracy: 0.5687 - 2s/epoch - 11ms/step\n",
      "Epoch 12/100\n",
      "153/153 - 2s - loss: 7.5394e-05 - accuracy: 1.0000 - val_loss: 3.7371 - val_accuracy: 0.5679 - 2s/epoch - 10ms/step\n",
      "Epoch 13/100\n",
      "153/153 - 2s - loss: 6.0705e-05 - accuracy: 1.0000 - val_loss: 3.7994 - val_accuracy: 0.5683 - 2s/epoch - 10ms/step\n",
      "Epoch 14/100\n",
      "153/153 - 2s - loss: 4.9722e-05 - accuracy: 1.0000 - val_loss: 3.8615 - val_accuracy: 0.5687 - 2s/epoch - 10ms/step\n",
      "Epoch 15/100\n",
      "153/153 - 1s - loss: 4.1408e-05 - accuracy: 1.0000 - val_loss: 3.9148 - val_accuracy: 0.5689 - 1s/epoch - 9ms/step\n",
      "Epoch 16/100\n",
      "153/153 - 1s - loss: 3.3735e-05 - accuracy: 1.0000 - val_loss: 4.0228 - val_accuracy: 0.5685 - 1s/epoch - 9ms/step\n",
      "Epoch 17/100\n",
      "153/153 - 1s - loss: 2.4504e-05 - accuracy: 1.0000 - val_loss: 4.1756 - val_accuracy: 0.5671 - 1s/epoch - 9ms/step\n",
      "Epoch 18/100\n",
      "153/153 - 2s - loss: 1.7266e-05 - accuracy: 1.0000 - val_loss: 4.2927 - val_accuracy: 0.5667 - 2s/epoch - 10ms/step\n",
      "Epoch 19/100\n",
      "153/153 - 1s - loss: 1.3355e-05 - accuracy: 1.0000 - val_loss: 4.4335 - val_accuracy: 0.5655 - 1s/epoch - 9ms/step\n",
      "Epoch 20/100\n",
      "153/153 - 1s - loss: 1.0898e-05 - accuracy: 1.0000 - val_loss: 4.4278 - val_accuracy: 0.5661 - 1s/epoch - 10ms/step\n",
      "Epoch 21/100\n",
      "153/153 - 2s - loss: 8.9883e-06 - accuracy: 1.0000 - val_loss: 4.5501 - val_accuracy: 0.5665 - 2s/epoch - 10ms/step\n",
      "Epoch 22/100\n",
      "153/153 - 2s - loss: 7.4292e-06 - accuracy: 1.0000 - val_loss: 4.6599 - val_accuracy: 0.5657 - 2s/epoch - 10ms/step\n",
      "Epoch 23/100\n",
      "153/153 - 1s - loss: 6.1488e-06 - accuracy: 1.0000 - val_loss: 4.7423 - val_accuracy: 0.5655 - 1s/epoch - 9ms/step\n",
      "Epoch 24/100\n",
      "153/153 - 1s - loss: 5.1987e-06 - accuracy: 1.0000 - val_loss: 4.8048 - val_accuracy: 0.5653 - 1s/epoch - 10ms/step\n",
      "Epoch 25/100\n",
      "153/153 - 2s - loss: 4.5499e-06 - accuracy: 1.0000 - val_loss: 4.8316 - val_accuracy: 0.5636 - 2s/epoch - 10ms/step\n",
      "Epoch 26/100\n",
      "153/153 - 1s - loss: 3.9258e-06 - accuracy: 1.0000 - val_loss: 4.9228 - val_accuracy: 0.5645 - 1s/epoch - 10ms/step\n",
      "Epoch 27/100\n",
      "153/153 - 2s - loss: 3.3029e-06 - accuracy: 1.0000 - val_loss: 5.0405 - val_accuracy: 0.5636 - 2s/epoch - 10ms/step\n",
      "Epoch 28/100\n",
      "153/153 - 1s - loss: 2.4860e-06 - accuracy: 1.0000 - val_loss: 5.1589 - val_accuracy: 0.5647 - 1s/epoch - 10ms/step\n",
      "Epoch 29/100\n",
      "153/153 - 1s - loss: 1.8763e-06 - accuracy: 1.0000 - val_loss: 5.2871 - val_accuracy: 0.5649 - 1s/epoch - 10ms/step\n",
      "Epoch 30/100\n",
      "153/153 - 1s - loss: 1.5254e-06 - accuracy: 1.0000 - val_loss: 5.3365 - val_accuracy: 0.5641 - 1s/epoch - 9ms/step\n",
      "Epoch 31/100\n",
      "153/153 - 1s - loss: 1.2631e-06 - accuracy: 1.0000 - val_loss: 5.4509 - val_accuracy: 0.5641 - 1s/epoch - 9ms/step\n",
      "Epoch 32/100\n",
      "153/153 - 1s - loss: 1.0872e-06 - accuracy: 1.0000 - val_loss: 5.5141 - val_accuracy: 0.5645 - 1s/epoch - 9ms/step\n",
      "Epoch 33/100\n",
      "153/153 - 1s - loss: 9.4521e-07 - accuracy: 1.0000 - val_loss: 5.5691 - val_accuracy: 0.5651 - 1s/epoch - 9ms/step\n",
      "Epoch 34/100\n",
      "153/153 - 1s - loss: 8.2692e-07 - accuracy: 1.0000 - val_loss: 5.6603 - val_accuracy: 0.5647 - 1s/epoch - 9ms/step\n",
      "Epoch 35/100\n",
      "153/153 - 1s - loss: 7.3117e-07 - accuracy: 1.0000 - val_loss: 5.6943 - val_accuracy: 0.5649 - 1s/epoch - 9ms/step\n",
      "Epoch 36/100\n",
      "153/153 - 1s - loss: 6.4572e-07 - accuracy: 1.0000 - val_loss: 5.7365 - val_accuracy: 0.5645 - 1s/epoch - 10ms/step\n",
      "Epoch 37/100\n",
      "153/153 - 1s - loss: 5.7575e-07 - accuracy: 1.0000 - val_loss: 5.8157 - val_accuracy: 0.5643 - 1s/epoch - 9ms/step\n",
      "Epoch 38/100\n",
      "153/153 - 1s - loss: 5.1503e-07 - accuracy: 1.0000 - val_loss: 5.8164 - val_accuracy: 0.5624 - 1s/epoch - 9ms/step\n",
      "Epoch 39/100\n",
      "153/153 - 1s - loss: 4.6332e-07 - accuracy: 1.0000 - val_loss: 5.8813 - val_accuracy: 0.5636 - 1s/epoch - 9ms/step\n",
      "Epoch 40/100\n",
      "153/153 - 1s - loss: 4.1545e-07 - accuracy: 1.0000 - val_loss: 5.9070 - val_accuracy: 0.5634 - 1s/epoch - 10ms/step\n",
      "Epoch 41/100\n",
      "153/153 - 1s - loss: 3.7704e-07 - accuracy: 1.0000 - val_loss: 5.9604 - val_accuracy: 0.5626 - 1s/epoch - 9ms/step\n",
      "Epoch 42/100\n",
      "153/153 - 1s - loss: 3.4025e-07 - accuracy: 1.0000 - val_loss: 6.0538 - val_accuracy: 0.5628 - 1s/epoch - 9ms/step\n",
      "Epoch 43/100\n",
      "153/153 - 1s - loss: 3.0891e-07 - accuracy: 1.0000 - val_loss: 6.0900 - val_accuracy: 0.5634 - 1s/epoch - 9ms/step\n",
      "Epoch 44/100\n",
      "153/153 - 1s - loss: 2.7993e-07 - accuracy: 1.0000 - val_loss: 6.1469 - val_accuracy: 0.5620 - 1s/epoch - 9ms/step\n",
      "Epoch 45/100\n",
      "153/153 - 1s - loss: 2.5494e-07 - accuracy: 1.0000 - val_loss: 6.1735 - val_accuracy: 0.5634 - 1s/epoch - 9ms/step\n",
      "Epoch 46/100\n",
      "153/153 - 1s - loss: 2.3054e-07 - accuracy: 1.0000 - val_loss: 6.2262 - val_accuracy: 0.5632 - 1s/epoch - 9ms/step\n",
      "Epoch 47/100\n",
      "153/153 - 1s - loss: 2.0942e-07 - accuracy: 1.0000 - val_loss: 6.2596 - val_accuracy: 0.5630 - 1s/epoch - 9ms/step\n",
      "Epoch 48/100\n",
      "153/153 - 1s - loss: 1.9136e-07 - accuracy: 1.0000 - val_loss: 6.3191 - val_accuracy: 0.5634 - 1s/epoch - 9ms/step\n",
      "Epoch 49/100\n",
      "153/153 - 1s - loss: 1.7468e-07 - accuracy: 1.0000 - val_loss: 6.3352 - val_accuracy: 0.5632 - 1s/epoch - 9ms/step\n",
      "Epoch 50/100\n",
      "153/153 - 1s - loss: 1.5977e-07 - accuracy: 1.0000 - val_loss: 6.3804 - val_accuracy: 0.5624 - 1s/epoch - 9ms/step\n",
      "Epoch 51/100\n",
      "153/153 - 1s - loss: 1.4638e-07 - accuracy: 1.0000 - val_loss: 6.4332 - val_accuracy: 0.5622 - 1s/epoch - 9ms/step\n",
      "Epoch 52/100\n",
      "153/153 - 1s - loss: 1.3396e-07 - accuracy: 1.0000 - val_loss: 6.4622 - val_accuracy: 0.5626 - 1s/epoch - 9ms/step\n",
      "Epoch 53/100\n",
      "153/153 - 1s - loss: 1.2255e-07 - accuracy: 1.0000 - val_loss: 6.5006 - val_accuracy: 0.5622 - 1s/epoch - 9ms/step\n",
      "Epoch 54/100\n",
      "153/153 - 1s - loss: 1.1260e-07 - accuracy: 1.0000 - val_loss: 6.5311 - val_accuracy: 0.5608 - 1s/epoch - 9ms/step\n",
      "Epoch 55/100\n",
      "153/153 - 1s - loss: 1.0352e-07 - accuracy: 1.0000 - val_loss: 6.5772 - val_accuracy: 0.5618 - 1s/epoch - 9ms/step\n",
      "Epoch 56/100\n",
      "153/153 - 1s - loss: 9.4846e-08 - accuracy: 1.0000 - val_loss: 6.6231 - val_accuracy: 0.5612 - 1s/epoch - 9ms/step\n",
      "Epoch 57/100\n",
      "153/153 - 1s - loss: 8.6981e-08 - accuracy: 1.0000 - val_loss: 6.6454 - val_accuracy: 0.5612 - 1s/epoch - 9ms/step\n",
      "Epoch 58/100\n",
      "153/153 - 1s - loss: 8.0041e-08 - accuracy: 1.0000 - val_loss: 6.7040 - val_accuracy: 0.5610 - 1s/epoch - 9ms/step\n",
      "Epoch 59/100\n",
      "153/153 - 1s - loss: 7.3661e-08 - accuracy: 1.0000 - val_loss: 6.7393 - val_accuracy: 0.5606 - 1s/epoch - 9ms/step\n",
      "Epoch 60/100\n",
      "153/153 - 1s - loss: 6.7625e-08 - accuracy: 1.0000 - val_loss: 6.7581 - val_accuracy: 0.5610 - 1s/epoch - 9ms/step\n",
      "Epoch 61/100\n",
      "153/153 - 1s - loss: 6.2316e-08 - accuracy: 1.0000 - val_loss: 6.8204 - val_accuracy: 0.5604 - 1s/epoch - 9ms/step\n",
      "Epoch 62/100\n",
      "153/153 - 1s - loss: 5.6986e-08 - accuracy: 1.0000 - val_loss: 6.8369 - val_accuracy: 0.5598 - 1s/epoch - 9ms/step\n",
      "Epoch 63/100\n",
      "153/153 - 1s - loss: 5.2446e-08 - accuracy: 1.0000 - val_loss: 6.8720 - val_accuracy: 0.5602 - 1s/epoch - 9ms/step\n",
      "Epoch 64/100\n",
      "153/153 - 1s - loss: 4.8259e-08 - accuracy: 1.0000 - val_loss: 6.8900 - val_accuracy: 0.5606 - 1s/epoch - 9ms/step\n",
      "Epoch 65/100\n",
      "153/153 - 1s - loss: 4.4394e-08 - accuracy: 1.0000 - val_loss: 6.9470 - val_accuracy: 0.5600 - 1s/epoch - 9ms/step\n",
      "Epoch 66/100\n",
      "153/153 - 1s - loss: 4.0841e-08 - accuracy: 1.0000 - val_loss: 6.9685 - val_accuracy: 0.5598 - 1s/epoch - 9ms/step\n",
      "Epoch 67/100\n",
      "153/153 - 1s - loss: 3.7433e-08 - accuracy: 1.0000 - val_loss: 7.0152 - val_accuracy: 0.5610 - 1s/epoch - 9ms/step\n",
      "Epoch 68/100\n",
      "153/153 - 1s - loss: 3.4639e-08 - accuracy: 1.0000 - val_loss: 7.0463 - val_accuracy: 0.5606 - 1s/epoch - 9ms/step\n",
      "Epoch 69/100\n",
      "153/153 - 1s - loss: 3.1813e-08 - accuracy: 1.0000 - val_loss: 7.0732 - val_accuracy: 0.5608 - 1s/epoch - 9ms/step\n",
      "Epoch 70/100\n",
      "153/153 - 1s - loss: 2.9163e-08 - accuracy: 1.0000 - val_loss: 7.0960 - val_accuracy: 0.5610 - 1s/epoch - 9ms/step\n",
      "Epoch 71/100\n",
      "153/153 - 1s - loss: 2.6888e-08 - accuracy: 1.0000 - val_loss: 7.1367 - val_accuracy: 0.5608 - 1s/epoch - 9ms/step\n",
      "Epoch 72/100\n",
      "153/153 - 1s - loss: 2.5080e-08 - accuracy: 1.0000 - val_loss: 7.1590 - val_accuracy: 0.5612 - 1s/epoch - 9ms/step\n",
      "Epoch 73/100\n",
      "153/153 - 1s - loss: 2.2919e-08 - accuracy: 1.0000 - val_loss: 7.1741 - val_accuracy: 0.5604 - 1s/epoch - 9ms/step\n",
      "Epoch 74/100\n",
      "153/153 - 1s - loss: 2.1184e-08 - accuracy: 1.0000 - val_loss: 7.2064 - val_accuracy: 0.5606 - 1s/epoch - 9ms/step\n",
      "Epoch 75/100\n",
      "153/153 - 1s - loss: 1.9366e-08 - accuracy: 1.0000 - val_loss: 7.2371 - val_accuracy: 0.5604 - 1s/epoch - 9ms/step\n",
      "Epoch 76/100\n",
      "153/153 - 1s - loss: 1.7849e-08 - accuracy: 1.0000 - val_loss: 7.2777 - val_accuracy: 0.5616 - 1s/epoch - 9ms/step\n",
      "Epoch 77/100\n",
      "153/153 - 2s - loss: 1.6499e-08 - accuracy: 1.0000 - val_loss: 7.2706 - val_accuracy: 0.5620 - 2s/epoch - 11ms/step\n",
      "Epoch 78/100\n",
      "153/153 - 2s - loss: 1.5221e-08 - accuracy: 1.0000 - val_loss: 7.3056 - val_accuracy: 0.5614 - 2s/epoch - 10ms/step\n",
      "Epoch 79/100\n",
      "153/153 - 1s - loss: 1.4265e-08 - accuracy: 1.0000 - val_loss: 7.3406 - val_accuracy: 0.5612 - 1s/epoch - 10ms/step\n",
      "Epoch 80/100\n",
      "153/153 - 1s - loss: 1.3049e-08 - accuracy: 1.0000 - val_loss: 7.3583 - val_accuracy: 0.5610 - 1s/epoch - 10ms/step\n",
      "Epoch 81/100\n",
      "153/153 - 1s - loss: 1.2041e-08 - accuracy: 1.0000 - val_loss: 7.3835 - val_accuracy: 0.5614 - 1s/epoch - 9ms/step\n",
      "Epoch 82/100\n",
      "153/153 - 1s - loss: 1.0982e-08 - accuracy: 1.0000 - val_loss: 7.4219 - val_accuracy: 0.5606 - 1s/epoch - 9ms/step\n",
      "Epoch 83/100\n",
      "153/153 - 1s - loss: 1.0026e-08 - accuracy: 1.0000 - val_loss: 7.4208 - val_accuracy: 0.5612 - 1s/epoch - 9ms/step\n",
      "Epoch 84/100\n",
      "153/153 - 1s - loss: 9.2155e-09 - accuracy: 1.0000 - val_loss: 7.4453 - val_accuracy: 0.5612 - 1s/epoch - 9ms/step\n",
      "Epoch 85/100\n",
      "153/153 - 1s - loss: 8.4363e-09 - accuracy: 1.0000 - val_loss: 7.4750 - val_accuracy: 0.5610 - 1s/epoch - 9ms/step\n",
      "Epoch 86/100\n",
      "153/153 - 1s - loss: 7.7506e-09 - accuracy: 1.0000 - val_loss: 7.4960 - val_accuracy: 0.5610 - 1s/epoch - 9ms/step\n",
      "Epoch 87/100\n",
      "153/153 - 1s - loss: 7.0856e-09 - accuracy: 1.0000 - val_loss: 7.5139 - val_accuracy: 0.5608 - 1s/epoch - 9ms/step\n",
      "Epoch 88/100\n",
      "153/153 - 1s - loss: 6.4207e-09 - accuracy: 1.0000 - val_loss: 7.5386 - val_accuracy: 0.5608 - 1s/epoch - 9ms/step\n",
      "Epoch 89/100\n",
      "153/153 - 1s - loss: 5.9636e-09 - accuracy: 1.0000 - val_loss: 7.5279 - val_accuracy: 0.5616 - 1s/epoch - 9ms/step\n",
      "Epoch 90/100\n",
      "153/153 - 1s - loss: 5.4129e-09 - accuracy: 1.0000 - val_loss: 7.5548 - val_accuracy: 0.5608 - 1s/epoch - 9ms/step\n",
      "Epoch 91/100\n",
      "153/153 - 1s - loss: 5.1013e-09 - accuracy: 1.0000 - val_loss: 7.5747 - val_accuracy: 0.5606 - 1s/epoch - 9ms/step\n",
      "Epoch 92/100\n",
      "153/153 - 1s - loss: 4.5818e-09 - accuracy: 1.0000 - val_loss: 7.5932 - val_accuracy: 0.5606 - 1s/epoch - 10ms/step\n",
      "Epoch 93/100\n",
      "153/153 - 1s - loss: 4.0935e-09 - accuracy: 1.0000 - val_loss: 7.6120 - val_accuracy: 0.5608 - 1s/epoch - 10ms/step\n",
      "Epoch 94/100\n",
      "153/153 - 1s - loss: 3.8441e-09 - accuracy: 1.0000 - val_loss: 7.6257 - val_accuracy: 0.5612 - 1s/epoch - 9ms/step\n",
      "Epoch 95/100\n",
      "153/153 - 1s - loss: 3.4805e-09 - accuracy: 1.0000 - val_loss: 7.6403 - val_accuracy: 0.5608 - 1s/epoch - 9ms/step\n",
      "Epoch 96/100\n",
      "153/153 - 1s - loss: 3.2104e-09 - accuracy: 1.0000 - val_loss: 7.6535 - val_accuracy: 0.5608 - 1s/epoch - 9ms/step\n",
      "Epoch 97/100\n",
      "153/153 - 1s - loss: 2.9506e-09 - accuracy: 1.0000 - val_loss: 7.6764 - val_accuracy: 0.5610 - 1s/epoch - 9ms/step\n",
      "Epoch 98/100\n",
      "153/153 - 1s - loss: 2.6182e-09 - accuracy: 1.0000 - val_loss: 7.6793 - val_accuracy: 0.5612 - 1s/epoch - 9ms/step\n",
      "Epoch 99/100\n",
      "153/153 - 1s - loss: 2.4000e-09 - accuracy: 1.0000 - val_loss: 7.6956 - val_accuracy: 0.5612 - 1s/epoch - 9ms/step\n",
      "Epoch 100/100\n",
      "153/153 - 1s - loss: 2.1195e-09 - accuracy: 1.0000 - val_loss: 7.7144 - val_accuracy: 0.5612 - 1s/epoch - 9ms/step\n"
     ]
    }
   ],
   "source": [
    "#clear_session()\n",
    "model_history1=model1.fit(x_train_df,y_train_encoded,validation_split=0.3,batch_size=75,epochs=100,verbose=2)"
   ]
  },
  {
   "cell_type": "code",
   "execution_count": 79,
   "id": "29f527ab",
   "metadata": {},
   "outputs": [
    {
     "data": {
      "text/plain": [
       "dict_keys(['loss', 'accuracy', 'val_loss', 'val_accuracy'])"
      ]
     },
     "execution_count": 79,
     "metadata": {},
     "output_type": "execute_result"
    }
   ],
   "source": [
    "model_history1.history.keys()"
   ]
  },
  {
   "cell_type": "code",
   "execution_count": 80,
   "id": "50587fbb",
   "metadata": {},
   "outputs": [
    {
     "data": {
      "text/plain": [
       "array([[0, 0, 1, 0, 0],\n",
       "       [0, 0, 1, 0, 0],\n",
       "       [0, 0, 0, 0, 1],\n",
       "       ...,\n",
       "       [0, 0, 0, 0, 1],\n",
       "       [0, 0, 0, 1, 0],\n",
       "       [0, 0, 0, 1, 0]], dtype=uint8)"
      ]
     },
     "execution_count": 80,
     "metadata": {},
     "output_type": "execute_result"
    }
   ],
   "source": [
    "y_test_encoded"
   ]
  },
  {
   "cell_type": "code",
   "execution_count": 81,
   "id": "650e9241",
   "metadata": {},
   "outputs": [
    {
     "name": "stdout",
     "output_type": "stream",
     "text": [
      "129/129 [==============================] - 0s 3ms/step\n"
     ]
    },
    {
     "data": {
      "text/plain": [
       "array([[6.8707622e-19, 5.1512648e-12, 1.3965817e-21, 1.8598390e-05,\n",
       "        9.9998140e-01],\n",
       "       [4.4888884e-13, 3.3473391e-12, 1.4825555e-17, 1.7304994e-12,\n",
       "        1.0000000e+00],\n",
       "       [2.3509009e-20, 3.6218465e-14, 2.2055597e-15, 1.1141763e-09,\n",
       "        1.0000000e+00],\n",
       "       ...,\n",
       "       [1.0902058e-19, 1.1487629e-18, 1.3169336e-24, 3.5007455e-14,\n",
       "        1.0000000e+00],\n",
       "       [7.4766504e-08, 4.1824552e-01, 1.1072817e-06, 9.0932481e-02,\n",
       "        4.9082088e-01],\n",
       "       [1.7914631e-26, 6.9731563e-19, 4.3396372e-26, 4.6923821e-15,\n",
       "        1.0000000e+00]], dtype=float32)"
      ]
     },
     "execution_count": 81,
     "metadata": {},
     "output_type": "execute_result"
    }
   ],
   "source": [
    "y_pred_test=model1.predict(x_test_df)\n",
    "y_pred_test"
   ]
  },
  {
   "cell_type": "code",
   "execution_count": 82,
   "id": "445a2b6e",
   "metadata": {},
   "outputs": [
    {
     "data": {
      "text/plain": [
       "array([[0, 0, 0, 0, 1],\n",
       "       [0, 0, 0, 1, 0],\n",
       "       [0, 0, 0, 0, 1],\n",
       "       ...,\n",
       "       [0, 1, 0, 0, 0],\n",
       "       [0, 0, 1, 0, 0],\n",
       "       [0, 0, 0, 1, 0]], dtype=uint8)"
      ]
     },
     "execution_count": 82,
     "metadata": {},
     "output_type": "execute_result"
    }
   ],
   "source": [
    "y_train_encoded"
   ]
  },
  {
   "cell_type": "code",
   "execution_count": 83,
   "id": "047e5669",
   "metadata": {},
   "outputs": [
    {
     "name": "stdout",
     "output_type": "stream",
     "text": [
      "513/513 [==============================] - 1s 3ms/step\n"
     ]
    },
    {
     "data": {
      "text/plain": [
       "array([[3.3748872e-30, 1.1063127e-22, 3.0815613e-27, 9.3346836e-17,\n",
       "        1.0000000e+00],\n",
       "       [3.1406012e-20, 1.5468747e-09, 1.7075213e-13, 1.0000000e+00,\n",
       "        5.4470100e-18],\n",
       "       [1.4789946e-20, 1.7953983e-17, 3.2921725e-22, 5.0574383e-13,\n",
       "        1.0000000e+00],\n",
       "       ...,\n",
       "       [5.0027481e-08, 5.1116096e-03, 9.9462092e-01, 2.6744403e-04,\n",
       "        2.6236147e-10],\n",
       "       [9.0248468e-13, 2.3619576e-10, 9.9999881e-01, 1.1670260e-06,\n",
       "        9.5617436e-10],\n",
       "       [9.7936999e-15, 1.7228023e-11, 9.9998581e-01, 2.5857705e-10,\n",
       "        1.4225497e-05]], dtype=float32)"
      ]
     },
     "execution_count": 83,
     "metadata": {},
     "output_type": "execute_result"
    }
   ],
   "source": [
    "y_pred_train=model1.predict(x_train_df)\n",
    "y_pred_train"
   ]
  },
  {
   "cell_type": "code",
   "execution_count": 84,
   "id": "e8a4cb3d",
   "metadata": {},
   "outputs": [],
   "source": [
    "y_tr=np.argmax(y_train_encoded, axis=1)+1\n",
    "y_pred_tr=np.argmax(y_pred_train, axis=1)+1\n",
    "y_t=np.argmax(y_test_encoded, axis=1)+1\n",
    "y_pred_t=np.argmax(y_pred_test, axis=1)+1"
   ]
  },
  {
   "cell_type": "code",
   "execution_count": 85,
   "id": "422302fc",
   "metadata": {},
   "outputs": [
    {
     "data": {
      "text/html": [
       "<div>\n",
       "<style scoped>\n",
       "    .dataframe tbody tr th:only-of-type {\n",
       "        vertical-align: middle;\n",
       "    }\n",
       "\n",
       "    .dataframe tbody tr th {\n",
       "        vertical-align: top;\n",
       "    }\n",
       "\n",
       "    .dataframe thead th {\n",
       "        text-align: right;\n",
       "    }\n",
       "</style>\n",
       "<table border=\"1\" class=\"dataframe\">\n",
       "  <thead>\n",
       "    <tr style=\"text-align: right;\">\n",
       "      <th></th>\n",
       "      <th>Actual</th>\n",
       "      <th>Test_Probability</th>\n",
       "      <th>Prediction</th>\n",
       "      <th>Validation</th>\n",
       "    </tr>\n",
       "  </thead>\n",
       "  <tbody>\n",
       "    <tr>\n",
       "      <th>0</th>\n",
       "      <td>5</td>\n",
       "      <td>5</td>\n",
       "      <td>0</td>\n",
       "      <td>True</td>\n",
       "    </tr>\n",
       "    <tr>\n",
       "      <th>1</th>\n",
       "      <td>4</td>\n",
       "      <td>4</td>\n",
       "      <td>0</td>\n",
       "      <td>True</td>\n",
       "    </tr>\n",
       "    <tr>\n",
       "      <th>2</th>\n",
       "      <td>5</td>\n",
       "      <td>5</td>\n",
       "      <td>0</td>\n",
       "      <td>True</td>\n",
       "    </tr>\n",
       "    <tr>\n",
       "      <th>3</th>\n",
       "      <td>5</td>\n",
       "      <td>5</td>\n",
       "      <td>0</td>\n",
       "      <td>True</td>\n",
       "    </tr>\n",
       "    <tr>\n",
       "      <th>4</th>\n",
       "      <td>2</td>\n",
       "      <td>2</td>\n",
       "      <td>0</td>\n",
       "      <td>True</td>\n",
       "    </tr>\n",
       "    <tr>\n",
       "      <th>...</th>\n",
       "      <td>...</td>\n",
       "      <td>...</td>\n",
       "      <td>...</td>\n",
       "      <td>...</td>\n",
       "    </tr>\n",
       "    <tr>\n",
       "      <th>16387</th>\n",
       "      <td>4</td>\n",
       "      <td>5</td>\n",
       "      <td>-1</td>\n",
       "      <td>False</td>\n",
       "    </tr>\n",
       "    <tr>\n",
       "      <th>16388</th>\n",
       "      <td>4</td>\n",
       "      <td>4</td>\n",
       "      <td>0</td>\n",
       "      <td>True</td>\n",
       "    </tr>\n",
       "    <tr>\n",
       "      <th>16389</th>\n",
       "      <td>2</td>\n",
       "      <td>3</td>\n",
       "      <td>-1</td>\n",
       "      <td>False</td>\n",
       "    </tr>\n",
       "    <tr>\n",
       "      <th>16390</th>\n",
       "      <td>3</td>\n",
       "      <td>3</td>\n",
       "      <td>0</td>\n",
       "      <td>True</td>\n",
       "    </tr>\n",
       "    <tr>\n",
       "      <th>16391</th>\n",
       "      <td>4</td>\n",
       "      <td>3</td>\n",
       "      <td>1</td>\n",
       "      <td>False</td>\n",
       "    </tr>\n",
       "  </tbody>\n",
       "</table>\n",
       "<p>16392 rows × 4 columns</p>\n",
       "</div>"
      ],
      "text/plain": [
       "       Actual  Test_Probability  Prediction  Validation\n",
       "0           5                 5           0        True\n",
       "1           4                 4           0        True\n",
       "2           5                 5           0        True\n",
       "3           5                 5           0        True\n",
       "4           2                 2           0        True\n",
       "...       ...               ...         ...         ...\n",
       "16387       4                 5          -1       False\n",
       "16388       4                 4           0        True\n",
       "16389       2                 3          -1       False\n",
       "16390       3                 3           0        True\n",
       "16391       4                 3           1       False\n",
       "\n",
       "[16392 rows x 4 columns]"
      ]
     },
     "execution_count": 85,
     "metadata": {},
     "output_type": "execute_result"
    }
   ],
   "source": [
    "train_predictions=pd.DataFrame()\n",
    "train_predictions['Actual']=pd.Series(y_tr)\n",
    "train_predictions['Test_Probability']=pd.Series(y_pred_tr)\n",
    "train_predictions['Prediction']=train_predictions['Actual']-train_predictions['Test_Probability']\n",
    "train_predictions['Validation']=train_predictions['Prediction'].apply(lambda x: True if x==0 else False)\n",
    "train_predictions"
   ]
  },
  {
   "cell_type": "code",
   "execution_count": 86,
   "id": "934750fa",
   "metadata": {},
   "outputs": [
    {
     "data": {
      "text/plain": [
       "True     14234\n",
       "False     2158\n",
       "Name: Validation, dtype: int64"
      ]
     },
     "execution_count": 86,
     "metadata": {},
     "output_type": "execute_result"
    }
   ],
   "source": [
    "train_predictions['Validation'].value_counts()"
   ]
  },
  {
   "cell_type": "code",
   "execution_count": 87,
   "id": "262e4f4e",
   "metadata": {},
   "outputs": [
    {
     "name": "stdout",
     "output_type": "stream",
     "text": [
      "\u001b[1m\n",
      "Neural Network - Training Data\n",
      "\n"
     ]
    },
    {
     "data": {
      "text/html": [
       "<div>\n",
       "<style scoped>\n",
       "    .dataframe tbody tr th:only-of-type {\n",
       "        vertical-align: middle;\n",
       "    }\n",
       "\n",
       "    .dataframe tbody tr th {\n",
       "        vertical-align: top;\n",
       "    }\n",
       "\n",
       "    .dataframe thead th {\n",
       "        text-align: right;\n",
       "    }\n",
       "</style>\n",
       "<table border=\"1\" class=\"dataframe\">\n",
       "  <thead>\n",
       "    <tr style=\"text-align: right;\">\n",
       "      <th></th>\n",
       "      <th>1</th>\n",
       "      <th>2</th>\n",
       "      <th>3</th>\n",
       "      <th>4</th>\n",
       "      <th>5</th>\n",
       "      <th>weighted avg</th>\n",
       "    </tr>\n",
       "  </thead>\n",
       "  <tbody>\n",
       "    <tr>\n",
       "      <th>precision</th>\n",
       "      <td>0.87</td>\n",
       "      <td>0.80</td>\n",
       "      <td>0.81</td>\n",
       "      <td>0.84</td>\n",
       "      <td>0.91</td>\n",
       "      <td>0.87</td>\n",
       "    </tr>\n",
       "    <tr>\n",
       "      <th>recall</th>\n",
       "      <td>0.88</td>\n",
       "      <td>0.83</td>\n",
       "      <td>0.79</td>\n",
       "      <td>0.84</td>\n",
       "      <td>0.91</td>\n",
       "      <td>0.87</td>\n",
       "    </tr>\n",
       "    <tr>\n",
       "      <th>f1-score</th>\n",
       "      <td>0.87</td>\n",
       "      <td>0.81</td>\n",
       "      <td>0.80</td>\n",
       "      <td>0.84</td>\n",
       "      <td>0.91</td>\n",
       "      <td>0.87</td>\n",
       "    </tr>\n",
       "    <tr>\n",
       "      <th>support</th>\n",
       "      <td>1131.00</td>\n",
       "      <td>1389.00</td>\n",
       "      <td>1799.00</td>\n",
       "      <td>4819.00</td>\n",
       "      <td>7254.00</td>\n",
       "      <td>16392.00</td>\n",
       "    </tr>\n",
       "  </tbody>\n",
       "</table>\n",
       "</div>"
      ],
      "text/plain": [
       "                 1        2        3        4        5  weighted avg\n",
       "precision     0.87     0.80     0.81     0.84     0.91          0.87\n",
       "recall        0.88     0.83     0.79     0.84     0.91          0.87\n",
       "f1-score      0.87     0.81     0.80     0.84     0.91          0.87\n",
       "support    1131.00  1389.00  1799.00  4819.00  7254.00      16392.00"
      ]
     },
     "execution_count": 87,
     "metadata": {},
     "output_type": "execute_result"
    }
   ],
   "source": [
    "cnn_train=pd.DataFrame.from_dict(classification_report(train_predictions['Test_Probability'],train_predictions['Actual'],output_dict=True))[['1','2','3','4','5','weighted avg']]\n",
    "print('\\033[1m'+'\\nNeural Network - Training Data\\n')\n",
    "cnn_train.round(2)"
   ]
  },
  {
   "cell_type": "code",
   "execution_count": 88,
   "id": "f4bf1030",
   "metadata": {},
   "outputs": [
    {
     "data": {
      "image/png": "[encoded data removed]",
      "text/plain": [
       "<Figure size 432x288 with 2 Axes>"
      ]
     },
     "metadata": {
      "needs_background": "light"
     },
     "output_type": "display_data"
    }
   ],
   "source": [
    "sns.heatmap(confusion_matrix(train_predictions['Actual'],train_predictions['Test_Probability']),annot=True,fmt='.0f',\n",
    "            xticklabels=[1,2,3,4,5],yticklabels=[1,2,3,4,5])\n",
    "plt.title('Neural Network - Training Data',size=15)\n",
    "plt.show()"
   ]
  },
  {
   "cell_type": "code",
   "execution_count": 89,
   "id": "824fb34f",
   "metadata": {},
   "outputs": [
    {
     "data": {
      "text/plain": [
       "0.868"
      ]
     },
     "execution_count": 89,
     "metadata": {},
     "output_type": "execute_result"
    }
   ],
   "source": [
    "cnn_train_acc=accuracy_score(train_predictions['Test_Probability'],train_predictions['Actual'])\n",
    "cnn_train_acc.round(3)"
   ]
  },
  {
   "cell_type": "code",
   "execution_count": 90,
   "id": "4cab1083",
   "metadata": {},
   "outputs": [],
   "source": [
    "test_predictions=pd.DataFrame()\n",
    "test_predictions['Actual']=pd.Series(y_t)\n",
    "test_predictions['Test_Probability']=pd.Series(y_pred_t)\n",
    "test_predictions['Prediction']=test_predictions['Actual']-test_predictions['Test_Probability']\n",
    "test_predictions['Validation']=test_predictions['Prediction'].apply(lambda x: True if x==0 else False)\n"
   ]
  },
  {
   "cell_type": "code",
   "execution_count": 91,
   "id": "181edd50",
   "metadata": {},
   "outputs": [
    {
     "data": {
      "text/plain": [
       "False    2476\n",
       "True     1623\n",
       "Name: Validation, dtype: int64"
      ]
     },
     "execution_count": 91,
     "metadata": {},
     "output_type": "execute_result"
    }
   ],
   "source": [
    "test_predictions['Validation'].value_counts()"
   ]
  },
  {
   "cell_type": "code",
   "execution_count": 92,
   "id": "5cea9eee",
   "metadata": {},
   "outputs": [
    {
     "name": "stdout",
     "output_type": "stream",
     "text": [
      "\u001b[1m\n",
      "Neural Network - Testing Data\n",
      "\n"
     ]
    },
    {
     "data": {
      "text/html": [
       "<div>\n",
       "<style scoped>\n",
       "    .dataframe tbody tr th:only-of-type {\n",
       "        vertical-align: middle;\n",
       "    }\n",
       "\n",
       "    .dataframe tbody tr th {\n",
       "        vertical-align: top;\n",
       "    }\n",
       "\n",
       "    .dataframe thead th {\n",
       "        text-align: right;\n",
       "    }\n",
       "</style>\n",
       "<table border=\"1\" class=\"dataframe\">\n",
       "  <thead>\n",
       "    <tr style=\"text-align: right;\">\n",
       "      <th></th>\n",
       "      <th>1</th>\n",
       "      <th>2</th>\n",
       "      <th>3</th>\n",
       "      <th>4</th>\n",
       "      <th>5</th>\n",
       "      <th>weighted avg</th>\n",
       "    </tr>\n",
       "  </thead>\n",
       "  <tbody>\n",
       "    <tr>\n",
       "      <th>precision</th>\n",
       "      <td>0.03</td>\n",
       "      <td>0.03</td>\n",
       "      <td>0.03</td>\n",
       "      <td>0.15</td>\n",
       "      <td>0.78</td>\n",
       "      <td>0.63</td>\n",
       "    </tr>\n",
       "    <tr>\n",
       "      <th>recall</th>\n",
       "      <td>0.18</td>\n",
       "      <td>0.13</td>\n",
       "      <td>0.15</td>\n",
       "      <td>0.27</td>\n",
       "      <td>0.44</td>\n",
       "      <td>0.40</td>\n",
       "    </tr>\n",
       "    <tr>\n",
       "      <th>f1-score</th>\n",
       "      <td>0.05</td>\n",
       "      <td>0.05</td>\n",
       "      <td>0.05</td>\n",
       "      <td>0.20</td>\n",
       "      <td>0.56</td>\n",
       "      <td>0.47</td>\n",
       "    </tr>\n",
       "    <tr>\n",
       "      <th>support</th>\n",
       "      <td>44.00</td>\n",
       "      <td>86.00</td>\n",
       "      <td>89.00</td>\n",
       "      <td>687.00</td>\n",
       "      <td>3193.00</td>\n",
       "      <td>4099.00</td>\n",
       "    </tr>\n",
       "  </tbody>\n",
       "</table>\n",
       "</div>"
      ],
      "text/plain": [
       "               1      2      3       4        5  weighted avg\n",
       "precision   0.03   0.03   0.03    0.15     0.78          0.63\n",
       "recall      0.18   0.13   0.15    0.27     0.44          0.40\n",
       "f1-score    0.05   0.05   0.05    0.20     0.56          0.47\n",
       "support    44.00  86.00  89.00  687.00  3193.00       4099.00"
      ]
     },
     "execution_count": 92,
     "metadata": {},
     "output_type": "execute_result"
    }
   ],
   "source": [
    "cnn_test=pd.DataFrame.from_dict(classification_report(test_predictions['Test_Probability'],test_predictions['Actual'],output_dict=True))[['1','2','3','4','5','weighted avg']]\n",
    "print('\\033[1m'+'\\nNeural Network - Testing Data\\n')\n",
    "cnn_test.round(2)"
   ]
  },
  {
   "cell_type": "code",
   "execution_count": 93,
   "id": "38fb2982",
   "metadata": {},
   "outputs": [
    {
     "data": {
      "image/png": "[encoded data removed]",
      "text/plain": [
       "<Figure size 432x288 with 2 Axes>"
      ]
     },
     "metadata": {
      "needs_background": "light"
     },
     "output_type": "display_data"
    }
   ],
   "source": [
    "sns.heatmap(confusion_matrix(test_predictions['Test_Probability'],test_predictions['Actual']),annot=True,fmt='.0f',\n",
    "            xticklabels=[1,2,3,4,5],yticklabels=[1,2,3,4,5])\n",
    "plt.title('Neural Network - Testing Data',size=15)\n",
    "plt.show()"
   ]
  },
  {
   "cell_type": "code",
   "execution_count": 94,
   "id": "f6c1cd61",
   "metadata": {},
   "outputs": [
    {
     "data": {
      "text/plain": [
       "0.396"
      ]
     },
     "execution_count": 94,
     "metadata": {},
     "output_type": "execute_result"
    }
   ],
   "source": [
    "cnn_test_acc=accuracy_score(test_predictions['Test_Probability'],test_predictions['Actual'])\n",
    "cnn_test_acc.round(3)"
   ]
  },
  {
   "cell_type": "code",
   "execution_count": 95,
   "id": "58dd14c5",
   "metadata": {},
   "outputs": [
    {
     "data": {
      "text/plain": [
       "0.87"
      ]
     },
     "execution_count": 95,
     "metadata": {},
     "output_type": "execute_result"
    }
   ],
   "source": [
    "cnn_f1_tr=f1_score(train_predictions['Test_Probability'],train_predictions['Actual'],average='weighted').round(2)\n",
    "cnn_f1_tr"
   ]
  },
  {
   "cell_type": "code",
   "execution_count": 96,
   "id": "e4612a47",
   "metadata": {},
   "outputs": [
    {
     "data": {
      "text/plain": [
       "0.47"
      ]
     },
     "execution_count": 96,
     "metadata": {},
     "output_type": "execute_result"
    }
   ],
   "source": [
    "cnn_f1_t=f1_score(test_predictions['Test_Probability'],test_predictions['Actual'],average='weighted').round(2)\n",
    "cnn_f1_t"
   ]
  },
  {
   "cell_type": "code",
   "execution_count": 97,
   "id": "6e860f22",
   "metadata": {},
   "outputs": [
    {
     "data": {
      "image/png": "[encoded data removed]",
      "text/plain": [
       "<Figure size 1008x432 with 1 Axes>"
      ]
     },
     "metadata": {
      "needs_background": "light"
     },
     "output_type": "display_data"
    }
   ],
   "source": [
    "plt.figure(figsize=(14,6))\n",
    "plt.plot(model_history1.history['loss'],label = 'Training Loss')\n",
    "plt.plot(model_history1.history['val_loss'],label = 'Test Loss')\n",
    "plt.xlabel('Epochs')\n",
    "plt.ylabel('Loss')\n",
    "plt.title('Model Performance - Training Loss Vs Test Loss',size = 20)\n",
    "plt.legend()\n",
    "plt.show()"
   ]
  },
  {
   "cell_type": "code",
   "execution_count": 98,
   "id": "7ac06094",
   "metadata": {
    "scrolled": true
   },
   "outputs": [
    {
     "data": {
      "image/png": "[encoded data removed]",
      "text/plain": [
       "<Figure size 1008x432 with 1 Axes>"
      ]
     },
     "metadata": {
      "needs_background": "light"
     },
     "output_type": "display_data"
    }
   ],
   "source": [
    "plt.figure(figsize=(14,6))\n",
    "plt.plot(model_history1.history['accuracy'],label = 'Training accuracy')\n",
    "plt.plot(model_history1.history['val_accuracy'],label = 'Test accuracy')\n",
    "plt.xlabel('Epochs')\n",
    "plt.ylabel('accuracy')\n",
    "plt.title('Model Performance - Training accuracy Vs Test accuracy',size = 20)\n",
    "plt.legend()\n",
    "plt.show()"
   ]
  },
  {
   "cell_type": "code",
   "execution_count": 99,
   "id": "7a11b77c",
   "metadata": {},
   "outputs": [
    {
     "data": {
      "image/png": "[encoded data removed]",
      "text/plain": [
       "<Figure size 432x288 with 1 Axes>"
      ]
     },
     "metadata": {
      "needs_background": "light"
     },
     "output_type": "display_data"
    }
   ],
   "source": [
    "plt.hist(train_predictions['Test_Probability'])\n",
    "plt.show()"
   ]
  },
  {
   "cell_type": "code",
   "execution_count": 100,
   "id": "b2bdbb65",
   "metadata": {},
   "outputs": [
    {
     "data": {
      "image/png": "[encoded data removed]",
      "text/plain": [
       "<Figure size 432x288 with 1 Axes>"
      ]
     },
     "metadata": {
      "needs_background": "light"
     },
     "output_type": "display_data"
    }
   ],
   "source": [
    "plt.hist(test_predictions['Test_Probability'])\n",
    "plt.show()"
   ]
  },
  {
   "cell_type": "code",
   "execution_count": 101,
   "id": "d26aefb5",
   "metadata": {},
   "outputs": [],
   "source": [
    "# def base_model():\n",
    "#     model=Sequential()\n",
    "#     model.add(Dense(units=64,input_dim=input_dim,activation='relu'))\n",
    "#     model.add(Dense(units=32,activation='relu'))\n",
    "#     model.add(Dense(units=5,activation='softmax'))\n",
    "#     adam=Adam(learning_rate=0.01)\n",
    "#     model.compile(loss='categorical_crossentropy',metrics=['accuracy'],optimizer=adam)\n",
    "#     return model"
   ]
  },
  {
   "cell_type": "code",
   "execution_count": 102,
   "id": "f6f01679",
   "metadata": {},
   "outputs": [],
   "source": [
    "# estimator = KerasClassifier(build_fn=base_model,verbose=1)\n",
    "# batch_size = [50,75,100,200]\n",
    "# epochs = [25,50,100,200]\n",
    "# param_grid = dict(batch_size=batch_size,epochs=epochs)\n",
    "# grid=GridSearchCV(estimator=estimator,param_grid=param_grid,cv=KFold())"
   ]
  },
  {
   "cell_type": "code",
   "execution_count": 103,
   "id": "c9789b47",
   "metadata": {},
   "outputs": [],
   "source": [
    "# x_train_df.shape"
   ]
  },
  {
   "cell_type": "code",
   "execution_count": 104,
   "id": "e1aa2c04",
   "metadata": {},
   "outputs": [],
   "source": [
    "#clear_session()\n",
    "# grid_results=grid.fit(x_train_df,y_train_encoded,verbose=2)"
   ]
  },
  {
   "cell_type": "code",
   "execution_count": 105,
   "id": "905f768f",
   "metadata": {},
   "outputs": [],
   "source": [
    "# grid_results.best_score_"
   ]
  },
  {
   "cell_type": "code",
   "execution_count": 106,
   "id": "6032258f",
   "metadata": {},
   "outputs": [],
   "source": [
    "# grid_results.best_params_"
   ]
  },
  {
   "cell_type": "markdown",
   "id": "94ea4524",
   "metadata": {},
   "source": [
    "### 10. Xtreme Boosting"
   ]
  },
  {
   "cell_type": "code",
   "execution_count": 54,
   "id": "5deda7be",
   "metadata": {},
   "outputs": [],
   "source": [
    "xgb_model=XGBClassifier(n_estimators=100)"
   ]
  },
  {
   "cell_type": "code",
   "execution_count": 55,
   "id": "bf285467",
   "metadata": {},
   "outputs": [],
   "source": [
    "le=LabelEncoder()\n",
    "le_y_train=le.fit_transform(y_train)\n",
    "le_y_test=le.fit_transform(y_test)"
   ]
  },
  {
   "cell_type": "code",
   "execution_count": 56,
   "id": "a57d96e0",
   "metadata": {},
   "outputs": [
    {
     "name": "stdout",
     "output_type": "stream",
     "text": [
      "Wall time: 14min 41s\n"
     ]
    },
    {
     "data": {
      "text/html": [
       "<style>#sk-container-id-8 {color: black;background-color: white;}#sk-container-id-8 pre{padding: 0;}#sk-container-id-8 div.sk-toggleable {background-color: white;}#sk-container-id-8 label.sk-toggleable__label {cursor: pointer;display: block;width: 100%;margin-bottom: 0;padding: 0.3em;box-sizing: border-box;text-align: center;}#sk-container-id-8 label.sk-toggleable__label-arrow:before {content: \"▸\";float: left;margin-right: 0.25em;color: #696969;}#sk-container-id-8 label.sk-toggleable__label-arrow:hover:before {color: black;}#sk-container-id-8 div.sk-estimator:hover label.sk-toggleable__label-arrow:before {color: black;}#sk-container-id-8 div.sk-toggleable__content {max-height: 0;max-width: 0;overflow: hidden;text-align: left;background-color: #f0f8ff;}#sk-container-id-8 div.sk-toggleable__content pre {margin: 0.2em;color: black;border-radius: 0.25em;background-color: #f0f8ff;}#sk-container-id-8 input.sk-toggleable__control:checked~div.sk-toggleable__content {max-height: 200px;max-width: 100%;overflow: auto;}#sk-container-id-8 input.sk-toggleable__control:checked~label.sk-toggleable__label-arrow:before {content: \"▾\";}#sk-container-id-8 div.sk-estimator input.sk-toggleable__control:checked~label.sk-toggleable__label {background-color: #d4ebff;}#sk-container-id-8 div.sk-label input.sk-toggleable__control:checked~label.sk-toggleable__label {background-color: #d4ebff;}#sk-container-id-8 input.sk-hidden--visually {border: 0;clip: rect(1px 1px 1px 1px);clip: rect(1px, 1px, 1px, 1px);height: 1px;margin: -1px;overflow: hidden;padding: 0;position: absolute;width: 1px;}#sk-container-id-8 div.sk-estimator {font-family: monospace;background-color: #f0f8ff;border: 1px dotted black;border-radius: 0.25em;box-sizing: border-box;margin-bottom: 0.5em;}#sk-container-id-8 div.sk-estimator:hover {background-color: #d4ebff;}#sk-container-id-8 div.sk-parallel-item::after {content: \"\";width: 100%;border-bottom: 1px solid gray;flex-grow: 1;}#sk-container-id-8 div.sk-label:hover label.sk-toggleable__label {background-color: #d4ebff;}#sk-container-id-8 div.sk-serial::before {content: \"\";position: absolute;border-left: 1px solid gray;box-sizing: border-box;top: 0;bottom: 0;left: 50%;z-index: 0;}#sk-container-id-8 div.sk-serial {display: flex;flex-direction: column;align-items: center;background-color: white;padding-right: 0.2em;padding-left: 0.2em;position: relative;}#sk-container-id-8 div.sk-item {position: relative;z-index: 1;}#sk-container-id-8 div.sk-parallel {display: flex;align-items: stretch;justify-content: center;background-color: white;position: relative;}#sk-container-id-8 div.sk-item::before, #sk-container-id-8 div.sk-parallel-item::before {content: \"\";position: absolute;border-left: 1px solid gray;box-sizing: border-box;top: 0;bottom: 0;left: 50%;z-index: -1;}#sk-container-id-8 div.sk-parallel-item {display: flex;flex-direction: column;z-index: 1;position: relative;background-color: white;}#sk-container-id-8 div.sk-parallel-item:first-child::after {align-self: flex-end;width: 50%;}#sk-container-id-8 div.sk-parallel-item:last-child::after {align-self: flex-start;width: 50%;}#sk-container-id-8 div.sk-parallel-item:only-child::after {width: 0;}#sk-container-id-8 div.sk-dashed-wrapped {border: 1px dashed gray;margin: 0 0.4em 0.5em 0.4em;box-sizing: border-box;padding-bottom: 0.4em;background-color: white;}#sk-container-id-8 div.sk-label label {font-family: monospace;font-weight: bold;display: inline-block;line-height: 1.2em;}#sk-container-id-8 div.sk-label-container {text-align: center;}#sk-container-id-8 div.sk-container {/* jupyter's `normalize.less` sets `[hidden] { display: none; }` but bootstrap.min.css set `[hidden] { display: none !important; }` so we also need the `!important` here to be able to override the default hidden behavior on the sphinx rendered scikit-learn.org. See: https://github.com/scikit-learn/scikit-learn/issues/21755 */display: inline-block !important;position: relative;}#sk-container-id-8 div.sk-text-repr-fallback {display: none;}</style><div id=\"sk-container-id-8\" class=\"sk-top-container\"><div class=\"sk-text-repr-fallback\"><pre>XGBClassifier(base_score=0.5, booster=&#x27;gbtree&#x27;, callbacks=None,\n",
       "              colsample_bylevel=1, colsample_bynode=1, colsample_bytree=1,\n",
       "              early_stopping_rounds=None, enable_categorical=False,\n",
       "              eval_metric=None, gamma=0, gpu_id=-1, grow_policy=&#x27;depthwise&#x27;,\n",
       "              importance_type=None, interaction_constraints=&#x27;&#x27;,\n",
       "              learning_rate=0.300000012, max_bin=256, max_cat_to_onehot=4,\n",
       "              max_delta_step=0, max_depth=6, max_leaves=0, min_child_weight=1,\n",
       "              missing=nan, monotone_constraints=&#x27;()&#x27;, n_estimators=100,\n",
       "              n_jobs=0, num_parallel_tree=1, objective=&#x27;multi:softprob&#x27;,\n",
       "              predictor=&#x27;auto&#x27;, random_state=0, reg_alpha=0, ...)</pre><b>In a Jupyter environment, please rerun this cell to show the HTML representation or trust the notebook. <br />On GitHub, the HTML representation is unable to render, please try loading this page with nbviewer.org.</b></div><div class=\"sk-container\" hidden><div class=\"sk-item\"><div class=\"sk-estimator sk-toggleable\"><input class=\"sk-toggleable__control sk-hidden--visually\" id=\"sk-estimator-id-14\" type=\"checkbox\" checked><label for=\"sk-estimator-id-14\" class=\"sk-toggleable__label sk-toggleable__label-arrow\">XGBClassifier</label><div class=\"sk-toggleable__content\"><pre>XGBClassifier(base_score=0.5, booster=&#x27;gbtree&#x27;, callbacks=None,\n",
       "              colsample_bylevel=1, colsample_bynode=1, colsample_bytree=1,\n",
       "              early_stopping_rounds=None, enable_categorical=False,\n",
       "              eval_metric=None, gamma=0, gpu_id=-1, grow_policy=&#x27;depthwise&#x27;,\n",
       "              importance_type=None, interaction_constraints=&#x27;&#x27;,\n",
       "              learning_rate=0.300000012, max_bin=256, max_cat_to_onehot=4,\n",
       "              max_delta_step=0, max_depth=6, max_leaves=0, min_child_weight=1,\n",
       "              missing=nan, monotone_constraints=&#x27;()&#x27;, n_estimators=100,\n",
       "              n_jobs=0, num_parallel_tree=1, objective=&#x27;multi:softprob&#x27;,\n",
       "              predictor=&#x27;auto&#x27;, random_state=0, reg_alpha=0, ...)</pre></div></div></div></div></div>"
      ],
      "text/plain": [
       "XGBClassifier(base_score=0.5, booster='gbtree', callbacks=None,\n",
       "              colsample_bylevel=1, colsample_bynode=1, colsample_bytree=1,\n",
       "              early_stopping_rounds=None, enable_categorical=False,\n",
       "              eval_metric=None, gamma=0, gpu_id=-1, grow_policy='depthwise',\n",
       "              importance_type=None, interaction_constraints='',\n",
       "              learning_rate=0.300000012, max_bin=256, max_cat_to_onehot=4,\n",
       "              max_delta_step=0, max_depth=6, max_leaves=0, min_child_weight=1,\n",
       "              missing=nan, monotone_constraints='()', n_estimators=100,\n",
       "              n_jobs=0, num_parallel_tree=1, objective='multi:softprob',\n",
       "              predictor='auto', random_state=0, reg_alpha=0, ...)"
      ]
     },
     "execution_count": 56,
     "metadata": {},
     "output_type": "execute_result"
    }
   ],
   "source": [
    "%%time\n",
    "xgb_model.fit(x_train_df,le_y_train)"
   ]
  },
  {
   "cell_type": "code",
   "execution_count": 57,
   "id": "fbc244a2",
   "metadata": {},
   "outputs": [],
   "source": [
    "xgb_pred_train=xgb_model.predict(x_train_df)\n",
    "xgb_pred_test=xgb_model.predict(x_test_df)\n",
    "xgb_train_acc=accuracy_score(xgb_pred_train,le_y_train)\n",
    "xgb_test_acc=accuracy_score(xgb_pred_test,le_y_test)"
   ]
  },
  {
   "cell_type": "code",
   "execution_count": 58,
   "id": "173de764",
   "metadata": {},
   "outputs": [
    {
     "name": "stdout",
     "output_type": "stream",
     "text": [
      "0.9130063445583211\n",
      "0.3176384484020493\n"
     ]
    }
   ],
   "source": [
    "print(xgb_train_acc)\n",
    "print(xgb_test_acc)"
   ]
  },
  {
   "cell_type": "code",
   "execution_count": 22,
   "id": "1af43720",
   "metadata": {},
   "outputs": [
    {
     "name": "stdout",
     "output_type": "stream",
     "text": [
      "\u001b[1m\n",
      "Naive Bayes - Training Data\n",
      "\n"
     ]
    },
    {
     "data": {
      "text/html": [
       "<div>\n",
       "<style scoped>\n",
       "    .dataframe tbody tr th:only-of-type {\n",
       "        vertical-align: middle;\n",
       "    }\n",
       "\n",
       "    .dataframe tbody tr th {\n",
       "        vertical-align: top;\n",
       "    }\n",
       "\n",
       "    .dataframe thead th {\n",
       "        text-align: right;\n",
       "    }\n",
       "</style>\n",
       "<table border=\"1\" class=\"dataframe\">\n",
       "  <thead>\n",
       "    <tr style=\"text-align: right;\">\n",
       "      <th></th>\n",
       "      <th>1</th>\n",
       "      <th>2</th>\n",
       "      <th>3</th>\n",
       "      <th>4</th>\n",
       "      <th>5</th>\n",
       "      <th>weighted avg</th>\n",
       "    </tr>\n",
       "  </thead>\n",
       "  <tbody>\n",
       "    <tr>\n",
       "      <th>precision</th>\n",
       "      <td>0.95</td>\n",
       "      <td>0.83</td>\n",
       "      <td>0.78</td>\n",
       "      <td>0.64</td>\n",
       "      <td>0.75</td>\n",
       "      <td>0.80</td>\n",
       "    </tr>\n",
       "    <tr>\n",
       "      <th>recall</th>\n",
       "      <td>0.89</td>\n",
       "      <td>0.75</td>\n",
       "      <td>0.80</td>\n",
       "      <td>0.72</td>\n",
       "      <td>0.79</td>\n",
       "      <td>0.79</td>\n",
       "    </tr>\n",
       "    <tr>\n",
       "      <th>f1-score</th>\n",
       "      <td>0.92</td>\n",
       "      <td>0.79</td>\n",
       "      <td>0.79</td>\n",
       "      <td>0.68</td>\n",
       "      <td>0.77</td>\n",
       "      <td>0.79</td>\n",
       "    </tr>\n",
       "    <tr>\n",
       "      <th>support</th>\n",
       "      <td>7749.00</td>\n",
       "      <td>8030.00</td>\n",
       "      <td>7102.00</td>\n",
       "      <td>6460.00</td>\n",
       "      <td>6874.00</td>\n",
       "      <td>36215.00</td>\n",
       "    </tr>\n",
       "  </tbody>\n",
       "</table>\n",
       "</div>"
      ],
      "text/plain": [
       "                 1        2        3        4        5  weighted avg\n",
       "precision     0.95     0.83     0.78     0.64     0.75          0.80\n",
       "recall        0.89     0.75     0.80     0.72     0.79          0.79\n",
       "f1-score      0.92     0.79     0.79     0.68     0.77          0.79\n",
       "support    7749.00  8030.00  7102.00  6460.00  6874.00      36215.00"
      ]
     },
     "execution_count": 22,
     "metadata": {},
     "output_type": "execute_result"
    }
   ],
   "source": [
    "xgb_train=pd.DataFrame.from_dict(classification_report(xgb_pred_train,y_train,output_dict=True))[['1','2','3','4','5','weighted avg']]\n",
    "print('\\033[1m'+'\\nNaive Bayes - Training Data\\n')\n",
    "xgb_train.round(2)"
   ]
  },
  {
   "cell_type": "code",
   "execution_count": 23,
   "id": "04e29a44",
   "metadata": {},
   "outputs": [
    {
     "name": "stdout",
     "output_type": "stream",
     "text": [
      "\u001b[1m\n",
      "Naive Bayes - Testing Data\n",
      "\n"
     ]
    },
    {
     "data": {
      "text/html": [
       "<div>\n",
       "<style scoped>\n",
       "    .dataframe tbody tr th:only-of-type {\n",
       "        vertical-align: middle;\n",
       "    }\n",
       "\n",
       "    .dataframe tbody tr th {\n",
       "        vertical-align: top;\n",
       "    }\n",
       "\n",
       "    .dataframe thead th {\n",
       "        text-align: right;\n",
       "    }\n",
       "</style>\n",
       "<table border=\"1\" class=\"dataframe\">\n",
       "  <thead>\n",
       "    <tr style=\"text-align: right;\">\n",
       "      <th></th>\n",
       "      <th>1</th>\n",
       "      <th>2</th>\n",
       "      <th>3</th>\n",
       "      <th>4</th>\n",
       "      <th>5</th>\n",
       "      <th>weighted avg</th>\n",
       "    </tr>\n",
       "  </thead>\n",
       "  <tbody>\n",
       "    <tr>\n",
       "      <th>precision</th>\n",
       "      <td>0.02</td>\n",
       "      <td>0.10</td>\n",
       "      <td>0.10</td>\n",
       "      <td>0.24</td>\n",
       "      <td>0.70</td>\n",
       "      <td>0.51</td>\n",
       "    </tr>\n",
       "    <tr>\n",
       "      <th>recall</th>\n",
       "      <td>0.12</td>\n",
       "      <td>0.16</td>\n",
       "      <td>0.15</td>\n",
       "      <td>0.32</td>\n",
       "      <td>0.48</td>\n",
       "      <td>0.40</td>\n",
       "    </tr>\n",
       "    <tr>\n",
       "      <th>f1-score</th>\n",
       "      <td>0.03</td>\n",
       "      <td>0.12</td>\n",
       "      <td>0.12</td>\n",
       "      <td>0.28</td>\n",
       "      <td>0.57</td>\n",
       "      <td>0.44</td>\n",
       "    </tr>\n",
       "    <tr>\n",
       "      <th>support</th>\n",
       "      <td>42.00</td>\n",
       "      <td>225.00</td>\n",
       "      <td>296.00</td>\n",
       "      <td>907.00</td>\n",
       "      <td>2629.00</td>\n",
       "      <td>4099.00</td>\n",
       "    </tr>\n",
       "  </tbody>\n",
       "</table>\n",
       "</div>"
      ],
      "text/plain": [
       "               1       2       3       4        5  weighted avg\n",
       "precision   0.02    0.10    0.10    0.24     0.70          0.51\n",
       "recall      0.12    0.16    0.15    0.32     0.48          0.40\n",
       "f1-score    0.03    0.12    0.12    0.28     0.57          0.44\n",
       "support    42.00  225.00  296.00  907.00  2629.00       4099.00"
      ]
     },
     "execution_count": 23,
     "metadata": {},
     "output_type": "execute_result"
    }
   ],
   "source": [
    "xgb_test=pd.DataFrame.from_dict(classification_report(xgb_pred_test,y_test,output_dict=True))[['1','2','3','4','5','weighted avg']]\n",
    "print('\\033[1m'+'\\nNaive Bayes - Testing Data\\n')\n",
    "xgb_test.round(2)"
   ]
  },
  {
   "cell_type": "code",
   "execution_count": 59,
   "id": "272217b2",
   "metadata": {},
   "outputs": [
    {
     "data": {
      "text/plain": [
       "0.91"
      ]
     },
     "execution_count": 59,
     "metadata": {},
     "output_type": "execute_result"
    }
   ],
   "source": [
    "xgb_f1_tr=f1_score(xgb_pred_train,le_y_train,average='weighted').round(2)\n",
    "xgb_f1_tr"
   ]
  },
  {
   "cell_type": "code",
   "execution_count": 60,
   "id": "56348b4c",
   "metadata": {},
   "outputs": [
    {
     "data": {
      "text/plain": [
       "0.37"
      ]
     },
     "execution_count": 60,
     "metadata": {},
     "output_type": "execute_result"
    }
   ],
   "source": [
    "xgb_f1_t=f1_score(xgb_pred_test,le_y_test,average='weighted').round(2)\n",
    "xgb_f1_t"
   ]
  },
  {
   "cell_type": "code",
   "execution_count": 26,
   "id": "315515b9",
   "metadata": {},
   "outputs": [
    {
     "data": {
      "image/png": "[encoded data removed]",
      "text/plain": [
       "<Figure size 432x432 with 2 Axes>"
      ]
     },
     "metadata": {
      "needs_background": "light"
     },
     "output_type": "display_data"
    }
   ],
   "source": [
    "# Confusion Matrix for Training Dataset\n",
    "fig,ax = plt.subplots(figsize=(6,6))\n",
    "plot_confusion_matrix(estimator=xgb_model,X=x_train_df,y_true=y_train,ax=ax)\n",
    "plt.title('XGB - Training Data',size=15)\n",
    "plt.show()"
   ]
  },
  {
   "cell_type": "code",
   "execution_count": 27,
   "id": "d7d2361c",
   "metadata": {},
   "outputs": [
    {
     "data": {
      "image/png": "[encoded data removed]",
      "text/plain": [
       "<Figure size 432x432 with 2 Axes>"
      ]
     },
     "metadata": {
      "needs_background": "light"
     },
     "output_type": "display_data"
    }
   ],
   "source": [
    "# Confusion Matrix for Testing Dataset\n",
    "fig,ax = plt.subplots(figsize=(6,6))\n",
    "plot_confusion_matrix(estimator=xgb_model,X=x_test_df,y_true=y_test,ax=ax)\n",
    "plt.title('XGB - Testing Data',size=15)\n",
    "plt.show()"
   ]
  },
  {
   "cell_type": "markdown",
   "id": "c7688168",
   "metadata": {},
   "source": [
    "### 11. Light Gradient Boosting"
   ]
  },
  {
   "cell_type": "code",
   "execution_count": 61,
   "id": "2811b267",
   "metadata": {},
   "outputs": [],
   "source": [
    "lgbm_model=LGBMClassifier(n_estimators=100)"
   ]
  },
  {
   "cell_type": "code",
   "execution_count": 62,
   "id": "1f2a2e8a",
   "metadata": {},
   "outputs": [
    {
     "name": "stdout",
     "output_type": "stream",
     "text": [
      "Wall time: 1min 2s\n"
     ]
    },
    {
     "data": {
      "text/html": [
       "<style>#sk-container-id-9 {color: black;background-color: white;}#sk-container-id-9 pre{padding: 0;}#sk-container-id-9 div.sk-toggleable {background-color: white;}#sk-container-id-9 label.sk-toggleable__label {cursor: pointer;display: block;width: 100%;margin-bottom: 0;padding: 0.3em;box-sizing: border-box;text-align: center;}#sk-container-id-9 label.sk-toggleable__label-arrow:before {content: \"▸\";float: left;margin-right: 0.25em;color: #696969;}#sk-container-id-9 label.sk-toggleable__label-arrow:hover:before {color: black;}#sk-container-id-9 div.sk-estimator:hover label.sk-toggleable__label-arrow:before {color: black;}#sk-container-id-9 div.sk-toggleable__content {max-height: 0;max-width: 0;overflow: hidden;text-align: left;background-color: #f0f8ff;}#sk-container-id-9 div.sk-toggleable__content pre {margin: 0.2em;color: black;border-radius: 0.25em;background-color: #f0f8ff;}#sk-container-id-9 input.sk-toggleable__control:checked~div.sk-toggleable__content {max-height: 200px;max-width: 100%;overflow: auto;}#sk-container-id-9 input.sk-toggleable__control:checked~label.sk-toggleable__label-arrow:before {content: \"▾\";}#sk-container-id-9 div.sk-estimator input.sk-toggleable__control:checked~label.sk-toggleable__label {background-color: #d4ebff;}#sk-container-id-9 div.sk-label input.sk-toggleable__control:checked~label.sk-toggleable__label {background-color: #d4ebff;}#sk-container-id-9 input.sk-hidden--visually {border: 0;clip: rect(1px 1px 1px 1px);clip: rect(1px, 1px, 1px, 1px);height: 1px;margin: -1px;overflow: hidden;padding: 0;position: absolute;width: 1px;}#sk-container-id-9 div.sk-estimator {font-family: monospace;background-color: #f0f8ff;border: 1px dotted black;border-radius: 0.25em;box-sizing: border-box;margin-bottom: 0.5em;}#sk-container-id-9 div.sk-estimator:hover {background-color: #d4ebff;}#sk-container-id-9 div.sk-parallel-item::after {content: \"\";width: 100%;border-bottom: 1px solid gray;flex-grow: 1;}#sk-container-id-9 div.sk-label:hover label.sk-toggleable__label {background-color: #d4ebff;}#sk-container-id-9 div.sk-serial::before {content: \"\";position: absolute;border-left: 1px solid gray;box-sizing: border-box;top: 0;bottom: 0;left: 50%;z-index: 0;}#sk-container-id-9 div.sk-serial {display: flex;flex-direction: column;align-items: center;background-color: white;padding-right: 0.2em;padding-left: 0.2em;position: relative;}#sk-container-id-9 div.sk-item {position: relative;z-index: 1;}#sk-container-id-9 div.sk-parallel {display: flex;align-items: stretch;justify-content: center;background-color: white;position: relative;}#sk-container-id-9 div.sk-item::before, #sk-container-id-9 div.sk-parallel-item::before {content: \"\";position: absolute;border-left: 1px solid gray;box-sizing: border-box;top: 0;bottom: 0;left: 50%;z-index: -1;}#sk-container-id-9 div.sk-parallel-item {display: flex;flex-direction: column;z-index: 1;position: relative;background-color: white;}#sk-container-id-9 div.sk-parallel-item:first-child::after {align-self: flex-end;width: 50%;}#sk-container-id-9 div.sk-parallel-item:last-child::after {align-self: flex-start;width: 50%;}#sk-container-id-9 div.sk-parallel-item:only-child::after {width: 0;}#sk-container-id-9 div.sk-dashed-wrapped {border: 1px dashed gray;margin: 0 0.4em 0.5em 0.4em;box-sizing: border-box;padding-bottom: 0.4em;background-color: white;}#sk-container-id-9 div.sk-label label {font-family: monospace;font-weight: bold;display: inline-block;line-height: 1.2em;}#sk-container-id-9 div.sk-label-container {text-align: center;}#sk-container-id-9 div.sk-container {/* jupyter's `normalize.less` sets `[hidden] { display: none; }` but bootstrap.min.css set `[hidden] { display: none !important; }` so we also need the `!important` here to be able to override the default hidden behavior on the sphinx rendered scikit-learn.org. See: https://github.com/scikit-learn/scikit-learn/issues/21755 */display: inline-block !important;position: relative;}#sk-container-id-9 div.sk-text-repr-fallback {display: none;}</style><div id=\"sk-container-id-9\" class=\"sk-top-container\"><div class=\"sk-text-repr-fallback\"><pre>LGBMClassifier()</pre><b>In a Jupyter environment, please rerun this cell to show the HTML representation or trust the notebook. <br />On GitHub, the HTML representation is unable to render, please try loading this page with nbviewer.org.</b></div><div class=\"sk-container\" hidden><div class=\"sk-item\"><div class=\"sk-estimator sk-toggleable\"><input class=\"sk-toggleable__control sk-hidden--visually\" id=\"sk-estimator-id-15\" type=\"checkbox\" checked><label for=\"sk-estimator-id-15\" class=\"sk-toggleable__label sk-toggleable__label-arrow\">LGBMClassifier</label><div class=\"sk-toggleable__content\"><pre>LGBMClassifier()</pre></div></div></div></div></div>"
      ],
      "text/plain": [
       "LGBMClassifier()"
      ]
     },
     "execution_count": 62,
     "metadata": {},
     "output_type": "execute_result"
    }
   ],
   "source": [
    "%%time\n",
    "lgbm_model.fit(x_train_df,y_train)"
   ]
  },
  {
   "cell_type": "code",
   "execution_count": 63,
   "id": "4c9bb231",
   "metadata": {},
   "outputs": [],
   "source": [
    "lgbm_pred_train=lgbm_model.predict(x_train_df)\n",
    "lgbm_pred_test=lgbm_model.predict(x_test_df)\n",
    "lgbm_train_acc=accuracy_score(lgbm_pred_train,y_train)\n",
    "lgbm_test_acc=accuracy_score(lgbm_pred_test,y_test)"
   ]
  },
  {
   "cell_type": "code",
   "execution_count": 64,
   "id": "f939f886",
   "metadata": {},
   "outputs": [
    {
     "name": "stdout",
     "output_type": "stream",
     "text": [
      "0.9125793069790141\n",
      "0.3198341058794828\n"
     ]
    }
   ],
   "source": [
    "print(lgbm_train_acc)\n",
    "print(lgbm_test_acc)"
   ]
  },
  {
   "cell_type": "code",
   "execution_count": 22,
   "id": "a643b4d9",
   "metadata": {},
   "outputs": [
    {
     "name": "stdout",
     "output_type": "stream",
     "text": [
      "\u001b[1m\n",
      "Naive Bayes - Training Data\n",
      "\n"
     ]
    },
    {
     "data": {
      "text/html": [
       "<div>\n",
       "<style scoped>\n",
       "    .dataframe tbody tr th:only-of-type {\n",
       "        vertical-align: middle;\n",
       "    }\n",
       "\n",
       "    .dataframe tbody tr th {\n",
       "        vertical-align: top;\n",
       "    }\n",
       "\n",
       "    .dataframe thead th {\n",
       "        text-align: right;\n",
       "    }\n",
       "</style>\n",
       "<table border=\"1\" class=\"dataframe\">\n",
       "  <thead>\n",
       "    <tr style=\"text-align: right;\">\n",
       "      <th></th>\n",
       "      <th>1</th>\n",
       "      <th>2</th>\n",
       "      <th>3</th>\n",
       "      <th>4</th>\n",
       "      <th>5</th>\n",
       "      <th>weighted avg</th>\n",
       "    </tr>\n",
       "  </thead>\n",
       "  <tbody>\n",
       "    <tr>\n",
       "      <th>precision</th>\n",
       "      <td>0.95</td>\n",
       "      <td>0.83</td>\n",
       "      <td>0.78</td>\n",
       "      <td>0.64</td>\n",
       "      <td>0.75</td>\n",
       "      <td>0.80</td>\n",
       "    </tr>\n",
       "    <tr>\n",
       "      <th>recall</th>\n",
       "      <td>0.89</td>\n",
       "      <td>0.75</td>\n",
       "      <td>0.80</td>\n",
       "      <td>0.72</td>\n",
       "      <td>0.79</td>\n",
       "      <td>0.79</td>\n",
       "    </tr>\n",
       "    <tr>\n",
       "      <th>f1-score</th>\n",
       "      <td>0.92</td>\n",
       "      <td>0.79</td>\n",
       "      <td>0.79</td>\n",
       "      <td>0.68</td>\n",
       "      <td>0.77</td>\n",
       "      <td>0.79</td>\n",
       "    </tr>\n",
       "    <tr>\n",
       "      <th>support</th>\n",
       "      <td>7749.00</td>\n",
       "      <td>8030.00</td>\n",
       "      <td>7102.00</td>\n",
       "      <td>6460.00</td>\n",
       "      <td>6874.00</td>\n",
       "      <td>36215.00</td>\n",
       "    </tr>\n",
       "  </tbody>\n",
       "</table>\n",
       "</div>"
      ],
      "text/plain": [
       "                 1        2        3        4        5  weighted avg\n",
       "precision     0.95     0.83     0.78     0.64     0.75          0.80\n",
       "recall        0.89     0.75     0.80     0.72     0.79          0.79\n",
       "f1-score      0.92     0.79     0.79     0.68     0.77          0.79\n",
       "support    7749.00  8030.00  7102.00  6460.00  6874.00      36215.00"
      ]
     },
     "execution_count": 22,
     "metadata": {},
     "output_type": "execute_result"
    }
   ],
   "source": [
    "lgbm_train=pd.DataFrame.from_dict(classification_report(lgbm_pred_train,y_train,output_dict=True))[['1','2','3','4','5','weighted avg']]\n",
    "print('\\033[1m'+'\\nNaive Bayes - Training Data\\n')\n",
    "lgbm_train.round(2)"
   ]
  },
  {
   "cell_type": "code",
   "execution_count": 23,
   "id": "4038584e",
   "metadata": {},
   "outputs": [
    {
     "name": "stdout",
     "output_type": "stream",
     "text": [
      "\u001b[1m\n",
      "Naive Bayes - Testing Data\n",
      "\n"
     ]
    },
    {
     "data": {
      "text/html": [
       "<div>\n",
       "<style scoped>\n",
       "    .dataframe tbody tr th:only-of-type {\n",
       "        vertical-align: middle;\n",
       "    }\n",
       "\n",
       "    .dataframe tbody tr th {\n",
       "        vertical-align: top;\n",
       "    }\n",
       "\n",
       "    .dataframe thead th {\n",
       "        text-align: right;\n",
       "    }\n",
       "</style>\n",
       "<table border=\"1\" class=\"dataframe\">\n",
       "  <thead>\n",
       "    <tr style=\"text-align: right;\">\n",
       "      <th></th>\n",
       "      <th>1</th>\n",
       "      <th>2</th>\n",
       "      <th>3</th>\n",
       "      <th>4</th>\n",
       "      <th>5</th>\n",
       "      <th>weighted avg</th>\n",
       "    </tr>\n",
       "  </thead>\n",
       "  <tbody>\n",
       "    <tr>\n",
       "      <th>precision</th>\n",
       "      <td>0.02</td>\n",
       "      <td>0.10</td>\n",
       "      <td>0.10</td>\n",
       "      <td>0.24</td>\n",
       "      <td>0.70</td>\n",
       "      <td>0.51</td>\n",
       "    </tr>\n",
       "    <tr>\n",
       "      <th>recall</th>\n",
       "      <td>0.12</td>\n",
       "      <td>0.16</td>\n",
       "      <td>0.15</td>\n",
       "      <td>0.32</td>\n",
       "      <td>0.48</td>\n",
       "      <td>0.40</td>\n",
       "    </tr>\n",
       "    <tr>\n",
       "      <th>f1-score</th>\n",
       "      <td>0.03</td>\n",
       "      <td>0.12</td>\n",
       "      <td>0.12</td>\n",
       "      <td>0.28</td>\n",
       "      <td>0.57</td>\n",
       "      <td>0.44</td>\n",
       "    </tr>\n",
       "    <tr>\n",
       "      <th>support</th>\n",
       "      <td>42.00</td>\n",
       "      <td>225.00</td>\n",
       "      <td>296.00</td>\n",
       "      <td>907.00</td>\n",
       "      <td>2629.00</td>\n",
       "      <td>4099.00</td>\n",
       "    </tr>\n",
       "  </tbody>\n",
       "</table>\n",
       "</div>"
      ],
      "text/plain": [
       "               1       2       3       4        5  weighted avg\n",
       "precision   0.02    0.10    0.10    0.24     0.70          0.51\n",
       "recall      0.12    0.16    0.15    0.32     0.48          0.40\n",
       "f1-score    0.03    0.12    0.12    0.28     0.57          0.44\n",
       "support    42.00  225.00  296.00  907.00  2629.00       4099.00"
      ]
     },
     "execution_count": 23,
     "metadata": {},
     "output_type": "execute_result"
    }
   ],
   "source": [
    "lgbm_test=pd.DataFrame.from_dict(classification_report(lgbm_pred_test,y_test,output_dict=True))[['1','2','3','4','5','weighted avg']]\n",
    "print('\\033[1m'+'\\nNaive Bayes - Testing Data\\n')\n",
    "lgbm_test.round(2)"
   ]
  },
  {
   "cell_type": "code",
   "execution_count": 65,
   "id": "c2363c76",
   "metadata": {},
   "outputs": [
    {
     "data": {
      "text/plain": [
       "0.91"
      ]
     },
     "execution_count": 65,
     "metadata": {},
     "output_type": "execute_result"
    }
   ],
   "source": [
    "lgbm_f1_tr=f1_score(lgbm_pred_train,y_train,average='weighted').round(2)\n",
    "lgbm_f1_tr"
   ]
  },
  {
   "cell_type": "code",
   "execution_count": 66,
   "id": "d8549ad8",
   "metadata": {},
   "outputs": [
    {
     "data": {
      "text/plain": [
       "0.35"
      ]
     },
     "execution_count": 66,
     "metadata": {},
     "output_type": "execute_result"
    }
   ],
   "source": [
    "lgbm_f1_t=f1_score(lgbm_pred_test,y_test,average='weighted').round(2)\n",
    "lgbm_f1_t"
   ]
  },
  {
   "cell_type": "code",
   "execution_count": 26,
   "id": "c2e38ce8",
   "metadata": {},
   "outputs": [
    {
     "data": {
      "image/png": "[encoded data removed]",
      "text/plain": [
       "<Figure size 432x432 with 2 Axes>"
      ]
     },
     "metadata": {
      "needs_background": "light"
     },
     "output_type": "display_data"
    }
   ],
   "source": [
    "# Confusion Matrix for Training Dataset\n",
    "fig,ax = plt.subplots(figsize=(6,6))\n",
    "plot_confusion_matrix(estimator=lgbm_model,X=x_train_df,y_true=y_train,ax=ax)\n",
    "plt.title('LGBM - Training Data',size=15)\n",
    "plt.show()"
   ]
  },
  {
   "cell_type": "code",
   "execution_count": 27,
   "id": "225ec3ec",
   "metadata": {},
   "outputs": [
    {
     "data": {
      "image/png": "[encoded data removed]",
      "text/plain": [
       "<Figure size 432x432 with 2 Axes>"
      ]
     },
     "metadata": {
      "needs_background": "light"
     },
     "output_type": "display_data"
    }
   ],
   "source": [
    "# Confusion Matrix for Testing Dataset\n",
    "fig,ax = plt.subplots(figsize=(6,6))\n",
    "plot_confusion_matrix(estimator=nb_model,X=x_test_df,y_true=y_test,ax=ax)\n",
    "plt.title('LGBM - Testing Data',size=15)\n",
    "plt.show()"
   ]
  },
  {
   "cell_type": "markdown",
   "id": "b8dc3e8c",
   "metadata": {},
   "source": [
    "### Model Evaluation"
   ]
  },
  {
   "cell_type": "code",
   "execution_count": 107,
   "id": "faab8eda",
   "metadata": {},
   "outputs": [
    {
     "name": "stdout",
     "output_type": "stream",
     "text": [
      "\u001b[1m\n",
      "Accuracy Analysis - 10000 Features\n",
      "\n"
     ]
    },
    {
     "data": {
      "text/html": [
       "<div>\n",
       "<style scoped>\n",
       "    .dataframe tbody tr th:only-of-type {\n",
       "        vertical-align: middle;\n",
       "    }\n",
       "\n",
       "    .dataframe tbody tr th {\n",
       "        vertical-align: top;\n",
       "    }\n",
       "\n",
       "    .dataframe thead th {\n",
       "        text-align: right;\n",
       "    }\n",
       "</style>\n",
       "<table border=\"1\" class=\"dataframe\">\n",
       "  <thead>\n",
       "    <tr style=\"text-align: right;\">\n",
       "      <th></th>\n",
       "      <th>Training Accuracy</th>\n",
       "      <th>Testing Accuracy</th>\n",
       "      <th>Accuracy Difference</th>\n",
       "    </tr>\n",
       "    <tr>\n",
       "      <th>Model Name</th>\n",
       "      <th></th>\n",
       "      <th></th>\n",
       "      <th></th>\n",
       "    </tr>\n",
       "  </thead>\n",
       "  <tbody>\n",
       "    <tr>\n",
       "      <th>Random Forest</th>\n",
       "      <td>0.448</td>\n",
       "      <td>0.442</td>\n",
       "      <td>0.006</td>\n",
       "    </tr>\n",
       "    <tr>\n",
       "      <th>Ada Boost</th>\n",
       "      <td>0.551</td>\n",
       "      <td>0.397</td>\n",
       "      <td>0.154</td>\n",
       "    </tr>\n",
       "    <tr>\n",
       "      <th>Decision Tree</th>\n",
       "      <td>0.557</td>\n",
       "      <td>0.419</td>\n",
       "      <td>0.138</td>\n",
       "    </tr>\n",
       "    <tr>\n",
       "      <th>KNN</th>\n",
       "      <td>0.563</td>\n",
       "      <td>0.420</td>\n",
       "      <td>0.144</td>\n",
       "    </tr>\n",
       "    <tr>\n",
       "      <th>Naive Bayes</th>\n",
       "      <td>0.635</td>\n",
       "      <td>0.248</td>\n",
       "      <td>0.387</td>\n",
       "    </tr>\n",
       "    <tr>\n",
       "      <th>Stacking</th>\n",
       "      <td>0.705</td>\n",
       "      <td>0.105</td>\n",
       "      <td>0.599</td>\n",
       "    </tr>\n",
       "    <tr>\n",
       "      <th>Logistic Regression</th>\n",
       "      <td>0.797</td>\n",
       "      <td>0.417</td>\n",
       "      <td>0.380</td>\n",
       "    </tr>\n",
       "    <tr>\n",
       "      <th>Neural Network</th>\n",
       "      <td>0.868</td>\n",
       "      <td>0.396</td>\n",
       "      <td>0.472</td>\n",
       "    </tr>\n",
       "    <tr>\n",
       "      <th>LG Boost</th>\n",
       "      <td>0.913</td>\n",
       "      <td>0.320</td>\n",
       "      <td>0.593</td>\n",
       "    </tr>\n",
       "    <tr>\n",
       "      <th>XG Boost</th>\n",
       "      <td>0.913</td>\n",
       "      <td>0.318</td>\n",
       "      <td>0.595</td>\n",
       "    </tr>\n",
       "    <tr>\n",
       "      <th>SVM</th>\n",
       "      <td>0.960</td>\n",
       "      <td>0.432</td>\n",
       "      <td>0.528</td>\n",
       "    </tr>\n",
       "  </tbody>\n",
       "</table>\n",
       "</div>"
      ],
      "text/plain": [
       "                     Training Accuracy  Testing Accuracy  Accuracy Difference\n",
       "Model Name                                                                   \n",
       "Random Forest                    0.448             0.442                0.006\n",
       "Ada Boost                        0.551             0.397                0.154\n",
       "Decision Tree                    0.557             0.419                0.138\n",
       "KNN                              0.563             0.420                0.144\n",
       "Naive Bayes                      0.635             0.248                0.387\n",
       "Stacking                         0.705             0.105                0.599\n",
       "Logistic Regression              0.797             0.417                0.380\n",
       "Neural Network                   0.868             0.396                0.472\n",
       "LG Boost                         0.913             0.320                0.593\n",
       "XG Boost                         0.913             0.318                0.595\n",
       "SVM                              0.960             0.432                0.528"
      ]
     },
     "execution_count": 107,
     "metadata": {},
     "output_type": "execute_result"
    }
   ],
   "source": [
    "df_Model_analysis = pd.DataFrame(columns=['Training Accuracy','Testing Accuracy','Accuracy Difference'])\n",
    "df_Model_analysis['Model Name'] = pd.Series(['Logistic Regression','Decision Tree','KNN','Random Forest','Ada Boost',\n",
    "                                             'SVM','Naive Bayes','Stacking','Neural Network','XG Boost', 'LG Boost'])\n",
    "df_Model_analysis['Training Accuracy'] = pd.Series([logistic_train_acc,dt_train_acc,knn_train_acc,rf_train_acc,ada_train_acc,\n",
    "                                         svm_train_acc,nb_train_acc,stack_train_acc,cnn_train_acc,xgb_train_acc,lgbm_train_acc])\n",
    "df_Model_analysis['Testing Accuracy'] = pd.Series([logistic_test_acc,dt_test_acc,knn_test_acc,rf_test_acc,ada_test_acc,\n",
    "                                         svm_test_acc,nb_test_acc,stack_test_acc,cnn_test_acc,xgb_test_acc,lgbm_test_acc])\n",
    "df_Model_analysis['Accuracy Difference'] = df_Model_analysis['Training Accuracy'] - df_Model_analysis['Testing Accuracy']\n",
    "df_Model_analysis=df_Model_analysis.set_index('Model Name')\n",
    "df_Model_analysis=df_Model_analysis.sort_values(by=['Training Accuracy','Testing Accuracy'],ascending = [True, True])\n",
    "print('\\033[1m'+'\\nAccuracy Analysis - 10000 Features\\n')\n",
    "df_Model_analysis.round(3)"
   ]
  },
  {
   "cell_type": "code",
   "execution_count": 108,
   "id": "18c2ee59",
   "metadata": {},
   "outputs": [
    {
     "name": "stdout",
     "output_type": "stream",
     "text": [
      "\u001b[1m\n",
      "F1 Score Analysis - 10000 Features\n",
      "\n"
     ]
    },
    {
     "data": {
      "text/html": [
       "<div>\n",
       "<style scoped>\n",
       "    .dataframe tbody tr th:only-of-type {\n",
       "        vertical-align: middle;\n",
       "    }\n",
       "\n",
       "    .dataframe tbody tr th {\n",
       "        vertical-align: top;\n",
       "    }\n",
       "\n",
       "    .dataframe thead th {\n",
       "        text-align: right;\n",
       "    }\n",
       "</style>\n",
       "<table border=\"1\" class=\"dataframe\">\n",
       "  <thead>\n",
       "    <tr style=\"text-align: right;\">\n",
       "      <th></th>\n",
       "      <th>Training F1 Score</th>\n",
       "      <th>Testing F1 Score</th>\n",
       "      <th>F1 Score Difference</th>\n",
       "    </tr>\n",
       "    <tr>\n",
       "      <th>Model Name</th>\n",
       "      <th></th>\n",
       "      <th></th>\n",
       "      <th></th>\n",
       "    </tr>\n",
       "  </thead>\n",
       "  <tbody>\n",
       "    <tr>\n",
       "      <th>Ada Boost</th>\n",
       "      <td>0.57</td>\n",
       "      <td>0.53</td>\n",
       "      <td>0.04</td>\n",
       "    </tr>\n",
       "    <tr>\n",
       "      <th>Decision Tree</th>\n",
       "      <td>0.60</td>\n",
       "      <td>0.57</td>\n",
       "      <td>0.03</td>\n",
       "    </tr>\n",
       "    <tr>\n",
       "      <th>KNN</th>\n",
       "      <td>0.61</td>\n",
       "      <td>0.52</td>\n",
       "      <td>0.09</td>\n",
       "    </tr>\n",
       "    <tr>\n",
       "      <th>Random Forest</th>\n",
       "      <td>0.61</td>\n",
       "      <td>0.61</td>\n",
       "      <td>0.00</td>\n",
       "    </tr>\n",
       "    <tr>\n",
       "      <th>Naive Bayes</th>\n",
       "      <td>0.68</td>\n",
       "      <td>0.23</td>\n",
       "      <td>0.45</td>\n",
       "    </tr>\n",
       "    <tr>\n",
       "      <th>Stacking</th>\n",
       "      <td>0.71</td>\n",
       "      <td>0.14</td>\n",
       "      <td>0.57</td>\n",
       "    </tr>\n",
       "    <tr>\n",
       "      <th>Logistic Regression</th>\n",
       "      <td>0.80</td>\n",
       "      <td>0.52</td>\n",
       "      <td>0.28</td>\n",
       "    </tr>\n",
       "    <tr>\n",
       "      <th>Neural Network</th>\n",
       "      <td>0.87</td>\n",
       "      <td>0.47</td>\n",
       "      <td>0.40</td>\n",
       "    </tr>\n",
       "    <tr>\n",
       "      <th>LG Boost</th>\n",
       "      <td>0.91</td>\n",
       "      <td>0.35</td>\n",
       "      <td>0.56</td>\n",
       "    </tr>\n",
       "    <tr>\n",
       "      <th>XG Boost</th>\n",
       "      <td>0.91</td>\n",
       "      <td>0.37</td>\n",
       "      <td>0.54</td>\n",
       "    </tr>\n",
       "    <tr>\n",
       "      <th>SVM</th>\n",
       "      <td>0.96</td>\n",
       "      <td>0.56</td>\n",
       "      <td>0.40</td>\n",
       "    </tr>\n",
       "  </tbody>\n",
       "</table>\n",
       "</div>"
      ],
      "text/plain": [
       "                     Training F1 Score  Testing F1 Score  F1 Score Difference\n",
       "Model Name                                                                   \n",
       "Ada Boost                         0.57              0.53                 0.04\n",
       "Decision Tree                     0.60              0.57                 0.03\n",
       "KNN                               0.61              0.52                 0.09\n",
       "Random Forest                     0.61              0.61                 0.00\n",
       "Naive Bayes                       0.68              0.23                 0.45\n",
       "Stacking                          0.71              0.14                 0.57\n",
       "Logistic Regression               0.80              0.52                 0.28\n",
       "Neural Network                    0.87              0.47                 0.40\n",
       "LG Boost                          0.91              0.35                 0.56\n",
       "XG Boost                          0.91              0.37                 0.54\n",
       "SVM                               0.96              0.56                 0.40"
      ]
     },
     "execution_count": 108,
     "metadata": {},
     "output_type": "execute_result"
    }
   ],
   "source": [
    "df_f1_analysis = pd.DataFrame(columns=['Training F1 Score','Testing F1 Score','F1 Score Difference'])\n",
    "df_f1_analysis['Model Name'] = pd.Series(['Logistic Regression','Decision Tree','KNN','Random Forest','Ada Boost',\n",
    "                                             'SVM','Naive Bayes','Stacking','Neural Network','XG Boost', 'LG Boost'])\n",
    "df_f1_analysis['Training F1 Score'] = pd.Series([lo_f1_tr,dt_f1_tr,knn_f1_tr,rf_f1_tr,ada_f1_tr,\n",
    "                                                    svm_f1_tr,nb_f1_tr,stack_f1_tr,cnn_f1_tr,xgb_f1_tr,lgbm_f1_tr])\n",
    "df_f1_analysis['Testing F1 Score'] = pd.Series([lo_f1_t,dt_f1_t,knn_f1_t,rf_f1_t,ada_f1_t,\n",
    "                                                    svm_f1_t,nb_f1_t,stack_f1_t,cnn_f1_t,xgb_f1_t,lgbm_f1_t])\n",
    "df_f1_analysis['F1 Score Difference'] = df_f1_analysis['Training F1 Score'] - df_f1_analysis['Testing F1 Score']\n",
    "df_f1_analysis=df_f1_analysis.set_index('Model Name')\n",
    "df_f1_analysis=df_f1_analysis.sort_values(by=['Training F1 Score','Testing F1 Score'],ascending = [True, True])\n",
    "print('\\033[1m'+'\\nF1 Score Analysis - 10000 Features\\n')\n",
    "df_f1_analysis.round(3)"
   ]
  },
  {
   "cell_type": "markdown",
   "id": "2b67943f",
   "metadata": {},
   "source": [
    "### End !!!"
   ]
  }
 ],
 "metadata": {
  "kernelspec": {
   "display_name": "Python 3 (ipykernel)",
   "language": "python",
   "name": "python3"
  },
  "language_info": {
   "codemirror_mode": {
    "name": "ipython",
    "version": 3
   },
   "file_extension": ".py",
   "mimetype": "text/x-python",
   "name": "python",
   "nbconvert_exporter": "python",
   "pygments_lexer": "ipython3",
   "version": "3.9.7"
  }
 },
 "nbformat": 4,
 "nbformat_minor": 5
}
